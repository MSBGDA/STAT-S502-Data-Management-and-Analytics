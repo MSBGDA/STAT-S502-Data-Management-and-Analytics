{
 "cells": [
  {
   "cell_type": "markdown",
   "metadata": {},
   "source": [
    "# K-means clustering"
   ]
  },
  {
   "cell_type": "markdown",
   "metadata": {},
   "source": [
    "Hi everyone, <br />\n",
    "\n",
    "This session deals with k-means clustering. \n",
    "\n",
    "K-means clustering is an algorithm of unsupervised learning that idenfities clusters within a population. <br />\n",
    "\n",
    "It will walk you though the following sections:\n",
    "\n",
    "1. What is unsupervised learning ?\n",
    "2. K-means clustering\n",
    "3. Clustering movie viewers based on movie ratings"
   ]
  },
  {
   "cell_type": "markdown",
   "metadata": {},
   "source": [
    "## 1. What is unsupervised learning ?"
   ]
  },
  {
   "cell_type": "markdown",
   "metadata": {},
   "source": [
    "Unsupervised learning algorithms are used to identify classes within unlabelled dataset. <br>\n",
    "\n",
    "The learning will try to identify hidden structure within the dataset based on its features. <br>"
   ]
  },
  {
   "cell_type": "markdown",
   "metadata": {},
   "source": [
    "## 2. K-means clustering"
   ]
  },
  {
   "cell_type": "markdown",
   "metadata": {},
   "source": [
    "K-means clustering is a method that classifies n observations within k groups. <br>\n",
    "Each observation is classified in the group with the nearest mean. <br>\n",
    "K means are defined by minimizing overall distance between observations and groups' mean. <br>"
   ]
  },
  {
   "cell_type": "markdown",
   "metadata": {},
   "source": [
    "** Run the following lines to visualise 3-means clustering iterates to learn groups' mean **"
   ]
  },
  {
   "cell_type": "code",
   "execution_count": null,
   "metadata": {
    "collapsed": true
   },
   "outputs": [],
   "source": [
    "from IPython.display import Image\n",
    "Image(filename='K-means.png',width=800, height=800)"
   ]
  },
  {
   "cell_type": "markdown",
   "metadata": {},
   "source": [
    "## 3. Clustering movie viewers based on movie ratings"
   ]
  },
  {
   "cell_type": "markdown",
   "metadata": {},
   "source": [
    "** Run the following lines to connect to MongoDB Solvay database **"
   ]
  },
  {
   "cell_type": "code",
   "execution_count": 1,
   "metadata": {
    "collapsed": true
   },
   "outputs": [],
   "source": [
    "from pymongo import MongoClient, errors\n",
    "client = MongoClient()\n",
    "db = client['Solvay']"
   ]
  },
  {
   "cell_type": "markdown",
   "metadata": {},
   "source": [
    "**3.1 Select one movie rating 'from movie_ratings' collection **"
   ]
  },
  {
   "cell_type": "code",
   "execution_count": null,
   "metadata": {
    "collapsed": false
   },
   "outputs": [],
   "source": []
  },
  {
   "cell_type": "markdown",
   "metadata": {},
   "source": [
    "**3.2 What data are available on 'movie_rating' collection ? **"
   ]
  },
  {
   "cell_type": "code",
   "execution_count": null,
   "metadata": {
    "collapsed": true
   },
   "outputs": [],
   "source": []
  },
  {
   "cell_type": "markdown",
   "metadata": {},
   "source": [
    "**3.3 Store viewers' rating lists in a list named data **"
   ]
  },
  {
   "cell_type": "code",
   "execution_count": 21,
   "metadata": {
    "collapsed": false
   },
   "outputs": [],
   "source": []
  },
  {
   "cell_type": "code",
   "execution_count": null,
   "metadata": {
    "collapsed": true
   },
   "outputs": [],
   "source": [
    "import numpy as np\n",
    "data = np.asarray(data)"
   ]
  },
  {
   "cell_type": "markdown",
   "metadata": {},
   "source": [
    "**3.4 Train a 3-means clustering on viewers' ratings **"
   ]
  },
  {
   "cell_type": "code",
   "execution_count": null,
   "metadata": {
    "collapsed": true
   },
   "outputs": [],
   "source": [
    "from sklearn.cluster import KMeans\n",
    "estimator = KMeans(n_clusters=...)\n",
    "estimator_fit = estimator.fit(...)\n",
    "print estimator_fit"
   ]
  },
  {
   "cell_type": "markdown",
   "metadata": {},
   "source": [
    "**3.5 What are the coordinates of the 3 centers on the features space ? **"
   ]
  },
  {
   "cell_type": "code",
   "execution_count": null,
   "metadata": {
    "collapsed": false
   },
   "outputs": [],
   "source": []
  },
  {
   "cell_type": "markdown",
   "metadata": {},
   "source": [
    "**3.6 In which cluster has the fourth viewer been classified ? **"
   ]
  },
  {
   "cell_type": "code",
   "execution_count": null,
   "metadata": {
    "collapsed": false
   },
   "outputs": [],
   "source": []
  },
  {
   "cell_type": "markdown",
   "metadata": {},
   "source": [
    "**3.7 In which cluster has each one of the viewer been classified ? **"
   ]
  },
  {
   "cell_type": "code",
   "execution_count": null,
   "metadata": {
    "collapsed": false
   },
   "outputs": [],
   "source": []
  },
  {
   "cell_type": "markdown",
   "metadata": {},
   "source": [
    "**Compute sum of distances of all samples to their closest cluster mean**"
   ]
  },
  {
   "cell_type": "code",
   "execution_count": null,
   "metadata": {
    "collapsed": false
   },
   "outputs": [],
   "source": []
  },
  {
   "cell_type": "markdown",
   "metadata": {},
   "source": [
    "**The silhouette coefficient** <br>"
   ]
  },
  {
   "cell_type": "markdown",
   "metadata": {},
   "source": [
    "The silhouette coefficient is used to evaluate the quality of a clustering <br>\n",
    "\n",
    "The silhouette coefficient of an observation is defined as: <br>\n",
    "\n",
    "s(i) = (b-a) / max(a,b),\n",
    "\n",
    "where: <br>\n",
    "\n",
    "- a is the mean intra-cluster distance of the observation (how far is the observation from other observations in the cluster)\n",
    "- b is and the mean nearest-cluster distance of the observation (how far is the observation from observations in the nearest other cluster)"
   ]
  },
  {
   "cell_type": "markdown",
   "metadata": {},
   "source": [
    "The silhouette coefficient evaluates how much: \n",
    "- the observation is similar to other observations in the cluster \n",
    "- the observation is dissimilar from observations in other clusters <br>\n",
    "\n",
    "It ranges from -1 (poor clustering) to 1 (effective clustering) <br>\n",
    "\n",
    "The average of all s(i) in the dataset gives a measure of how appropriate is the clustering"
   ]
  },
  {
   "cell_type": "markdown",
   "metadata": {},
   "source": [
    "**3.8 Compute silhouette score for the 3-means clustering ? ** <br>\n",
    "Use euclidean distance to evaluate distance between observations in the features space"
   ]
  },
  {
   "cell_type": "code",
   "execution_count": null,
   "metadata": {
    "collapsed": true
   },
   "outputs": [],
   "source": [
    "from sklearn import metrics\n",
    "silhouette_score = metrics.silhouette_score(np.asarray(...), ..., metric='...')\n",
    "print silhouette_score"
   ]
  },
  {
   "cell_type": "markdown",
   "metadata": {},
   "source": [
    "**3.9 Can you train a 1-mean clustering ? ** <br>"
   ]
  },
  {
   "cell_type": "code",
   "execution_count": null,
   "metadata": {
    "collapsed": true
   },
   "outputs": [],
   "source": []
  },
  {
   "cell_type": "markdown",
   "metadata": {},
   "source": [
    "**3.10 What is the result of a 1-mean clustering ? ** <br>"
   ]
  },
  {
   "cell_type": "code",
   "execution_count": null,
   "metadata": {
    "collapsed": true
   },
   "outputs": [],
   "source": []
  },
  {
   "cell_type": "markdown",
   "metadata": {},
   "source": [
    "**3.11 Can you compute silouhette score of a 1-mean clustering ? ** <br>"
   ]
  },
  {
   "cell_type": "code",
   "execution_count": null,
   "metadata": {
    "collapsed": true
   },
   "outputs": [],
   "source": []
  },
  {
   "cell_type": "markdown",
   "metadata": {},
   "source": [
    "**3.12 Train k-means clustering for k values from 2 to 15 and compute silhouette score for each value of k ? ** <br>\n",
    "Use euclidean distance to evaluate distance between observations in the features space <br>\n",
    "Store k values in a list"
   ]
  },
  {
   "cell_type": "code",
   "execution_count": 38,
   "metadata": {
    "collapsed": false
   },
   "outputs": [],
   "source": [
    "n_clusters = []\n",
    "silhouette = []\n",
    "for i in xrange(...):\n",
    "    if i >= ...:\n",
    "        estimator = KMeans(n_clusters=...)\n",
    "        estimator.fit(data)\n",
    "        labels = estimator.labels_\n",
    "        n_clusters.append(i)\n",
    "        silhouette.append(metrics.silhouette_score(np.asarray(data), labels, metric='...'))"
   ]
  },
  {
   "cell_type": "markdown",
   "metadata": {},
   "source": [
    "**Run the following lines to visualize silouhette score over k values**"
   ]
  },
  {
   "cell_type": "code",
   "execution_count": null,
   "metadata": {
    "collapsed": true
   },
   "outputs": [],
   "source": [
    "import matplotlib.pyplot as plt\n",
    "plt.axis([2, 15, 0, 1])\n",
    "plt.plot(n_clusters, silhouette, 'b--')\n",
    "plt.title('silhouette over number of clusters')\n",
    "\n",
    "plt.show()"
   ]
  },
  {
   "cell_type": "markdown",
   "metadata": {
    "collapsed": true
   },
   "source": [
    "**3.13 What is the value of k that generates the best clustering according to silouhette score ? ** <br>"
   ]
  },
  {
   "cell_type": "code",
   "execution_count": null,
   "metadata": {
    "collapsed": true
   },
   "outputs": [],
   "source": []
  },
  {
   "cell_type": "markdown",
   "metadata": {},
   "source": [
    "**3.14 Predict the group that a new movie viewer with the following movie ratings should belong to **"
   ]
  },
  {
   "cell_type": "code",
   "execution_count": 43,
   "metadata": {
    "collapsed": true
   },
   "outputs": [],
   "source": [
    "viewer_ratings = [[ \n",
    "    4.6, 4.6, 4.9, 0.6, 0.7, 3.7, 4.5, 3.5, 3.7, 4.6, 4.9, 4.3, 0.2, 4.8, 4.7, 4.8, 4.9, 1.6, 1.9, 1.7, 0.6, 4.1, 3.9, \n",
    "    4.6, 4.8, 4.9, 4.9, 0.2, 0.7, 1.5, 4.9, 1.7, 3.3, 3.1, 4.6, 4.8, 4.5, 3.2, 1.6, 1.2, 3.3, 4.6, 4.9, 4.6, 0.8, 4.7, \n",
    "    1.1, 4.8, 4.6, 1, 4.4, 4.6, 4.8, 0, 4.6, 4.8, 4.6, 4.7, 4.7, 4.6, 0, 3.4, 1.1, 4.7, 1.6, 4.9, 5, 4.8, 3.5, 4.6, 0.5, \n",
    "    0.2, 0.2, 0.8, 4.8, 0.2, 4.8, 4.5, 4.8, 1.8, 0.8, 1.5, 4.8, 1.5, 3.6, 4.7, 4.7, 4.3, 4.6, 3.6, 4.7, 1.2, 3, 5, 3.9, \n",
    "    3.3, 4.7, 4.9, 4.5, 4.3 ]]"
   ]
  },
  {
   "cell_type": "code",
   "execution_count": null,
   "metadata": {
    "collapsed": false
   },
   "outputs": [],
   "source": []
  }
 ],
 "metadata": {
  "kernelspec": {
   "display_name": "Python 2",
   "language": "python",
   "name": "python2"
  },
  "language_info": {
   "codemirror_mode": {
    "name": "ipython",
    "version": 2
   },
   "file_extension": ".py",
   "mimetype": "text/x-python",
   "name": "python",
   "nbconvert_exporter": "python",
   "pygments_lexer": "ipython2",
   "version": "2.7.12"
  }
 },
 "nbformat": 4,
 "nbformat_minor": 0
}
