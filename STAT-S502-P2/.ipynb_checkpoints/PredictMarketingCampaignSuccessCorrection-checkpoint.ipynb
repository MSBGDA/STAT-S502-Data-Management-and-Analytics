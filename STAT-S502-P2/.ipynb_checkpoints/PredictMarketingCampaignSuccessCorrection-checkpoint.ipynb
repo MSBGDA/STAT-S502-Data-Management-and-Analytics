{
 "cells": [
  {
   "cell_type": "markdown",
   "metadata": {},
   "source": [
    "## Group Work 2: Predict marketing campaign success"
   ]
  },
  {
   "cell_type": "markdown",
   "metadata": {},
   "source": [
    "** context **"
   ]
  },
  {
   "cell_type": "markdown",
   "metadata": {},
   "source": [
    "You have been contacted by a banking institution that is willing to leverage its data to improve its telemarketing strategy. <br>\n",
    "\n",
    "As it wants to decrease its exposure to international credit markets, the bank decided to launch a telemarketing campaign in order to increase the amount of clients' deposits. Higher level of deposits means lower needs to borrow money on credit markets.<br> \n",
    "\n",
    "The bank has accumulated data from previous telemarketing campaigns and asks you to analyse it to assess whether you can predict which customers are likely to submit a new deposit. If your analysis enables to identify high potential clients, it will allow the bank to allocate its efforts on highest potential clients. <br>\n",
    "\n",
    "In order to tackle that challenge you decided to use machine learning algorithms that you have learned in Data Management & Analytics classes."
   ]
  },
  {
   "cell_type": "markdown",
   "metadata": {},
   "source": [
    "** data **"
   ]
  },
  {
   "cell_type": "markdown",
   "metadata": {},
   "source": [
    "The dataset includes information about calls that took place during previous telemarketing campaigns.\n",
    "\n",
    "- age: age of the client\n",
    "- balance: balance on the client's account (€)\n",
    "- campaign: number of contacts performed during this campaign and for this client\n",
    "- day: day of the month when the call took place\n",
    "- default: whether the client credit in default ('yes':1, 'no':0)\n",
    "- duration: last call duration\n",
    "- education: client's education ('tertiary', 'secondary', 'unknown', 'primary')\n",
    "- housing: whether the client has housing loan ('yes':1, 'no':0)\n",
    "- loan: whether the client has personal loan ('yes':1, 'no':0)\n",
    "- marital: marital status('married':1, 'not married':0)\n",
    "- previous: number of contacts performed before this campaign and for this client\n",
    "- poutcome: outcome of the previous marketing campaign\n",
    "- subscription: whether the client subscribed to a term deposit after the call ('yes':1, 'no':0)."
   ]
  },
  {
   "cell_type": "markdown",
   "metadata": {},
   "source": [
    "** Simply run the following lines to connect to MongoDB database and import python libraries **"
   ]
  },
  {
   "cell_type": "code",
   "execution_count": 1,
   "metadata": {
    "collapsed": false
   },
   "outputs": [],
   "source": [
    "from pymongo import MongoClient\n",
    "client = MongoClient()\n",
    "db = client['Solvay']\n",
    "import matplotlib.pyplot as plt\n",
    "from IPython.display import Image\n",
    "import pydotplus\n",
    "from sklearn import tree\n",
    "from sklearn import svm\n",
    "from sklearn.neighbors import KNeighborsClassifier\n",
    "from sklearn.metrics import precision_score, recall_score"
   ]
  },
  {
   "cell_type": "markdown",
   "metadata": {},
   "source": [
    "** Simply run the following lines to import data in a MongoDB collection named 'direct_calls' **"
   ]
  },
  {
   "cell_type": "code",
   "execution_count": null,
   "metadata": {
    "collapsed": false
   },
   "outputs": [],
   "source": [
    "from Import import ImportDirectCalls\n",
    "ImportDirectCalls = ImportDirectCalls()\n",
    "ImportDirectCalls.import_data()"
   ]
  },
  {
   "cell_type": "markdown",
   "metadata": {},
   "source": [
    "### A. Data preparation"
   ]
  },
  {
   "cell_type": "markdown",
   "metadata": {},
   "source": [
    "** A.1 Select a document from 'direct_calls' collection to have a look at the data **"
   ]
  },
  {
   "cell_type": "code",
   "execution_count": 65,
   "metadata": {
    "collapsed": false
   },
   "outputs": [
    {
     "data": {
      "text/plain": [
       "{u'_id': ObjectId('5903104401651c0e0a48a914'),\n",
       " u'age': 58,\n",
       " u'balance': 2143,\n",
       " u'campaign': 1,\n",
       " u'day': 5,\n",
       " u'default': 0,\n",
       " u'duration': 261,\n",
       " u'education': u'tertiary',\n",
       " u'housing': 1,\n",
       " u'is_employee': 0,\n",
       " u'is_entrepreneur': 0,\n",
       " u'is_manager': 1,\n",
       " u'is_retired': 0,\n",
       " u'is_student': 0,\n",
       " u'is_unemployed': 0,\n",
       " u'job': u'management',\n",
       " u'loan': 0,\n",
       " u'marital': 1,\n",
       " u'poutcome': u'unknown',\n",
       " u'poutcome_is_failure': 0,\n",
       " u'poutcome_is_success': 0,\n",
       " u'poutcome_is_unknown': 1,\n",
       " u'previous': 0,\n",
       " u'subscription': 0}"
      ]
     },
     "execution_count": 65,
     "metadata": {},
     "output_type": "execute_result"
    }
   ],
   "source": [
    "db['direct_calls'].find_one()"
   ]
  },
  {
   "cell_type": "markdown",
   "metadata": {},
   "source": [
    "** A.2 Which variable will you use as output value to perform the supervised learning task ? ** <br>\n",
    "Just name it"
   ]
  },
  {
   "cell_type": "code",
   "execution_count": null,
   "metadata": {
    "collapsed": true
   },
   "outputs": [],
   "source": []
  },
  {
   "cell_type": "markdown",
   "metadata": {},
   "source": [
    "** A.3 Create a list of strings named variables containing features to include in your model ** <br>\n",
    "Select all features that can be used as input in sklearn"
   ]
  },
  {
   "cell_type": "code",
   "execution_count": 67,
   "metadata": {
    "collapsed": true
   },
   "outputs": [],
   "source": [
    "variables = [\n",
    "    \"balance\", \"campaign\", \"default\", \"age\", \"marital\", \"duration\", \"loan\", \"housing\", \"day\", \"previous\", \n",
    "    'poutcome_is_unknown', 'poutcome_is_failure','poutcome_is_success',\n",
    "    'is_entrepreneur', 'is_manager', 'is_retired', 'is_student', 'is_unemployed', 'is_employee'\n",
    "    ]"
   ]
  },
  {
   "cell_type": "markdown",
   "metadata": {},
   "source": [
    "** A.4 Complete the following code to generate a training sample and a testing sample, using a 50/50 split ** <br>"
   ]
  },
  {
   "cell_type": "code",
   "execution_count": 68,
   "metadata": {
    "collapsed": false
   },
   "outputs": [],
   "source": [
    "features_train = []\n",
    "target_train = []\n",
    "features_test = []\n",
    "target_test = []\n",
    "\n",
    "direct_calls_all = db['direct_calls'].find()\n",
    "count = 0\n",
    "for call in direct_calls_all:\n",
    "    count += 1\n",
    "    call_features = []\n",
    "    for feature in variables:\n",
    "        call_features.append(call[feature])\n",
    "    if None not in call and '' not in call_features:\n",
    "        if count % 4 != 0:\n",
    "            features_train.append(call_features)\n",
    "            target_train.append(call['subscription'])\n",
    "        elif count % 4 == 0:\n",
    "            features_test.append(call_features)\n",
    "            target_test.append(call['subscription'])"
   ]
  },
  {
   "cell_type": "markdown",
   "metadata": {},
   "source": [
    "** A.5 Explain why we use training and testing samples in supervised learning tasks ? ** <br>"
   ]
  },
  {
   "cell_type": "code",
   "execution_count": null,
   "metadata": {
    "collapsed": true
   },
   "outputs": [],
   "source": []
  },
  {
   "cell_type": "markdown",
   "metadata": {},
   "source": [
    "### B. Train and evaluate decision tree classifiers"
   ]
  },
  {
   "cell_type": "markdown",
   "metadata": {},
   "source": [
    "** B.1 Train a decision tree on the training sample **\n",
    "\n",
    "- using entropy to measure the quality of a split\n",
    "- having a maximum depth of 1\n",
    "- requiring at least 0.5% of the sample to split an internal node"
   ]
  },
  {
   "cell_type": "code",
   "execution_count": 69,
   "metadata": {
    "collapsed": false
   },
   "outputs": [],
   "source": [
    "clf = tree.DecisionTreeClassifier(criterion='entropy', max_depth=1, min_samples_split=0.005)\n",
    "clf_fit = clf.fit(features_train, target_train)"
   ]
  },
  {
   "cell_type": "markdown",
   "metadata": {},
   "source": [
    "** Run the following lines to visualise the result of B.1 **"
   ]
  },
  {
   "cell_type": "code",
   "execution_count": 70,
   "metadata": {
    "collapsed": false
   },
   "outputs": [
    {
     "data": {
      "image/png": "[encoded data removed]",
      "text/plain": [
       "<IPython.core.display.Image object>"
      ]
     },
     "execution_count": 70,
     "metadata": {},
     "output_type": "execute_result"
    }
   ],
   "source": [
    "tree.export_graphviz(clf_fit, out_file=\"tree.dot\", feature_names=variables)\n",
    "graph = pydotplus.graphviz.graph_from_dot_file(\"tree.dot\")\n",
    "Image(graph.create_png())"
   ]
  },
  {
   "cell_type": "markdown",
   "metadata": {},
   "source": [
    "** B.2 For which subsample will the decision tree show the best predictive accuracy ? ** <br>\n",
    "Answer must be 'left subsample' or 'right subsample'"
   ]
  },
  {
   "cell_type": "code",
   "execution_count": null,
   "metadata": {
    "collapsed": true
   },
   "outputs": [],
   "source": []
  },
  {
   "cell_type": "markdown",
   "metadata": {},
   "source": [
    "** B.3 What will be training accuracy for the subsample containing the least number of observation **"
   ]
  },
  {
   "cell_type": "code",
   "execution_count": null,
   "metadata": {
    "collapsed": true
   },
   "outputs": [],
   "source": []
  },
  {
   "cell_type": "markdown",
   "metadata": {},
   "source": [
    "** B.4 Will this decision tree be effective in predicting highest potential clients ? ** <br>\n",
    "Explain your answer"
   ]
  },
  {
   "cell_type": "code",
   "execution_count": null,
   "metadata": {
    "collapsed": true
   },
   "outputs": [],
   "source": []
  },
  {
   "cell_type": "markdown",
   "metadata": {},
   "source": [
    "** B.5 Complete the following code to evaluate decision tree predictive accuracy over complexity. ** <br>\n",
    "\n",
    "- train several decision trees with maximum depths from 1 to 20\n",
    "- compute both training and testing accuracies for each maximum depth and store them in lists\n",
    "- use entropy to measure the quality of a split\n",
    "- require at least 0.5% of the sample to split an internal node"
   ]
  },
  {
   "cell_type": "code",
   "execution_count": 71,
   "metadata": {
    "collapsed": false
   },
   "outputs": [],
   "source": [
    "max_depths = [1,2,3,4,5,6,7,8,9,10,11,12,13,14,15,16,17,18,19,20]\n",
    "training_accuracies = []\n",
    "testing_accuracies = []\n",
    "\n",
    "for max_depth in max_depths:\n",
    "    \n",
    "    clf = tree.DecisionTreeClassifier(criterion='entropy', max_depth=max_depth, min_samples_split=0.01)\n",
    "    clf_fit = clf.fit(features_train, target_train)\n",
    "    \n",
    "    prediction_training = clf_fit.predict(features_train)\n",
    "    training_accuracy = clf_fit.score(features_train, target_train)\n",
    "    training_accuracies.append(training_accuracy)\n",
    "    \n",
    "    prediction_testing = clf_fit.predict(features_test)\n",
    "    testing_accuracy = clf_fit.score(features_test, target_test)\n",
    "    testing_accuracies.append(testing_accuracy)"
   ]
  },
  {
   "cell_type": "markdown",
   "metadata": {},
   "source": [
    "** Run the following lines to plot training and testing accuracies over maximum depth ** <br>"
   ]
  },
  {
   "cell_type": "code",
   "execution_count": 72,
   "metadata": {
    "collapsed": false,
    "scrolled": true
   },
   "outputs": [
    {
     "data": {
      "image/png": "[encoded data removed]",
      "text/plain": [
       "<matplotlib.figure.Figure at 0xae18782c>"
      ]
     },
     "metadata": {},
     "output_type": "display_data"
    }
   ],
   "source": [
    "plt.axis([0, 20, 0.7, 1])\n",
    "plt.plot(max_depths, training_accuracies, 'rs', max_depths, testing_accuracies, 'bs')\n",
    "plt.title('training & testing accuracies')\n",
    "plt.show()"
   ]
  },
  {
   "cell_type": "markdown",
   "metadata": {},
   "source": [
    "** B.6 Based on the plot, identify the following values: ** <br>\n",
    "\n",
    "- maximum depth(s) for which the decision tree is underfitting\n",
    "- maximum depth(s) for which the decision tree is overfitting\n",
    "- optimal maximum depth"
   ]
  },
  {
   "cell_type": "markdown",
   "metadata": {},
   "source": []
  },
  {
   "cell_type": "markdown",
   "metadata": {},
   "source": [
    "** B.7 Train a decision tree on the training sample **\n",
    "\n",
    "- using the optimal maximum depth identified in B.6\n",
    "- using entropy to measure the quality of a split\n",
    "- requiring at least 0.5% of the sample to split an internal node"
   ]
  },
  {
   "cell_type": "code",
   "execution_count": 73,
   "metadata": {
    "collapsed": false
   },
   "outputs": [],
   "source": [
    "clf = tree.DecisionTreeClassifier(criterion='entropy', max_depth=6, min_samples_split=0.005)\n",
    "clf_fit = clf.fit(features_train, target_train)"
   ]
  },
  {
   "cell_type": "markdown",
   "metadata": {},
   "source": [
    "** B.8 Use that tree to predict output values on the testing sample ** <br>\n",
    "print first 100 predictions"
   ]
  },
  {
   "cell_type": "code",
   "execution_count": 74,
   "metadata": {
    "collapsed": false
   },
   "outputs": [
    {
     "name": "stdout",
     "output_type": "stream",
     "text": [
      "[0 0 0 0 0 0 0 0 0 0 1 0 0 0 1 0 0 0 0 0 1 1 0 0 0 0 0 0 0 0 0 0 0 0 0 0 0\n",
      " 0 0 0 0 0 0 0 0 0 1 0 0 0 0 0 0 0 0 0 0 0 0 0 0 0 0 0 0 0 0 1 0 0 0 0 0 0\n",
      " 0 0 0 0 0 0 0 0 0 0 0 0 0 0 0 0 0 0 0 0 0 0 0 0 0 0]\n"
     ]
    }
   ],
   "source": [
    "predictions = clf_fit.predict(features_test)\n",
    "print predictions[0:100]"
   ]
  },
  {
   "cell_type": "markdown",
   "metadata": {},
   "source": [
    "** B.9 Evaluate accuracy of this prediction ** <br>\n",
    "print the result"
   ]
  },
  {
   "cell_type": "code",
   "execution_count": 75,
   "metadata": {
    "collapsed": false
   },
   "outputs": [
    {
     "name": "stdout",
     "output_type": "stream",
     "text": [
      "0.901964254114\n"
     ]
    }
   ],
   "source": [
    "testing_accuracy = clf_fit.score(features_test, target_test)\n",
    "print testing_accuracy"
   ]
  },
  {
   "cell_type": "markdown",
   "metadata": {},
   "source": [
    "### C. Train and evaluate support vector machine classifiers"
   ]
  },
  {
   "cell_type": "markdown",
   "metadata": {},
   "source": [
    "**C.1 Train a non linear SVM on training sample**\n",
    "\n",
    "- with a penalty parameter C of 1\n",
    "- a gamma value of 10"
   ]
  },
  {
   "cell_type": "code",
   "execution_count": null,
   "metadata": {
    "collapsed": true
   },
   "outputs": [],
   "source": [
    "svc = svm.SVC(C=1, gamma=10)\n",
    "svc_fit = svc.fit(features_train, target_train)"
   ]
  },
  {
   "cell_type": "markdown",
   "metadata": {},
   "source": [
    "**C.2 Comment processing time of training a non linear SVM on a sample of this size **"
   ]
  },
  {
   "cell_type": "code",
   "execution_count": null,
   "metadata": {
    "collapsed": true
   },
   "outputs": [],
   "source": []
  },
  {
   "cell_type": "markdown",
   "metadata": {},
   "source": [
    "### D. Train and evaluate k-nearest neighbors classifiers"
   ]
  },
  {
   "cell_type": "markdown",
   "metadata": {},
   "source": [
    "**D.1 Train a k-nearest neighbors on training sample**\n",
    "\n",
    "- using 1 nearest neighbor"
   ]
  },
  {
   "cell_type": "code",
   "execution_count": 76,
   "metadata": {
    "collapsed": false
   },
   "outputs": [],
   "source": [
    "clf = KNeighborsClassifier(n_neighbors=1)\n",
    "clf_fit = clf.fit(features_train, target_train)"
   ]
  },
  {
   "cell_type": "markdown",
   "metadata": {},
   "source": [
    "**D.2 Compute predictive accuracy on training and testing samples for the KNN with 1 nearest neighbor**"
   ]
  },
  {
   "cell_type": "code",
   "execution_count": 77,
   "metadata": {
    "collapsed": false
   },
   "outputs": [
    {
     "name": "stdout",
     "output_type": "stream",
     "text": [
      "1.0\n",
      "0.817642895063\n"
     ]
    }
   ],
   "source": [
    "training_accuracy = clf_fit.score(features_train, target_train)\n",
    "testing_accuracy = clf_fit.score(features_test, target_test)\n",
    "print training_accuracy\n",
    "print testing_accuracy"
   ]
  },
  {
   "cell_type": "markdown",
   "metadata": {},
   "source": [
    "**D.3 Compare training and testing accuracies**"
   ]
  },
  {
   "cell_type": "markdown",
   "metadata": {},
   "source": []
  },
  {
   "cell_type": "markdown",
   "metadata": {},
   "source": [
    "**D.4 Explain why training accuracy for a KNN with 1 nearest neighbor is high**"
   ]
  },
  {
   "cell_type": "code",
   "execution_count": null,
   "metadata": {
    "collapsed": true
   },
   "outputs": [],
   "source": []
  },
  {
   "cell_type": "markdown",
   "metadata": {},
   "source": [
    "** D.5 Complete the following code to evaluate KNN predictive accuracy over complexity ** <br>\n",
    "\n",
    "- train several KNNs with number of nearest neighbors from 1 to 20\n",
    "- compute both training and testing accuracies for each number of nearest neighbors and store them in lists"
   ]
  },
  {
   "cell_type": "code",
   "execution_count": 78,
   "metadata": {
    "collapsed": false
   },
   "outputs": [],
   "source": [
    "kneighboors = [1,2,3,4,5,6,7,8,9,10,11,12,13,14,15,16,17,18,19,20]\n",
    "training_accuracies = []\n",
    "testing_accuracies = []\n",
    "training_precisions = []\n",
    "testing_precisions = []\n",
    "\n",
    "for kneighboor in kneighboors:\n",
    "    \n",
    "    clf = KNeighborsClassifier(n_neighbors=kneighboor)\n",
    "    clf_fit = clf.fit(features_train, target_train)\n",
    "    \n",
    "    prediction_training = clf_fit.predict(features_train)\n",
    "    training_accuracy = clf_fit.score(features_train, target_train)\n",
    "    training_accuracies.append(training_accuracy)\n",
    "    \n",
    "    prediction_testing = clf_fit.predict(features_test)\n",
    "    testing_accuracy = clf_fit.score(features_test, target_test)\n",
    "    testing_accuracies.append(testing_accuracy)"
   ]
  },
  {
   "cell_type": "markdown",
   "metadata": {},
   "source": [
    "** Run the following lines to plot training and testing accuracies over number of nearest neighbors ** <br>"
   ]
  },
  {
   "cell_type": "code",
   "execution_count": 79,
   "metadata": {
    "collapsed": false
   },
   "outputs": [
    {
     "data": {
      "image/png": "[encoded data removed]",
      "text/plain": [
       "<matplotlib.figure.Figure at 0xae18762c>"
      ]
     },
     "metadata": {},
     "output_type": "display_data"
    }
   ],
   "source": [
    "import matplotlib.pyplot as plt\n",
    "plt.axis([0, 20, 0.7, 1])\n",
    "plt.plot(kneighboors, training_accuracies, 'rs', kneighboors, testing_accuracies, 'bs')\n",
    "plt.title('training & testing accuracies')\n",
    "plt.show()"
   ]
  },
  {
   "cell_type": "markdown",
   "metadata": {},
   "source": [
    "** D.6 Based on the plot, identify the following values: ** <br>\n",
    "\n",
    "- number of nearest neighbors for which the KNN is underfitting\n",
    "- number of nearest neighbors for which the KNN is overfitting\n",
    "- optimal number of nearest neighbors"
   ]
  },
  {
   "cell_type": "code",
   "execution_count": null,
   "metadata": {
    "collapsed": true
   },
   "outputs": [],
   "source": []
  },
  {
   "cell_type": "markdown",
   "metadata": {},
   "source": [
    "** D.7 Train a KNN on the training sample **\n",
    "\n",
    "- using the optimal number of nearest neighbors identified in D.6"
   ]
  },
  {
   "cell_type": "code",
   "execution_count": 80,
   "metadata": {
    "collapsed": true
   },
   "outputs": [],
   "source": [
    "clf = KNeighborsClassifier(n_neighbors=8)\n",
    "clf_fit = clf.fit(features_train, target_train)"
   ]
  },
  {
   "cell_type": "markdown",
   "metadata": {},
   "source": [
    "** D.8 Use that knn to predict output values on the testing sample ** <br>\n",
    "print first 100 predictions"
   ]
  },
  {
   "cell_type": "code",
   "execution_count": 81,
   "metadata": {
    "collapsed": false
   },
   "outputs": [
    {
     "name": "stdout",
     "output_type": "stream",
     "text": [
      "[0 0 0 0 0 0 0 0 0 0 1 0 0 0 1 0 0 0 0 0 1 1 0 0 0 0 0 0 0 0 0 0 0 0 0 0 0\n",
      " 0 0 0 1 0 0 0 0 0 0 0 0 0 0 0 0 0 0 0 0 0 0 0 0 0 0 0 0 0 0 0 0 0 0 0 0 0\n",
      " 0 0 0 0 0 0 0 0 0 0 0 0 0 0 0 0 0 0 0 0 0 0 0 0 0 0]\n"
     ]
    }
   ],
   "source": [
    "predictions = clf_fit.predict(features_test)\n",
    "print predictions[0:100]"
   ]
  },
  {
   "cell_type": "markdown",
   "metadata": {},
   "source": [
    "** D.9 Evaluate accuracy of this prediction ** <br>\n",
    "print the result"
   ]
  },
  {
   "cell_type": "code",
   "execution_count": 82,
   "metadata": {
    "collapsed": false
   },
   "outputs": [
    {
     "name": "stdout",
     "output_type": "stream",
     "text": [
      "0.863033091488\n"
     ]
    }
   ],
   "source": [
    "testing_accuracy = clf_fit.score(features_test, target_test)\n",
    "print testing_accuracy"
   ]
  },
  {
   "cell_type": "markdown",
   "metadata": {},
   "source": [
    "### E. Predict clients that are the most likely to subscribe to a term deposit"
   ]
  },
  {
   "cell_type": "markdown",
   "metadata": {},
   "source": [
    "** E.1 Compare decision tree, support vector machine and k-nearest neighbors classifiers on: ** <br>\n",
    "\n",
    "- predictive accuracy (testing accuracy of optimal complexity)\n",
    "- processing time ('affordable' or 'not affordable')\n",
    "- ability to estimate class probability for a new observation ('yes', 'no')"
   ]
  },
  {
   "cell_type": "markdown",
   "metadata": {},
   "source": [
    "**Decision tree classifiers**"
   ]
  },
  {
   "cell_type": "markdown",
   "metadata": {},
   "source": [
    "- predictive accuracy: 0.90\n",
    "- processing time: 'affordable'\n",
    "- can output class probability: 'yes'"
   ]
  },
  {
   "cell_type": "markdown",
   "metadata": {},
   "source": [
    "**Support vector machine classifiers (non linear)**"
   ]
  },
  {
   "cell_type": "markdown",
   "metadata": {},
   "source": [
    "- predictive accuracy: NA\n",
    "- processing time: 'not affordable'\n",
    "- can output class probability: 'no'"
   ]
  },
  {
   "cell_type": "markdown",
   "metadata": {},
   "source": [
    "**K-nearest neighbors classifiers**"
   ]
  },
  {
   "cell_type": "markdown",
   "metadata": {},
   "source": [
    "- predictive accuracy: 0.86\n",
    "- processing time: 'affordable'\n",
    "- can output class probability: 'yes'"
   ]
  },
  {
   "cell_type": "markdown",
   "metadata": {},
   "source": [
    "** E.2 Based on this comparaison, which classifier would you choose to estimate probability to subscribe to a term deposit ?** <br>"
   ]
  },
  {
   "cell_type": "markdown",
   "metadata": {},
   "source": []
  },
  {
   "cell_type": "markdown",
   "metadata": {},
   "source": [
    "** E.3 Use this classifier to estimate probability to subscribe a term deposit for each client from the testing sample: ** <br>\n",
    "print first 100 class probabilities"
   ]
  },
  {
   "cell_type": "code",
   "execution_count": 83,
   "metadata": {
    "collapsed": true
   },
   "outputs": [
    {
     "name": "stdout",
     "output_type": "stream",
     "text": [
      "[[ 0.97827463  0.02172537]\n",
      " [ 0.94130594  0.05869406]\n",
      " [ 0.97827463  0.02172537]\n",
      " [ 0.94130594  0.05869406]\n",
      " [ 0.99827487  0.00172513]\n",
      " [ 0.94130594  0.05869406]\n",
      " [ 0.97827463  0.02172537]\n",
      " [ 0.97594612  0.02405388]\n",
      " [ 0.97594612  0.02405388]\n",
      " [ 0.97827463  0.02172537]\n",
      " [ 0.42236699  0.57763301]\n",
      " [ 0.97594612  0.02405388]\n",
      " [ 0.97594612  0.02405388]\n",
      " [ 0.88500993  0.11499007]\n",
      " [ 0.42236699  0.57763301]\n",
      " [ 0.94130594  0.05869406]\n",
      " [ 0.97594612  0.02405388]\n",
      " [ 0.97827463  0.02172537]\n",
      " [ 0.97827463  0.02172537]\n",
      " [ 0.97594612  0.02405388]\n",
      " [ 0.42236699  0.57763301]\n",
      " [ 0.42236699  0.57763301]\n",
      " [ 0.97594612  0.02405388]\n",
      " [ 0.94130594  0.05869406]\n",
      " [ 0.97827463  0.02172537]\n",
      " [ 0.99827487  0.00172513]\n",
      " [ 0.99698795  0.00301205]\n",
      " [ 0.88500993  0.11499007]\n",
      " [ 0.97594612  0.02405388]\n",
      " [ 0.97239537  0.02760463]\n",
      " [ 0.97827463  0.02172537]\n",
      " [ 0.99827487  0.00172513]\n",
      " [ 0.94130594  0.05869406]\n",
      " [ 0.97827463  0.02172537]\n",
      " [ 0.76567164  0.23432836]\n",
      " [ 0.97827463  0.02172537]\n",
      " [ 0.97594612  0.02405388]\n",
      " [ 0.76567164  0.23432836]\n",
      " [ 0.97827463  0.02172537]\n",
      " [ 0.97827463  0.02172537]\n",
      " [ 0.76567164  0.23432836]\n",
      " [ 0.97594612  0.02405388]\n",
      " [ 0.97594612  0.02405388]\n",
      " [ 0.94130594  0.05869406]\n",
      " [ 0.6912114   0.3087886 ]\n",
      " [ 0.94130594  0.05869406]\n",
      " [ 0.00863309  0.99136691]\n",
      " [ 0.97594612  0.02405388]\n",
      " [ 0.97594612  0.02405388]\n",
      " [ 0.99827487  0.00172513]\n",
      " [ 0.76567164  0.23432836]\n",
      " [ 0.97594612  0.02405388]\n",
      " [ 0.97594612  0.02405388]\n",
      " [ 0.97827463  0.02172537]\n",
      " [ 0.97827463  0.02172537]\n",
      " [ 0.88500993  0.11499007]\n",
      " [ 0.99827487  0.00172513]\n",
      " [ 0.6912114   0.3087886 ]\n",
      " [ 0.99827487  0.00172513]\n",
      " [ 0.94130594  0.05869406]\n",
      " [ 0.97827463  0.02172537]\n",
      " [ 0.99827487  0.00172513]\n",
      " [ 0.97827463  0.02172537]\n",
      " [ 0.94130594  0.05869406]\n",
      " [ 0.97594612  0.02405388]\n",
      " [ 0.99827487  0.00172513]\n",
      " [ 0.76567164  0.23432836]\n",
      " [ 0.42236699  0.57763301]\n",
      " [ 0.99527856  0.00472144]\n",
      " [ 0.88500993  0.11499007]\n",
      " [ 0.97827463  0.02172537]\n",
      " [ 0.99827487  0.00172513]\n",
      " [ 0.55960265  0.44039735]\n",
      " [ 0.94130594  0.05869406]\n",
      " [ 0.99827487  0.00172513]\n",
      " [ 0.97594612  0.02405388]\n",
      " [ 0.99527856  0.00472144]\n",
      " [ 0.97827463  0.02172537]\n",
      " [ 0.94130594  0.05869406]\n",
      " [ 0.94130594  0.05869406]\n",
      " [ 0.88500993  0.11499007]\n",
      " [ 0.97594612  0.02405388]\n",
      " [ 0.94130594  0.05869406]\n",
      " [ 0.99527856  0.00472144]\n",
      " [ 0.97594612  0.02405388]\n",
      " [ 0.97594612  0.02405388]\n",
      " [ 0.6912114   0.3087886 ]\n",
      " [ 0.6912114   0.3087886 ]\n",
      " [ 0.97594612  0.02405388]\n",
      " [ 0.97827463  0.02172537]\n",
      " [ 0.94130594  0.05869406]\n",
      " [ 0.97594612  0.02405388]\n",
      " [ 0.97827463  0.02172537]\n",
      " [ 0.99827487  0.00172513]\n",
      " [ 0.97594612  0.02405388]\n",
      " [ 0.88500993  0.11499007]\n",
      " [ 0.8388521   0.1611479 ]\n",
      " [ 0.97827463  0.02172537]\n",
      " [ 0.99527856  0.00472144]\n",
      " [ 0.97827463  0.02172537]]\n"
     ]
    }
   ],
   "source": [
    "clf = tree.DecisionTreeClassifier(criterion='entropy', max_depth=6, min_samples_split=0.005)\n",
    "clf_fit = clf.fit(features_train, target_train)\n",
    "class_probability = clf_fit.predict_proba(features_test)\n",
    "print class_probability[0:100]"
   ]
  },
  {
   "cell_type": "markdown",
   "metadata": {},
   "source": [
    "** E.4 Compute precision and recall of this classifier on the testing sample** <br>\n",
    "Print the results <br>"
   ]
  },
  {
   "cell_type": "code",
   "execution_count": 58,
   "metadata": {
    "collapsed": false
   },
   "outputs": [
    {
     "name": "stdout",
     "output_type": "stream",
     "text": [
      "0.729834791059\n",
      "0.475015812777\n"
     ]
    }
   ],
   "source": [
    "prediction_testing = clf_fit.predict(features_test)\n",
    "testing_precision = precision_score(target_test, prediction_testing)\n",
    "testing_recall = recall_score(target_test, prediction_testing)\n",
    "print testing_precision\n",
    "print testing_recall"
   ]
  },
  {
   "cell_type": "markdown",
   "metadata": {},
   "source": [
    "** E.5 interpret precision and accuracy of the prediction** <br>"
   ]
  },
  {
   "cell_type": "code",
   "execution_count": null,
   "metadata": {
    "collapsed": true
   },
   "outputs": [],
   "source": []
  }
 ],
 "metadata": {
  "kernelspec": {
   "display_name": "Python 2",
   "language": "python",
   "name": "python2"
  },
  "language_info": {
   "codemirror_mode": {
    "name": "ipython",
    "version": 2
   },
   "file_extension": ".py",
   "mimetype": "text/x-python",
   "name": "python",
   "nbconvert_exporter": "python",
   "pygments_lexer": "ipython2",
   "version": "2.7.12"
  }
 },
 "nbformat": 4,
 "nbformat_minor": 1
}
