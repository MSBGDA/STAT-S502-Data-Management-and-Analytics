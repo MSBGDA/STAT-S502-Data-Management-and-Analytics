{
 "cells": [
  {
   "cell_type": "markdown",
   "metadata": {
    "nbpresent": {
     "id": "df2d1efd-b550-4785-94b8-f49381985259"
    }
   },
   "source": [
    "# Text Mining"
   ]
  },
  {
   "cell_type": "markdown",
   "metadata": {},
   "source": [
    "Hi everyone, <br />\n",
    "\n",
    "This session is about text mining. \n",
    "\n",
    "It will walk you though the following sections:\n",
    "\n",
    "1. Text pre-processing\n",
    "2. Term Frequency analysis (TF)\n",
    "3. Inverse Document Frequency (IDF)\n",
    "4. Term Frequency - Inverse Document Frequency (TF-IDF)\n",
    "5. Text classification\n",
    "6. Sentiment analysis"
   ]
  },
  {
   "cell_type": "markdown",
   "metadata": {
    "nbpresent": {
     "id": "b9c7083f-551a-4db3-89cd-4237a8d39f02"
    }
   },
   "source": [
    "** Before Starting, let us import some basic text mining tools**"
   ]
  },
  {
   "cell_type": "code",
   "execution_count": null,
   "metadata": {
    "collapsed": true
   },
   "outputs": [],
   "source": [
    "#!/usr/bin/env python\n",
    "# -*- coding: utf-8 -*- \n",
    "# Basic imports\n",
    "import pickle\n",
    "from pprint import pprint\n",
    "import collections\n",
    "import numpy as np\n",
    "import matplotlib.pyplot as plt\n",
    "import operator\n",
    "\n",
    "# Natural Language Tool Kit (NLTK) imports\n",
    "import nltk\n",
    "from nltk.data  import load\n",
    "from nltk.tokenize.treebank import TreebankWordTokenizer\n",
    "from nltk.stem.porter import PorterStemmer\n",
    "from nltk.corpus import stopwords\n",
    "\n",
    "# Machine Learning Library (sklearn) imports\n",
    "from sklearn import metrics\n",
    "from sklearn.metrics.pairwise import cosine_similarity\n",
    "from sklearn.feature_extraction.text import TfidfVectorizer, TfidfTransformer\n",
    "from sklearn.decomposition import TruncatedSVD\n",
    "from sklearn.pipeline import Pipeline\n",
    "from sklearn.preprocessing import Normalizer"
   ]
  },
  {
   "cell_type": "code",
   "execution_count": null,
   "metadata": {
    "collapsed": true
   },
   "outputs": [],
   "source": [
    "# Instantiate objects from NLTK\n",
    "sentence_splitter = load('tokenizers/punkt/english.pickle')\n",
    "tokenizer = TreebankWordTokenizer()\n",
    "stemmer = PorterStemmer()"
   ]
  },
  {
   "cell_type": "markdown",
   "metadata": {
    "nbpresent": {
     "id": "a235458d-1713-4078-bfc1-8bd5e25792ac"
    }
   },
   "source": [
    "For this text mining session, we will use **reviews from Amazon**. These reviews correspond to product reviews from 4 product types \n",
    "* Books\n",
    "* DVD\n",
    "* Electronics\n",
    "* Kitchen Appliances\n",
    "\n",
    "For each review, we know the sentiment associated to it.\n",
    "\n",
    "**Book** \n",
    "\n",
    "\"*What a waste of time. This was like sitting through a very boring business course.*\"\n",
    "\n",
    "\"*An excellent, well explained art book, with beautiful and easy to follow illustrations. The book is a treasure chest of ideas suitable for the primary classroom. This book provides plenty of opportunities to explore the various strands of the visual arts field. A great resource for any teacher, parent or doting aunt*\"\n",
    "\n",
    "**DVD** \n",
    "\n",
    "\"*The sound on this DVD is absolutely horrible.  The dialogue is at a much lower volume than the music and sound effects, making it impossible to view without constantly tinkering.  I also have the VHS, on which the sound is perfect, so I can still watch this wonderful movie.  But I would sure like to get my money back for the DVD*\"\n",
    "\n",
    "**Electronics** \n",
    "\n",
    "\"*Terrible Design did not fit my car's electical outlet, it does not work with my Jeep Liberty.  The jack construction is defective does not even power on*\"\n",
    "\n",
    "**Kitchen appliances** \n",
    "\n",
    "\"*Great blender! I use it daily to make smoothies and it never fails. Powerful motor purees frozen fruits great!! Simple--only two speeds. Easy clean-up *\"\n",
    " "
   ]
  },
  {
   "cell_type": "markdown",
   "metadata": {
    "nbpresent": {
     "id": "7368529c-d2a7-43c9-bfe7-b1d9b46af228"
    }
   },
   "source": [
    "## 1. Text pre-processing"
   ]
  },
  {
   "cell_type": "markdown",
   "metadata": {
    "nbpresent": {
     "id": "5436de00-1b1a-491c-8b12-35eec3be7921"
    }
   },
   "source": [
    "### 1.1  Split into sentences"
   ]
  },
  {
   "cell_type": "code",
   "execution_count": null,
   "metadata": {
    "collapsed": false,
    "nbpresent": {
     "id": "b1c5320b-98b0-4651-8ca0-49e7978d305d"
    }
   },
   "outputs": [],
   "source": [
    "review = \"\"\"What a waste of time. This was like sitting through a very boring business course.\"\"\"\n",
    "for sentence in sentence_splitter.tokenize(review):\n",
    "    pprint(sentence)"
   ]
  },
  {
   "cell_type": "markdown",
   "metadata": {
    "nbpresent": {
     "id": "e35ea6f8-9c58-4b44-86ce-69b3c3021a70"
    }
   },
   "source": [
    "### 1.2 Split sentence into tokens"
   ]
  },
  {
   "cell_type": "code",
   "execution_count": null,
   "metadata": {
    "collapsed": true,
    "nbpresent": {
     "id": "d8389243-ae91-4bc3-a53b-d8b421f52081"
    }
   },
   "outputs": [],
   "source": [
    "sentence = \"\"\"This was like sitting through a very boring business course.\"\"\"\n",
    "for token in tokenizer.tokenize(sentence):\n",
    "    pprint(token)"
   ]
  },
  {
   "cell_type": "markdown",
   "metadata": {
    "nbpresent": {
     "id": "f5dcad0f-2ff1-4fe8-8c10-9e73607833d0"
    }
   },
   "source": [
    "### 1.3 Convert tokens to lower case"
   ]
  },
  {
   "cell_type": "code",
   "execution_count": null,
   "metadata": {
    "collapsed": false,
    "nbpresent": {
     "id": "6da034ec-588a-4aa1-bdcc-d87070467e3c"
    }
   },
   "outputs": [],
   "source": [
    "tokenized_sentence = ['This','was','like','sitting','through','a','very','boring','business','course','.']\n",
    "for token in tokenized_sentence:\n",
    "    token = token.lower()\n",
    "    pprint(token)"
   ]
  },
  {
   "cell_type": "markdown",
   "metadata": {
    "nbpresent": {
     "id": "2dacca0c-8417-490f-b795-40dccc2ba485"
    }
   },
   "source": [
    "### 1.4 Remove punctuation"
   ]
  },
  {
   "cell_type": "code",
   "execution_count": null,
   "metadata": {
    "collapsed": false,
    "nbpresent": {
     "id": "9aa859da-a09c-42cc-a654-8508a5450b25"
    }
   },
   "outputs": [],
   "source": [
    "punctuation = set([\",\", \".\", \";\", \"/\", \":\", \"-\", \"--\" ,\"!\", \"?\", \"(\", \")\",\"'\",'\"',\"''\", \"``\"])\n",
    "tokenized_sentence = ['this','was','like','sitting','through','a','very','boring','business','course','.']\n",
    "for token in tokenized_sentence:\n",
    "    if token not in punctuation:\n",
    "        pprint(token)"
   ]
  },
  {
   "cell_type": "markdown",
   "metadata": {
    "nbpresent": {
     "id": "0972ea08-a612-478c-9a0b-599dc7a31b74"
    }
   },
   "source": [
    "### 1.5 Remove stop words"
   ]
  },
  {
   "cell_type": "code",
   "execution_count": null,
   "metadata": {
    "collapsed": true,
    "nbpresent": {
     "id": "6188ff57-9eb6-41d9-8e59-0950d6410a89"
    }
   },
   "outputs": [],
   "source": [
    "stopwords_set = set(stopwords.words('english'))\n",
    "pprint(stopwords_set)"
   ]
  },
  {
   "cell_type": "code",
   "execution_count": null,
   "metadata": {
    "collapsed": true,
    "nbpresent": {
     "id": "8665b462-14cf-4396-9d95-48883633a415"
    }
   },
   "outputs": [],
   "source": [
    "tokenized_sentence = ['this','was','like','sitting','through','a','very','boring','business','course']\n",
    "for token in tokenized_sentence:\n",
    "    if token not in stopwords_set:\n",
    "        pprint(token)"
   ]
  },
  {
   "cell_type": "markdown",
   "metadata": {
    "nbpresent": {
     "id": "82ef5c04-51be-4c7b-97c4-bb64cb0be33a"
    }
   },
   "source": [
    "### 1.6 Stemming"
   ]
  },
  {
   "cell_type": "code",
   "execution_count": null,
   "metadata": {
    "collapsed": true,
    "nbpresent": {
     "id": "5452ad90-d368-49e5-bbf2-f244adcaf011"
    }
   },
   "outputs": [],
   "source": [
    "tokenized_sentence = ['like','sitting','boring','business','course']\n",
    "for token in tokenized_sentence:\n",
    "    stem = stemmer.stem(token)\n",
    "    pprint(stem)"
   ]
  },
  {
   "cell_type": "markdown",
   "metadata": {
    "nbpresent": {
     "id": "5c74cf28-3b01-4ff9-9bac-3d7735d18579"
    }
   },
   "source": [
    "### 1.7 All together"
   ]
  },
  {
   "cell_type": "code",
   "execution_count": null,
   "metadata": {
    "collapsed": true,
    "nbpresent": {
     "id": "6358b68b-e287-4dfc-bade-47d5d7ed9ec8"
    }
   },
   "outputs": [],
   "source": [
    "# Preprocess a given text\n",
    "def preprocess_text(review):\n",
    "    tokens = []\n",
    "    # 1. Split into sentences\n",
    "    for sentence in sentence_splitter.tokenize(review):\n",
    "        # 2. Split into tokens\n",
    "        for token in tokenizer.tokenize(sentence):\n",
    "            token = token.lower()\n",
    "            # 3. Filter on stoplist and punctuation\n",
    "            if token not in stopwords_set and token not in punctuation:\n",
    "                # 4. Stemming (takes root)\n",
    "                stem = stemmer.stem(token)\n",
    "                tokens.append(stem)\n",
    "    return tokens\n",
    "\n",
    "pprint( preprocess_text(\"\"\"An excellent, well explained art book, with beautiful and easy to follow illustrations. \n",
    "The book is a treasure chest of ideas suitable for the primary classroom. \n",
    "This book provides plenty of opportunities to explore the various strands of the visual arts field. \n",
    "A great resource for any teacher, parent or doting aunt\"\"\"))"
   ]
  },
  {
   "cell_type": "markdown",
   "metadata": {},
   "source": [
    "## 2 Term Frequency analysis (TF)\n",
    "\n",
    "A central question in text mining and natural language processing is how to quantify what a document is about.\n",
    "\n",
    "One measure of how important a word may be is its **term frequency** (tf), how often a word occurs in a document"
   ]
  },
  {
   "cell_type": "markdown",
   "metadata": {},
   "source": [
    "### 2.1 Without pre-processing"
   ]
  },
  {
   "cell_type": "markdown",
   "metadata": {},
   "source": [
    "#### Book reviews"
   ]
  },
  {
   "cell_type": "code",
   "execution_count": null,
   "metadata": {
    "collapsed": true
   },
   "outputs": [],
   "source": [
    "# Some previews of reviews\n",
    "with open('data/sorted_data_acl/books/positive_text.review', 'r') as myfile:\n",
    "    pos_books = myfile.readlines()\n",
    "    \n",
    "    print'------'\n",
    "    pprint(pos_books[0])\n",
    "    print'------'\n",
    "    pprint(pos_books[1])\n",
    "    print'------'\n",
    "    pprint(pos_books[2])\n",
    "    print'------'"
   ]
  },
  {
   "cell_type": "code",
   "execution_count": null,
   "metadata": {
    "collapsed": false
   },
   "outputs": [],
   "source": [
    "# Merge book reviews together\n",
    "with open('data/sorted_data_acl/books/positive_text.review', 'r') as myfile:\n",
    "    pos_book = myfile.read().decode(\"utf-8\")\n",
    "with open('data/sorted_data_acl/books/negative_text.review', 'r') as myfile:\n",
    "    neg_book = myfile.read().decode(\"utf-8\")   \n",
    "book_reviews = pos_book + neg_book"
   ]
  },
  {
   "cell_type": "code",
   "execution_count": null,
   "metadata": {
    "collapsed": true
   },
   "outputs": [],
   "source": [
    "# Split into words, without further pre-processing\n",
    "tokens = tokenizer.tokenize(book_reviews)\n",
    "\n",
    "# count frequency of words\n",
    "counter = collections.Counter(tokens)\n",
    "pprint(counter.most_common(15))"
   ]
  },
  {
   "cell_type": "markdown",
   "metadata": {},
   "source": [
    "#### DVD reviews"
   ]
  },
  {
   "cell_type": "code",
   "execution_count": null,
   "metadata": {
    "collapsed": false
   },
   "outputs": [],
   "source": [
    "# Merge dvd reviews together\n",
    "with open('data/sorted_data_acl/dvd/positive_text.review', 'r') as myfile:\n",
    "    pos_dvd = myfile.read().decode(\"utf-8\")\n",
    "with open('data/sorted_data_acl/dvd/negative_text.review', 'r') as myfile:\n",
    "    neg_dvd = myfile.read().decode(\"utf-8\")\n",
    "dvd_reviews = pos_dvd + neg_dvd\n",
    "    \n",
    "# Split into words, without further pre-processing\n",
    "tokens = tokenizer.tokenize(dvd_reviews)\n",
    "\n",
    "# count frequency of words\n",
    "counter=collections.Counter(tokens)\n",
    "pprint(counter.most_common(15))"
   ]
  },
  {
   "cell_type": "markdown",
   "metadata": {},
   "source": [
    "As we can see, many common words which do not tell us much about our reviews, are present.\n",
    "\n",
    "Pre-processing allows us to remove some of the highly frequent common words."
   ]
  },
  {
   "cell_type": "markdown",
   "metadata": {},
   "source": [
    "### 2.2 With pre-processing"
   ]
  },
  {
   "cell_type": "markdown",
   "metadata": {},
   "source": [
    "#### Book reviews"
   ]
  },
  {
   "cell_type": "code",
   "execution_count": null,
   "metadata": {
    "collapsed": false,
    "scrolled": true
   },
   "outputs": [],
   "source": [
    "# pre-processing of reviews\n",
    "book_reviews_prepro = preprocess_text(book_reviews.replace(\"'\",' '))\n",
    "\n",
    "# count frequency of words\n",
    "counter=collections.Counter(book_reviews_prepro)\n",
    "pprint(counter.most_common(15))"
   ]
  },
  {
   "cell_type": "markdown",
   "metadata": {},
   "source": [
    "#### DVD reviews"
   ]
  },
  {
   "cell_type": "code",
   "execution_count": null,
   "metadata": {
    "collapsed": true
   },
   "outputs": [],
   "source": [
    "# pre-processing of reviews\n",
    "dvd_reviews_prepro = preprocess_text(dvd_reviews.replace(\"'\",' '))\n",
    "\n",
    "# count frequency of words\n",
    "counter=collections.Counter(dvd_reviews_prepro)\n",
    "pprint(counter.most_common(15))"
   ]
  },
  {
   "cell_type": "markdown",
   "metadata": {},
   "source": [
    "#### Electronics  reviews"
   ]
  },
  {
   "cell_type": "code",
   "execution_count": null,
   "metadata": {
    "collapsed": false
   },
   "outputs": [],
   "source": [
    "# Merge Electronics reviews together\n",
    "with open('data/sorted_data_acl/electronics/positive_text.review', 'r') as myfile:\n",
    "    pos_elec = myfile.read().decode(\"utf-8\")\n",
    "with open('data/sorted_data_acl/electronics/negative_text.review', 'r') as myfile:\n",
    "    neg_elec = myfile.read().decode(\"utf-8\")\n",
    "elec_reviews = pos_elec + neg_elec\n",
    "\n",
    "# pre-processing of reviews\n",
    "elec_reviews_prepro = preprocess_text(elec_reviews.replace(\"'\",' '))\n",
    "\n",
    "# count frequency of word\n",
    "counter=collections.Counter(elec_reviews_prepro)\n",
    "pprint(counter.most_common(15))"
   ]
  },
  {
   "cell_type": "markdown",
   "metadata": {},
   "source": [
    "#### Kitchen appliance reviews"
   ]
  },
  {
   "cell_type": "code",
   "execution_count": null,
   "metadata": {
    "collapsed": false
   },
   "outputs": [],
   "source": [
    "# Merge Kitchen appliance reviews together\n",
    "with open('data/sorted_data_acl/kitchen_&_housewares/positive_text.review', 'r') as myfile:\n",
    "    pos_kitch = myfile.read().decode(\"utf-8\")\n",
    "with open('data/sorted_data_acl/kitchen_&_housewares/negative_text.review', 'r') as myfile:\n",
    "    neg_kitch = myfile.read().decode(\"utf-8\")\n",
    "kitch_reviews = pos_kitch + neg_kitch\n",
    "\n",
    "# pre-processing of reviews\n",
    "kitch_reviews_prepro = preprocess_text(kitch_reviews.replace(\"'\",' '))\n",
    "\n",
    "# count frequency of word\n",
    "counter=collections.Counter(kitch_reviews_prepro)\n",
    "pprint(counter.most_common(15))"
   ]
  },
  {
   "cell_type": "markdown",
   "metadata": {},
   "source": [
    "The words now better quantify our reviews.\n",
    "\n",
    "However, there are still many **common words** that are not very useful (*one, get, make, even, also, well*), and which are present in all reviews, whetever the category or the sentiment.\n",
    "\n",
    "We would like to extract truly **distinctive keywords** to better characterise our reviews within each category."
   ]
  },
  {
   "cell_type": "code",
   "execution_count": null,
   "metadata": {
    "collapsed": false
   },
   "outputs": [],
   "source": [
    "# Distribution of word frequencies\n",
    "word_frequencies = [float(x) / 1000 for x in counter.values()]\n",
    "plt.hist(counter.values(), 500)\n",
    "plt.xscale('log')\n",
    "plt.yscale('log')\n",
    "plt.show()"
   ]
  },
  {
   "cell_type": "markdown",
   "metadata": {},
   "source": [
    "## 3 Inverse Document Frequency (IDF)\n",
    "\n",
    "One way to correct these frequencies is to look at a term’s inverse document frequency (idf), which decreases the weight for commonly used words and increases the weight for words that are not used very much in a collection of documents."
   ]
  },
  {
   "cell_type": "markdown",
   "metadata": {},
   "source": [
    "Let us take an English corpus containing thousands of documents to evaluate the inverse document frequency of english words"
   ]
  },
  {
   "cell_type": "markdown",
   "metadata": {},
   "source": [
    "#### Load Brown english corpus"
   ]
  },
  {
   "cell_type": "code",
   "execution_count": null,
   "metadata": {
    "collapsed": false
   },
   "outputs": [],
   "source": [
    "nltk.download()"
   ]
  },
  {
   "cell_type": "code",
   "execution_count": null,
   "metadata": {
    "collapsed": false,
    "nbpresent": {
     "id": "5e2cb154-c68b-462d-98d3-dedcacefd6f9"
    },
    "scrolled": false
   },
   "outputs": [],
   "source": [
    "from nltk.corpus import brown\n",
    "brown_corpus = brown.sents()\n",
    "\n",
    "print \"------\"\n",
    "print brown_corpus[0]\n",
    "print \"------\"\n",
    "print brown_corpus[1]\n",
    "print \"------\"\n",
    "print brown_corpus[2]\n",
    "print \"------\""
   ]
  },
  {
   "cell_type": "markdown",
   "metadata": {},
   "source": [
    "#### Pre-process the sentences"
   ]
  },
  {
   "cell_type": "code",
   "execution_count": null,
   "metadata": {
    "collapsed": false
   },
   "outputs": [],
   "source": [
    "preprocessed_sentences = []\n",
    "for sentence in brown_corpus:\n",
    "    clean_sentence = preprocess_text(' '.join(sentence))\n",
    "    preprocessed_sentences.append(\" \".join(clean_sentence))"
   ]
  },
  {
   "cell_type": "markdown",
   "metadata": {},
   "source": [
    "#### Compute Inverse Document Frequency of english words"
   ]
  },
  {
   "cell_type": "code",
   "execution_count": null,
   "metadata": {
    "collapsed": false
   },
   "outputs": [],
   "source": [
    "vectorizer = TfidfVectorizer(stop_words='english')\n",
    "tf_idf = vectorizer.fit(preprocessed_sentences)\n",
    "idf = vectorizer.idf_\n",
    "idf = dict(zip(vectorizer.get_feature_names(), idf))\n",
    "sorted_idf = sorted(idf.items(), key=operator.itemgetter(1))"
   ]
  },
  {
   "cell_type": "markdown",
   "metadata": {},
   "source": [
    "#### Most common words accross English documents (Low IDF value)"
   ]
  },
  {
   "cell_type": "code",
   "execution_count": null,
   "metadata": {
    "collapsed": false
   },
   "outputs": [],
   "source": [
    "pprint(sorted_idf[0:20])"
   ]
  },
  {
   "cell_type": "markdown",
   "metadata": {},
   "source": [
    "#### Most rare words accross English documents (High IDF value)"
   ]
  },
  {
   "cell_type": "code",
   "execution_count": null,
   "metadata": {
    "collapsed": true
   },
   "outputs": [],
   "source": [
    "sorted_idf.reverse()\n",
    "pprint(sorted_idf[0:20])"
   ]
  },
  {
   "cell_type": "markdown",
   "metadata": {},
   "source": [
    "## 4 Term Frequency - Inverse Document Frequency (TF-IDF)"
   ]
  },
  {
   "cell_type": "markdown",
   "metadata": {},
   "source": [
    "Now that we have a measure that quantifies how important a word is within a document (TF) and another one that quantifies how common a word is accross the language (IDF), we can combine them into\n",
    "\n",
    "**TF-IDF = TF * IDF**\n",
    "\n",
    "This measure (TF-IDF) attempts to find the words that are important within the document (i.e., high frequency), but not too common across the documents (i.e. in english language in general)."
   ]
  },
  {
   "cell_type": "markdown",
   "metadata": {},
   "source": [
    "#### TF-IDF of Book reviews\n",
    "\n",
    "We can now compute the TF-IDF values for each word within a particular category.\n",
    "\n",
    "Each document can then be represented as a **vector** of TF-IDF values."
   ]
  },
  {
   "cell_type": "code",
   "execution_count": null,
   "metadata": {
    "collapsed": false,
    "nbpresent": {
     "id": "2ac4ecac-050f-4913-84be-3541aee398dc"
    }
   },
   "outputs": [],
   "source": [
    "# Book review document \n",
    "book_doc = \" \".join(book_reviews_prepro)\n",
    "# Compute TF-IDF\n",
    "result = vectorizer.transform([book_doc])\n",
    "feature_names = tf_idf.get_feature_names()\n",
    "tfidf = []\n",
    "for col in result.nonzero()[1]:\n",
    "    tfidf.append((feature_names[col],result[0, col]))\n",
    "sorted_tfidf = sorted(tfidf, key=lambda x: x[1])\n",
    "sorted_tfidf.reverse()\n",
    "pprint(sorted_tfidf[0:15])"
   ]
  },
  {
   "cell_type": "markdown",
   "metadata": {
    "collapsed": true,
    "nbpresent": {
     "id": "7c6908b6-4b77-4dee-ad11-95d277ba5298"
    }
   },
   "source": [
    "#### TF-IDF of DVD reviews"
   ]
  },
  {
   "cell_type": "code",
   "execution_count": null,
   "metadata": {
    "collapsed": false
   },
   "outputs": [],
   "source": [
    "# DVD review document \n",
    "dvd_doc = \" \".join(dvd_reviews_prepro)\n",
    "\n",
    "# Compute TF-IDF\n",
    "result = vectorizer.transform([dvd_doc])\n",
    "feature_names = tf_idf.get_feature_names()\n",
    "tfidf = []\n",
    "for col in result.nonzero()[1]:\n",
    "    tfidf.append((feature_names[col],result[0, col]))\n",
    "sorted_tfidf = sorted(tfidf, key=lambda x: x[1])\n",
    "sorted_tfidf.reverse()\n",
    "pprint(sorted_tfidf[0:15])"
   ]
  },
  {
   "cell_type": "markdown",
   "metadata": {},
   "source": [
    "#### TF-IDF of Electronics reviews"
   ]
  },
  {
   "cell_type": "code",
   "execution_count": null,
   "metadata": {
    "collapsed": false
   },
   "outputs": [],
   "source": [
    "# Electronics review document \n",
    "elec_doc = \" \".join(elec_reviews_prepro)\n",
    "\n",
    "# Compute TF-IDF\n",
    "result = vectorizer.transform([elec_doc])\n",
    "feature_names = tf_idf.get_feature_names()\n",
    "tfidf = []\n",
    "for col in result.nonzero()[1]:\n",
    "    tfidf.append((feature_names[col],result[0, col]))\n",
    "sorted_tfidf = sorted(tfidf, key=lambda x: x[1])\n",
    "sorted_tfidf.reverse()\n",
    "pprint(sorted_tfidf[0:15])"
   ]
  },
  {
   "cell_type": "markdown",
   "metadata": {},
   "source": [
    "#### TF-IDF of Kitchen appliance reviews"
   ]
  },
  {
   "cell_type": "code",
   "execution_count": null,
   "metadata": {
    "collapsed": false
   },
   "outputs": [],
   "source": [
    "# kitchen appliance review document \n",
    "kitch_doc = \" \".join(kitch_reviews_prepro)\n",
    "\n",
    "# Compute TF-IDF\n",
    "result = vectorizer.transform([kitch_doc])\n",
    "feature_names = tf_idf.get_feature_names()\n",
    "tfidf = []\n",
    "for col in result.nonzero()[1]:\n",
    "    tfidf.append((feature_names[col],result[0, col]))\n",
    "sorted_tfidf = sorted(tfidf, key=lambda x: x[1])\n",
    "sorted_tfidf.reverse()\n",
    "pprint(sorted_tfidf[0:15])"
   ]
  },
  {
   "cell_type": "markdown",
   "metadata": {},
   "source": [
    "TF-IDF allows us to represent each text document in a mathematical way that truly quantify its content. Each document can be represented as a vector of real value tf-idf weights.\n",
    "\n",
    "TF-IDF representation can solve several problems:\n",
    "* Document comparison for plagiarism\n",
    "* Text classification\n",
    "* Sentiment analysis"
   ]
  },
  {
   "cell_type": "markdown",
   "metadata": {},
   "source": [
    "## 5 Text classification"
   ]
  },
  {
   "cell_type": "markdown",
   "metadata": {},
   "source": [
    "**Objective:** Given a new review or comment as input, we would like to automatically detect the category it belongs to."
   ]
  },
  {
   "cell_type": "markdown",
   "metadata": {},
   "source": [
    "#### Input review"
   ]
  },
  {
   "cell_type": "code",
   "execution_count": null,
   "metadata": {
    "collapsed": false
   },
   "outputs": [],
   "source": [
    "# Input review\n",
    "input_review= \"\"\"Yes. Wild things is what I recommend for our jaded eyes. \n",
    "Aren't we sick of all the crowd pleasing PG-13 shows which are neither sexy or \n",
    "action packed - most of all with hardly a plot? Wild Things is sex sex sex but \n",
    "with witty capital H humor and a twisted story\"\"\""
   ]
  },
  {
   "cell_type": "markdown",
   "metadata": {},
   "source": [
    "#### Preprocessing of the input"
   ]
  },
  {
   "cell_type": "code",
   "execution_count": null,
   "metadata": {
    "collapsed": false
   },
   "outputs": [],
   "source": [
    "# Preprocessing of input\n",
    "input_prepro = \" \".join(preprocess_text(input_review))\n",
    "pprint(input_prepro)"
   ]
  },
  {
   "cell_type": "markdown",
   "metadata": {},
   "source": [
    "#### Computation of tf-idf representation of the text input"
   ]
  },
  {
   "cell_type": "code",
   "execution_count": null,
   "metadata": {
    "collapsed": false
   },
   "outputs": [],
   "source": [
    "result = vectorizer.transform([input_prepro])\n",
    "feature_names = tf_idf.get_feature_names()\n",
    "tfidf = []\n",
    "for col in result.nonzero()[1]:\n",
    "    tfidf.append((feature_names[col],result[0, col]))\n",
    "sorted_tfidf = sorted(tfidf, key=lambda x: x[1])\n",
    "sorted_tfidf.reverse()\n",
    "pprint(sorted_tfidf[0:100])"
   ]
  },
  {
   "cell_type": "markdown",
   "metadata": {},
   "source": [
    "#### Computation of similarity between input and our categories\n",
    "\n",
    "We know have a mathematical representation (vector) for both our input text and the categories (see point 4)\n",
    "\n",
    "In mathematics, the similarity between two vectors can be measured by the cosine of the angle between the two vectors. This measure is know has the **cosine similarity**.\n",
    "\n",
    "Two vectors with similar values will have a small angle, and thus a cosine value near zero. On the other hand, two very different vectors will have a large angle between them and thus a cosine value close to 1.\n",
    "\n",
    "Let us try to compare our input with each category"
   ]
  },
  {
   "cell_type": "code",
   "execution_count": null,
   "metadata": {
    "collapsed": false
   },
   "outputs": [],
   "source": [
    "# TF-IDF vectors for each category\n",
    "book_vector = vectorizer.transform([book_doc]) # Books\n",
    "dvd_vector = vectorizer.transform([dvd_doc]) # DVD\n",
    "elec_vector = vectorizer.transform([elec_doc]) # Electronics\n",
    "kitch_vector = vectorizer.transform([kitch_doc]) # Kitchen Appliances\n",
    "\n",
    "# TF-IDF vector of our input\n",
    "input_vector = vectorizer.transform([input_prepro])\n",
    "\n",
    "# Cosine similarities\n",
    "print 'similarity with Books: \\t\\t %f' % (cosine_similarity(input_vector,book_vector)[0][0])\n",
    "print 'similarity with DVD: \\t\\t %f' % (cosine_similarity(input_vector,dvd_vector)[0][0])\n",
    "print 'similarity with Elec: \\t\\t %f' % (cosine_similarity(input_vector,elec_vector)[0][0])\n",
    "print 'similarity with Kitchen app: \\t %f' % (cosine_similarity(input_vector,kitch_vector)[0][0])\n"
   ]
  },
  {
   "cell_type": "markdown",
   "metadata": {},
   "source": [
    "Let us try another one"
   ]
  },
  {
   "cell_type": "code",
   "execution_count": null,
   "metadata": {
    "collapsed": false
   },
   "outputs": [],
   "source": [
    "# Input review\n",
    "input_review= \"\"\"This is a real \"in your face\" drama that has been all but forgotten about.  Hopefully the rumors of the remake are true.  \n",
    "A couple of key things without rehashing the plot....great dialogue, especially from Hal Holbrook and the other judges.  When they were looking to fill a vacancy in their ranks and a name is brought up, they disdainfully tore up the potential nominee....\"he's a lightweight....I'm sure he's nice to his cocker-spanial, but that's just not good enough\".  Great stuff.  And when Holbrook finally explains it all to Michael Douglas...\"you are depressingly familiar\".  I love that line.\n",
    "\n",
    "Yes, there are some weak plot points in spots, but overall this movie presents complex issues without clear answers.  You have to ask yourself...what would you do?  The Doctor who's little boy was killed says it all.....\"You don't escape so easily\".  That's what makes this so rivoting....no black and white. \n",
    "\n",
    "Go buy it....its time to get your fingernails dirty.\"\"\"\n",
    "\n",
    "# Preprocessing of input\n",
    "input_prepro = \" \".join(preprocess_text(input_review))\n",
    "\n",
    "# TF-IDF vector of our input\n",
    "input_vector = vectorizer.transform([input_prepro])\n",
    "\n",
    "# Cosine similarities\n",
    "print 'similarity with Books: \\t\\t %f' % (cosine_similarity(input_vector,book_vector)[0][0])\n",
    "print 'similarity with DVD: \\t\\t %f' % (cosine_similarity(input_vector,dvd_vector)[0][0])\n",
    "print 'similarity with Elec: \\t\\t %f' % (cosine_similarity(input_vector,elec_vector)[0][0])\n",
    "print 'similarity with Kitchen app: \\t %f' % (cosine_similarity(input_vector,kitch_vector)[0][0])"
   ]
  },
  {
   "cell_type": "markdown",
   "metadata": {},
   "source": [
    "## 6 Sentiment analysis"
   ]
  },
  {
   "cell_type": "markdown",
   "metadata": {},
   "source": [
    "**Objective:** Given a new review or comment as input, we would like to assess the sentiment associated to this review."
   ]
  },
  {
   "cell_type": "markdown",
   "metadata": {},
   "source": [
    "#### Computation of tf-idf representation of positive reviews"
   ]
  },
  {
   "cell_type": "code",
   "execution_count": null,
   "metadata": {
    "collapsed": false
   },
   "outputs": [],
   "source": [
    "# Merge positive reviews together\n",
    "with open('data/sorted_data_acl/books/positive_text.review', 'r') as myfile:\n",
    "    pos_book = myfile.read().decode(\"utf-8\")\n",
    "with open('data/sorted_data_acl/dvd/positive_text.review', 'r') as myfile:\n",
    "    pos_dvd = myfile.read().decode(\"utf-8\")\n",
    "with open('data/sorted_data_acl/electronics/positive_text.review', 'r') as myfile:\n",
    "    pos_elec = myfile.read().decode(\"utf-8\")\n",
    "with open('data/sorted_data_acl/kitchen_&_housewares/positive_text.review', 'r') as myfile:\n",
    "    pos_kitch = myfile.read().decode(\"utf-8\")\n",
    "pos_reviews = pos_book + pos_dvd + pos_elec + pos_kitch\n",
    "\n",
    "# pre-processing of positive reviews\n",
    "pos_reviews_prepro = preprocess_text(pos_reviews.replace(\"'\",' '))\n",
    "pos_doc = \" \".join(pos_reviews_prepro)\n",
    "\n",
    "# TF-IDF vector of positive reviews\n",
    "pos_vector = vectorizer.transform([pos_doc]) # Books"
   ]
  },
  {
   "cell_type": "markdown",
   "metadata": {},
   "source": [
    "#### Computation of tf-idf representation of negative reviews"
   ]
  },
  {
   "cell_type": "code",
   "execution_count": null,
   "metadata": {
    "collapsed": true
   },
   "outputs": [],
   "source": [
    "# Merge negative reviews together\n",
    "with open('data/sorted_data_acl/books/negative_text.review', 'r') as myfile:\n",
    "    neg_book = myfile.read().decode(\"utf-8\")\n",
    "with open('data/sorted_data_acl/dvd/negative_text.review', 'r') as myfile:\n",
    "    neg_dvd = myfile.read().decode(\"utf-8\")\n",
    "with open('data/sorted_data_acl/electronics/negative_text.review', 'r') as myfile:\n",
    "    neg_elec = myfile.read().decode(\"utf-8\")\n",
    "with open('data/sorted_data_acl/kitchen_&_housewares/negative_text.review', 'r') as myfile:\n",
    "    neg_kitch = myfile.read().decode(\"utf-8\")\n",
    "neg_reviews = neg_book + neg_dvd + neg_elec + neg_kitch\n",
    "\n",
    "# pre-processing of positive reviews\n",
    "neg_reviews_prepro = preprocess_text(neg_reviews.replace(\"'\",' '))\n",
    "neg_doc = \" \".join(neg_reviews_prepro)\n",
    "\n",
    "# TF-IDF vector of positive reviews\n",
    "neg_vector = vectorizer.transform([neg_doc]) # Books"
   ]
  },
  {
   "cell_type": "markdown",
   "metadata": {},
   "source": [
    "#### Input review"
   ]
  },
  {
   "cell_type": "code",
   "execution_count": null,
   "metadata": {
    "collapsed": true
   },
   "outputs": [],
   "source": [
    "# Input review\n",
    "input_review= \"\"\"Interference from other electronics is a severe problem - \n",
    "I had to return this item for a refund.  If you can locate it several feet from any other \n",
    "electronics, it might work for you, but who wants a phone that you cannot place on your desktop, near a computer\"\"\""
   ]
  },
  {
   "cell_type": "markdown",
   "metadata": {},
   "source": [
    "#### Preprocessing of the input¶"
   ]
  },
  {
   "cell_type": "code",
   "execution_count": null,
   "metadata": {
    "collapsed": false
   },
   "outputs": [],
   "source": [
    "# Preprocessing of input\n",
    "input_prepro = \" \".join(preprocess_text(input_review))\n",
    "pprint(input_prepro)"
   ]
  },
  {
   "cell_type": "markdown",
   "metadata": {},
   "source": [
    "#### Computation of tf-idf representation of input reviews\n"
   ]
  },
  {
   "cell_type": "code",
   "execution_count": null,
   "metadata": {
    "collapsed": true
   },
   "outputs": [],
   "source": [
    "# TF-IDF vector of our input\n",
    "input_vector = vectorizer.transform([input_prepro])"
   ]
  },
  {
   "cell_type": "markdown",
   "metadata": {},
   "source": [
    "#### Computation of similarity between input and positive/negative reviews\n"
   ]
  },
  {
   "cell_type": "code",
   "execution_count": null,
   "metadata": {
    "collapsed": false
   },
   "outputs": [],
   "source": [
    "# Cosine similarities\n",
    "print 'similarity with Positive: \\t\\t %f' % (cosine_similarity(input_vector,pos_vector)[0][0])\n",
    "print 'similarity with Negative: \\t\\t %f' % (cosine_similarity(input_vector,neg_vector)[0][0])"
   ]
  },
  {
   "cell_type": "code",
   "execution_count": null,
   "metadata": {
    "collapsed": true
   },
   "outputs": [],
   "source": []
  }
 ],
 "metadata": {
  "anaconda-cloud": {},
  "kernelspec": {
   "display_name": "Python 2",
   "language": "python",
   "name": "python2"
  },
  "language_info": {
   "codemirror_mode": {
    "name": "ipython",
    "version": 2
   },
   "file_extension": ".py",
   "mimetype": "text/x-python",
   "name": "python",
   "nbconvert_exporter": "python",
   "pygments_lexer": "ipython2",
   "version": "2.7.12"
  },
  "nbpresent": {
   "slides": {
    "70827a56-96fa-45b1-8cd1-752cfbe59cd8": {
     "id": "70827a56-96fa-45b1-8cd1-752cfbe59cd8",
     "prev": null,
     "regions": {
      "eefdf89d-1555-49eb-b647-651ee92aa455": {
       "attrs": {
        "height": 1,
        "width": 1,
        "x": 0,
        "y": 0
       },
       "id": "eefdf89d-1555-49eb-b647-651ee92aa455"
      }
     }
    }
   },
   "themes": {}
  }
 },
 "nbformat": 4,
 "nbformat_minor": 1
}
