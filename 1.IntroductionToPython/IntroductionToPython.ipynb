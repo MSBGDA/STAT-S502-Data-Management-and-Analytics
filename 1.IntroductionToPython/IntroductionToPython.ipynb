{
 "cells": [
  {
   "cell_type": "markdown",
   "metadata": {},
   "source": [
    "# Introduction to Python"
   ]
  },
  {
   "cell_type": "markdown",
   "metadata": {},
   "source": [
    "Hi everyone, <br />\n",
    "\n",
    "This session intends to teach you the fundamentals of Python.\n",
    "\n",
    "It will walk you though the following sections:\n",
    "\n",
    "1. Create variables and use them\n",
    "2. Use control flow tools\n",
    "3. Write programs to do repeating work\n",
    "4. Manage data structure\n",
    "5. Answering your own questions"
   ]
  },
  {
   "cell_type": "markdown",
   "metadata": {
    "collapsed": true
   },
   "source": [
    "## 1. Create variables and use them"
   ]
  },
  {
   "cell_type": "markdown",
   "metadata": {},
   "source": [
    "Create a variable in Python is done through an Assignement Statement.<br />\n",
    "An Assignement Statement is composed of a name, an equal sign and a value.<br />\n",
    "You will therefore be able to create variables using the following structure: \"name = value\""
   ]
  },
  {
   "cell_type": "markdown",
   "metadata": {},
   "source": [
    "**1.1 Can you create a variable named \"age\" whose value is your own age ?**"
   ]
  },
  {
   "cell_type": "code",
   "execution_count": null,
   "metadata": {
    "collapsed": true
   },
   "outputs": [],
   "source": []
  },
  {
   "cell_type": "markdown",
   "metadata": {},
   "source": [
    "In python, you can see a variable value using the \"print\" statement. <br /> \n",
    "\n",
    "** 1.2 Can you print your age ? **"
   ]
  },
  {
   "cell_type": "code",
   "execution_count": null,
   "metadata": {
    "collapsed": false
   },
   "outputs": [],
   "source": []
  },
  {
   "cell_type": "markdown",
   "metadata": {},
   "source": [
    "Once created, variables are registered in your computer's short term memory.<br /> \n",
    "After being created variables can vary. <br />\n",
    "You can therefore modify them with operations like sum, substraction, multiplication and division. "
   ]
  },
  {
   "cell_type": "markdown",
   "metadata": {},
   "source": [
    "** 1.3 Can you divide your age by 2 and add 7 to it ? Then print the new value of the variable age. **"
   ]
  },
  {
   "cell_type": "code",
   "execution_count": null,
   "metadata": {
    "collapsed": false
   },
   "outputs": [],
   "source": []
  },
  {
   "cell_type": "markdown",
   "metadata": {},
   "source": [
    "In Python, variables can have different types:<br />\n",
    "Integers : 26 <br />\n",
    "Floats: 26.66 <br />\n",
    "Strings: \"vingt six\"."
   ]
  },
  {
   "cell_type": "markdown",
   "metadata": {},
   "source": [
    "** 1.4 Can you create variables for each of the three types and print them ? **<br />\n",
    "Strings in Python are created by a sequence of characters within 2 quotes"
   ]
  },
  {
   "cell_type": "code",
   "execution_count": null,
   "metadata": {
    "collapsed": false
   },
   "outputs": [],
   "source": []
  },
  {
   "cell_type": "markdown",
   "metadata": {
    "collapsed": true
   },
   "source": [
    "** 1.5 Print the type of the variables your just created **"
   ]
  },
  {
   "cell_type": "code",
   "execution_count": null,
   "metadata": {
    "collapsed": false
   },
   "outputs": [],
   "source": []
  },
  {
   "cell_type": "markdown",
   "metadata": {},
   "source": [
    "Several operations can be performed on string variables. <br />\n",
    "1. \"Concatenation\" adds strings together. \n",
    "2. \"Extraction\" extracts substrings from strings.\n",
    "3. \"Find\" returns the position of a defined sequence of characters"
   ]
  },
  {
   "cell_type": "markdown",
   "metadata": {},
   "source": [
    "** 1.6 Create 2 strings and concatenate them together. ** <br />"
   ]
  },
  {
   "cell_type": "code",
   "execution_count": null,
   "metadata": {
    "collapsed": false
   },
   "outputs": [],
   "source": []
  },
  {
   "cell_type": "markdown",
   "metadata": {},
   "source": [
    "Extracting substrings in a string is done with [ ].<br />\n",
    "[ ] allows to extract one character or a sequence of characters.<br />\n",
    "\n",
    "- strings[n] returns the character at the n<sup>th</sup> position in the string.<br />\n",
    "    print \"solvay\"[1] <br />\n",
    "    \n",
    "\n",
    "- strings[n:m] returns the sequence of characters starting at the n<sup>th</sup> (included) and ending at the m<sup>th</sup> (not included).<br />\n",
    "    print \"solvay\"[2:4] <br />\n",
    "    print \"solvay\"[2:] <br />\n",
    "    print \"solvay\"[:2] <br />\n",
    "    print \"solvay\"[-2:-1] <br />\n",
    "\n",
    "Note: Python is a 0 based index, meaning it starts counting at 0. \n"
   ]
  },
  {
   "cell_type": "markdown",
   "metadata": {},
   "source": [
    "** 1.7 print the results of the following extractions <br />\n",
    "\"solvay\"[1] <br />\n",
    "\"solvay\"[2:4] <br />\n",
    "\"solvay\"[2:] <br />\n",
    "\"solvay\"[:2] <br />\n",
    "\"solvay\"[-2:-1] <br />\n",
    "**"
   ]
  },
  {
   "cell_type": "code",
   "execution_count": null,
   "metadata": {
    "collapsed": false
   },
   "outputs": [],
   "source": []
  },
  {
   "cell_type": "markdown",
   "metadata": {},
   "source": [
    "** 1.8 find the position of the letter \"o\" in the string \"Solvay\" **"
   ]
  },
  {
   "cell_type": "code",
   "execution_count": null,
   "metadata": {
    "collapsed": false
   },
   "outputs": [],
   "source": []
  },
  {
   "cell_type": "markdown",
   "metadata": {},
   "source": [
    "Length of a python string is defined as the number of characters that this strings contains. "
   ]
  },
  {
   "cell_type": "markdown",
   "metadata": {},
   "source": [
    "** 1.9 Print the length of the string \"Solvay\" **"
   ]
  },
  {
   "cell_type": "code",
   "execution_count": null,
   "metadata": {
    "collapsed": false
   },
   "outputs": [],
   "source": []
  },
  {
   "cell_type": "markdown",
   "metadata": {},
   "source": [
    "### 2. Use control flow tools"
   ]
  },
  {
   "cell_type": "markdown",
   "metadata": {},
   "source": [
    "Python uses several statements in order to order its computation:<br />\n",
    "- condition: if, else <br />\n",
    "- iteration: for, while <br />\n"
   ]
  },
  {
   "cell_type": "markdown",
   "metadata": {},
   "source": [
    "** 2.1 Create three int variables, named \"a\", \"b\" and \"c\" and a string variable named \"s\" **"
   ]
  },
  {
   "cell_type": "code",
   "execution_count": 13,
   "metadata": {
    "collapsed": false
   },
   "outputs": [],
   "source": []
  },
  {
   "cell_type": "markdown",
   "metadata": {},
   "source": [
    "** 2.2 if variable a is greater than variable b print \"yes\", if not print \"no\" **"
   ]
  },
  {
   "cell_type": "code",
   "execution_count": null,
   "metadata": {
    "collapsed": false
   },
   "outputs": [],
   "source": []
  },
  {
   "cell_type": "markdown",
   "metadata": {},
   "source": [
    "** 2.3 if variable a or variable c is lower than variable b print \"yes\", if not print \"no\" **"
   ]
  },
  {
   "cell_type": "code",
   "execution_count": null,
   "metadata": {
    "collapsed": false
   },
   "outputs": [],
   "source": []
  },
  {
   "cell_type": "markdown",
   "metadata": {},
   "source": [
    "** 2.4 for every character in variable s print the character **"
   ]
  },
  {
   "cell_type": "code",
   "execution_count": null,
   "metadata": {
    "collapsed": false
   },
   "outputs": [],
   "source": []
  },
  {
   "cell_type": "markdown",
   "metadata": {},
   "source": [
    "** 2.5 While variable c is lower than variable b, add 1 to variable c and print value of variable c. When c is equal to b print \"bingo\"**"
   ]
  },
  {
   "cell_type": "code",
   "execution_count": null,
   "metadata": {
    "collapsed": false
   },
   "outputs": [],
   "source": []
  },
  {
   "cell_type": "markdown",
   "metadata": {},
   "source": [
    "## 3. Write programs to do repeating work"
   ]
  },
  {
   "cell_type": "markdown",
   "metadata": {},
   "source": [
    "In Python you can define a procedure that will execute operations on a given set of inputs and output results. <br />\n",
    "Python's grammar to define procedure is: <br />\n",
    "\n",
    "def (inputs):<br />\n",
    "        result = some operations on inputs<br />\n",
    "return result<br />\n"
   ]
  },
  {
   "cell_type": "markdown",
   "metadata": {},
   "source": [
    "** 3.1 Define a procedure named \"sum\" that takes 2 int as input and outputs their sum **"
   ]
  },
  {
   "cell_type": "code",
   "execution_count": null,
   "metadata": {
    "collapsed": true
   },
   "outputs": [],
   "source": []
  },
  {
   "cell_type": "markdown",
   "metadata": {},
   "source": [
    "** 3.2 Create 3 float variables named one, two and three. Then execute the sum procedure with variables one and two as input and print the result**"
   ]
  },
  {
   "cell_type": "code",
   "execution_count": null,
   "metadata": {
    "collapsed": false
   },
   "outputs": [],
   "source": []
  },
  {
   "cell_type": "markdown",
   "metadata": {},
   "source": [
    "**3.3 Create a procedure named \"average\" that takes three int variables and compute their average**"
   ]
  },
  {
   "cell_type": "code",
   "execution_count": null,
   "metadata": {
    "collapsed": true
   },
   "outputs": [],
   "source": []
  },
  {
   "cell_type": "markdown",
   "metadata": {},
   "source": [
    "**3.4 execute average procedure with inputs one, two and three and print the results**"
   ]
  },
  {
   "cell_type": "code",
   "execution_count": null,
   "metadata": {
    "collapsed": false
   },
   "outputs": [],
   "source": []
  },
  {
   "cell_type": "markdown",
   "metadata": {},
   "source": [
    "**3.5 Create your own procedure**"
   ]
  },
  {
   "cell_type": "code",
   "execution_count": null,
   "metadata": {
    "collapsed": true
   },
   "outputs": [],
   "source": []
  },
  {
   "cell_type": "markdown",
   "metadata": {},
   "source": [
    "## 4. Manage data structure"
   ]
  },
  {
   "cell_type": "markdown",
   "metadata": {},
   "source": [
    "Next step is to use data structures to store and play with data. <br />\n",
    "\n",
    "A \"string\" is already a data structure, which is a sequence of characters. <br />\n",
    "\n",
    "The next data structure we will introduce is the \"list\". <br />\n",
    "\n",
    "A \"list\" is a sequence of anything. <br />"
   ]
  },
  {
   "cell_type": "markdown",
   "metadata": {},
   "source": [
    "**4.1 Can you create a list of integers, a list of strings, a list of list and print them**"
   ]
  },
  {
   "cell_type": "code",
   "execution_count": null,
   "metadata": {
    "collapsed": false
   },
   "outputs": [],
   "source": []
  },
  {
   "cell_type": "markdown",
   "metadata": {},
   "source": [
    "List elements can be extracted with the same operations than we have seen in strings"
   ]
  },
  {
   "cell_type": "markdown",
   "metadata": {},
   "source": [
    "**4.2 Can you do these operations on test_list ?<br />**\n",
    "*(i) print the second element of test_list*<br />\n",
    "*(ii) print the type of the second element of test_list*<br />\n",
    "*(iii) print the two first elements of test_list*<br />\n",
    "*(iiii) print the first element of the third element of test_list*<br />\n",
    "*(iiiii) print the sum of the second element of the first element of test_list and the first element of the third element of test_list*<br />\n",
    "*(iiiiii) print the position of the element [3] if test_list*<br />"
   ]
  },
  {
   "cell_type": "code",
   "execution_count": 113,
   "metadata": {
    "collapsed": false
   },
   "outputs": [
    {
     "name": "stdout",
     "output_type": "stream",
     "text": [
      "[[2, 1], ['A', 'b'], [3]]\n"
     ]
    }
   ],
   "source": [
    "test_list = [[2,1],[\"A\",\"b\"],[3]]\n",
    "print test_list"
   ]
  },
  {
   "cell_type": "code",
   "execution_count": null,
   "metadata": {
    "collapsed": false
   },
   "outputs": [],
   "source": []
  },
  {
   "cell_type": "markdown",
   "metadata": {},
   "source": [
    "List can be extended with the \"append\" operation."
   ]
  },
  {
   "cell_type": "markdown",
   "metadata": {},
   "source": [
    "**4.3 Can you add your name to test_list and print the new list**"
   ]
  },
  {
   "cell_type": "code",
   "execution_count": null,
   "metadata": {
    "collapsed": false
   },
   "outputs": [],
   "source": []
  },
  {
   "cell_type": "markdown",
   "metadata": {},
   "source": [
    "**4.4 Can you print the lenght of the new list**"
   ]
  },
  {
   "cell_type": "code",
   "execution_count": null,
   "metadata": {
    "collapsed": false
   },
   "outputs": [],
   "source": []
  },
  {
   "cell_type": "markdown",
   "metadata": {},
   "source": [
    "**4.5 Can you loop through the list and print each element that is a list**"
   ]
  },
  {
   "cell_type": "code",
   "execution_count": null,
   "metadata": {
    "collapsed": false
   },
   "outputs": [],
   "source": []
  },
  {
   "cell_type": "markdown",
   "metadata": {},
   "source": [
    "The next data structure we introduce is \"dictionary\".<br />\n",
    "A dictionary is composed of keys and values. <br />\n",
    "Values can be accessed with their keys. "
   ]
  },
  {
   "cell_type": "markdown",
   "metadata": {},
   "source": [
    "**4.6 Can you create a dictionary names \"interests\" where the keys are the courses of past semester and the values are a number between 0 and 10 indicating how much you enjoy that course. Print the result**"
   ]
  },
  {
   "cell_type": "code",
   "execution_count": null,
   "metadata": {
    "collapsed": false
   },
   "outputs": [],
   "source": []
  },
  {
   "cell_type": "markdown",
   "metadata": {},
   "source": [
    "**4.7 Can you print your quote on the course \"macro\" **"
   ]
  },
  {
   "cell_type": "code",
   "execution_count": null,
   "metadata": {
    "collapsed": false
   },
   "outputs": [],
   "source": []
  },
  {
   "cell_type": "markdown",
   "metadata": {},
   "source": [
    "**4.8 Can you sum all the quotes of last semester and print the result**"
   ]
  },
  {
   "cell_type": "code",
   "execution_count": null,
   "metadata": {
    "collapsed": false
   },
   "outputs": [],
   "source": []
  },
  {
   "cell_type": "markdown",
   "metadata": {},
   "source": [
    "**4.9.bis Can you print the second element of dict interests ?**"
   ]
  },
  {
   "cell_type": "code",
   "execution_count": null,
   "metadata": {
    "collapsed": false
   },
   "outputs": [],
   "source": []
  },
  {
   "cell_type": "markdown",
   "metadata": {},
   "source": [
    "**4.9.bis Can you think of the advantages and inconvients of list vs dictionary ?**"
   ]
  },
  {
   "cell_type": "markdown",
   "metadata": {},
   "source": [
    "List preserve order in your values <br />\n",
    "Dict allows to associate keys with values <br />\n",
    "Dict is faster on large volumes <br />"
   ]
  },
  {
   "cell_type": "markdown",
   "metadata": {},
   "source": [
    "## 5 Answering your own questions"
   ]
  },
  {
   "cell_type": "markdown",
   "metadata": {
    "collapsed": true
   },
   "source": [
    "What makes data science growing very fast is the wide range of open source tools, documentations and forums that are available online. <br />\n",
    "\n",
    "Python is a widely documented program and you will be able to find answers to your questions by querying search engines (Google, Bing, Yahoo, ...).<br />\n",
    "\n",
    "At this stage search engines will become a far more exhaustive, accurate and fast teacher than any. <br />\n",
    "\n",
    "As a first glence in the world of finding answers on your programming questions, can you:<br />\n",
    "\n",
    "** 5.1 ask Google how to find the max value in a list**<br />\n",
    "**5.2 ask Google how to order a list of numbers in a descending order**<br />\n",
    "**5.3 ask Google how to get the key of the max value in a dictionary**<br />"
   ]
  },
  {
   "cell_type": "code",
   "execution_count": null,
   "metadata": {
    "collapsed": true
   },
   "outputs": [],
   "source": []
  }
 ],
 "metadata": {
  "kernelspec": {
   "display_name": "Python 2",
   "language": "python",
   "name": "python2"
  },
  "language_info": {
   "codemirror_mode": {
    "name": "ipython",
    "version": 2
   },
   "file_extension": ".py",
   "mimetype": "text/x-python",
   "name": "python",
   "nbconvert_exporter": "python",
   "pygments_lexer": "ipython2",
   "version": "2.7.12"
  }
 },
 "nbformat": 4,
 "nbformat_minor": 0
}
