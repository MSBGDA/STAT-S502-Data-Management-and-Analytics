{
 "cells": [
  {
   "cell_type": "markdown",
   "metadata": {},
   "source": [
    "## Group Work 1: Gun deaths in the US"
   ]
  },
  {
   "cell_type": "markdown",
   "metadata": {},
   "source": [
    "** Context **"
   ]
  },
  {
   "cell_type": "markdown",
   "metadata": {},
   "source": [
    "You recently heard that more than 33.000 people die from gun-death in the U.S. every year. <br>\n",
    "\n",
    "As a data scientist you want to use data acquisition techniques and databases to acquire a deeper understanding of the subject. <br> \n",
    "\n",
    "You came across a .CSV dataset from the CDC (Center for Disease Control and Prevention) that includes information about gun-death in the US in the years 2012-2014. <br>\n",
    "\n",
    "https://www.cdc.gov/ <br>\n",
    "\n",
    "You then decided to download the file (guns.csv) and explore the data. <br>"
   ]
  },
  {
   "cell_type": "markdown",
   "metadata": {},
   "source": [
    "** Data **"
   ]
  },
  {
   "cell_type": "markdown",
   "metadata": {},
   "source": [
    "The dataset includes data regarding the victim's age, sex, race, education, intent, time (month and year) and place of death, and whether or not police was at the place of death."
   ]
  },
  {
   "cell_type": "markdown",
   "metadata": {},
   "source": [
    "- year: The year in which the fatality occurred, integer <br>\n",
    "\n",
    "- month: The month in which the fatality occurred, integer <br>\n",
    "\n",
    "- intent: The intent of the perpetrator of the crime. This can be Suicide, Accidental, NA, Homicide, or Undetermined, string\n",
    "\n",
    "- police: Whether a police officer was involved with the shooting. Either 0 (false) or 1 (true), integer\n",
    "\n",
    "- sex: The gender of the victim. Either M or F, string\n",
    "\n",
    "- age: The age of the victim, integer\n",
    "\n",
    "- race: The race of the victim. Either Asian/Pacific Islander, Native American/Native Alaskan, Black, Hispanic, or White, string\n",
    "\n",
    "- hispanic: A code indicating the Hispanic origin of the victim, integer\n",
    "\n",
    "- place: Where the shooting occurred. Has several categories, which you're encouraged to explore on your own, string\n",
    "\n",
    "- education: Educational status of the victim, integer <br>\n",
    "    can be one of the following: \n",
    "    - 1: Less than High School \n",
    "    - 2: Graduated from High School or equivalent \n",
    "    - 3: Some College \n",
    "    - 4: At least graduated from College \n",
    "    - 5: Not available\n",
    "\n",
    "- id: Gun-death id, integer"
   ]
  },
  {
   "cell_type": "markdown",
   "metadata": {},
   "source": [
    "** Simply run the following lines to connect to MongoDB database and import unicodecsv library **"
   ]
  },
  {
   "cell_type": "code",
   "execution_count": 1,
   "metadata": {
    "collapsed": true
   },
   "outputs": [],
   "source": [
    "import unicodecsv\n",
    "from pymongo import MongoClient\n",
    "from pprint import pprint\n",
    "db = MongoClient()[\"Solvay\"]"
   ]
  },
  {
   "cell_type": "markdown",
   "metadata": {},
   "source": [
    "### A. Import data in Python"
   ]
  },
  {
   "cell_type": "markdown",
   "metadata": {},
   "source": [
    "** A.1 Open guns.csv file in a text editor (ex. Sublime Text) and identify \"delimiter\" and \"quotechar\" in the document**"
   ]
  },
  {
   "cell_type": "markdown",
   "metadata": {},
   "source": [
    "quotechar:  \n",
    "delimiter:"
   ]
  },
  {
   "cell_type": "markdown",
   "metadata": {},
   "source": [
    "** A.2 Explain what are delimiter and quotechar used for in a csv document **"
   ]
  },
  {
   "cell_type": "code",
   "execution_count": null,
   "metadata": {
    "collapsed": true
   },
   "outputs": [],
   "source": []
  },
  {
   "cell_type": "markdown",
   "metadata": {},
   "source": [
    "** A.3 Import data from guns.csv in your Python notebook using DictReader. **"
   ]
  },
  {
   "cell_type": "code",
   "execution_count": 5,
   "metadata": {
    "collapsed": false
   },
   "outputs": [],
   "source": [
    "reader = unicodecsv.DictReader(open('./guns.csv'), quotechar='\"', delimiter=',')"
   ]
  },
  {
   "cell_type": "markdown",
   "metadata": {},
   "source": [
    "** A.4 Print the five first lines of the csv files **"
   ]
  },
  {
   "cell_type": "code",
   "execution_count": 7,
   "metadata": {
    "collapsed": true
   },
   "outputs": [
    {
     "name": "stdout",
     "output_type": "stream",
     "text": [
      "{u'education': u'2', u'police': u'0', u'age': u'48', u'sex': u'M', u'hispanic': u'100', u'race': u'White', u'intent': u'Undetermined', u'year': u'2012', u'place': u'Home', u'month': u'02', u'id': u'7'}\n",
      "{u'education': u'2', u'police': u'0', u'age': u'41', u'sex': u'M', u'hispanic': u'100', u'race': u'Native American/Native Alaskan', u'intent': u'Suicide', u'year': u'2012', u'place': u'Home', u'month': u'03', u'id': u'8'}\n",
      "{u'education': u'3', u'police': u'0', u'age': u'50', u'sex': u'M', u'hispanic': u'100', u'race': u'White', u'intent': u'Accidental', u'year': u'2012', u'place': u'Other specified', u'month': u'02', u'id': u'9'}\n",
      "{u'education': u'5', u'police': u'0', u'age': u'NA', u'sex': u'M', u'hispanic': u'998', u'race': u'Black', u'intent': u'Suicide', u'year': u'2012', u'place': u'Home', u'month': u'02', u'id': u'10'}\n",
      "{u'education': u'3', u'police': u'0', u'age': u'30', u'sex': u'M', u'hispanic': u'100', u'race': u'White', u'intent': u'Suicide', u'year': u'2012', u'place': u'Home', u'month': u'02', u'id': u'11'}\n"
     ]
    }
   ],
   "source": [
    "count = 1\n",
    "for line in reader:\n",
    "    if count <= 5:\n",
    "        print line\n",
    "    else:\n",
    "        break\n",
    "    count += 1"
   ]
  },
  {
   "cell_type": "markdown",
   "metadata": {},
   "source": [
    "** A.5 Which data structure is used by DictReader to import data from guns.csv ? **"
   ]
  },
  {
   "cell_type": "code",
   "execution_count": null,
   "metadata": {
    "collapsed": true
   },
   "outputs": [],
   "source": []
  },
  {
   "cell_type": "markdown",
   "metadata": {},
   "source": [
    "** A.6 DictReader uses the same data type to store all values. What is that data type ? **"
   ]
  },
  {
   "cell_type": "code",
   "execution_count": null,
   "metadata": {
    "collapsed": true
   },
   "outputs": [],
   "source": []
  },
  {
   "cell_type": "markdown",
   "metadata": {},
   "source": [
    "### B. Storing data in MongoDB"
   ]
  },
  {
   "cell_type": "markdown",
   "metadata": {},
   "source": [
    "** B.1 Which data structure will you use to store documents in MongoDB ? **"
   ]
  },
  {
   "cell_type": "code",
   "execution_count": null,
   "metadata": {
    "collapsed": true
   },
   "outputs": [],
   "source": []
  },
  {
   "cell_type": "markdown",
   "metadata": {},
   "source": [
    "** B.2 Cite 2 advantages and 2 drawbacks of using document-oriented databases compared to relational databases ? **"
   ]
  },
  {
   "cell_type": "code",
   "execution_count": null,
   "metadata": {
    "collapsed": true
   },
   "outputs": [],
   "source": []
  },
  {
   "cell_type": "markdown",
   "metadata": {},
   "source": [
    "** B.3 Identify an attribute in guns.csv that uniquely identifies each gun-death **"
   ]
  },
  {
   "cell_type": "code",
   "execution_count": null,
   "metadata": {
    "collapsed": true
   },
   "outputs": [],
   "source": []
  },
  {
   "cell_type": "markdown",
   "metadata": {},
   "source": [
    "** B.4 Store each gun-death information in a dedicated document in a MongoDB collection named \"guns_death_us\" **\n",
    "\n",
    "For each gun-death document, store the following attributes in the specified data type:\n",
    "- id: int\n",
    "- year: int\n",
    "- month: int\n",
    "- intent: str\n",
    "- police: int\n",
    "- sex: str\n",
    "- age: int\n",
    "- race: str\n",
    "- place: str\n",
    "- education: int"
   ]
  },
  {
   "cell_type": "code",
   "execution_count": 2,
   "metadata": {
    "collapsed": false
   },
   "outputs": [],
   "source": [
    "reader = unicodecsv.DictReader(open(\"./guns.csv\"), quotechar='\"', delimiter=\",\")\n",
    "count = 0\n",
    "for line in reader:\n",
    "    r = {\n",
    "        \"id\":int(line[\"id\"]),\n",
    "        \"year\":int(line[\"year\"]),\n",
    "        \"month\":int(line[\"month\"]),\n",
    "        \"intent\":line[\"intent\"],\n",
    "        \"police\":int(line[\"police\"]),\n",
    "        \"sex\":line[\"sex\"],\n",
    "        \"age\":int(line[\"age\"]),\n",
    "        \"race\":line[\"race\"],\n",
    "        \"place\":line[\"place\"],\n",
    "        \"education\":int(line[\"education\"]),\n",
    "    }\n",
    "    db[\"guns_death_us\"].save(r)"
   ]
  },
  {
   "cell_type": "markdown",
   "metadata": {},
   "source": [
    "** B.5 Count how many documents are stored in newly created \"guns_death_us\" collection **"
   ]
  },
  {
   "cell_type": "code",
   "execution_count": 3,
   "metadata": {
    "collapsed": false
   },
   "outputs": [
    {
     "data": {
      "text/plain": [
       "100727"
      ]
     },
     "execution_count": 3,
     "metadata": {},
     "output_type": "execute_result"
    }
   ],
   "source": [
    "db[\"guns_death_us\"].count()"
   ]
  },
  {
   "cell_type": "markdown",
   "metadata": {},
   "source": [
    "### C. Selecting documents from MongoDB"
   ]
  },
  {
   "cell_type": "markdown",
   "metadata": {},
   "source": [
    "** C.1 Select the first document in the \"guns_death_us\" collection **"
   ]
  },
  {
   "cell_type": "code",
   "execution_count": 4,
   "metadata": {
    "collapsed": true
   },
   "outputs": [
    {
     "data": {
      "text/plain": [
       "{u'_id': ObjectId('58d8c6f901651c0888ef6326'),\n",
       " u'age': 34,\n",
       " u'education': 4,\n",
       " u'id': 1,\n",
       " u'intent': u'Suicide',\n",
       " u'month': 1,\n",
       " u'place': u'Home',\n",
       " u'police': 0,\n",
       " u'race': u'Asian/Pacific Islander',\n",
       " u'sex': u'M',\n",
       " u'year': 2012}"
      ]
     },
     "execution_count": 4,
     "metadata": {},
     "output_type": "execute_result"
    }
   ],
   "source": [
    "db[\"guns_death_us\"].find_one()"
   ]
  },
  {
   "cell_type": "markdown",
   "metadata": {},
   "source": [
    "** C2. Perform distinct operations on the following fields in order to identify their content: <br> **\n",
    "- intent\n",
    "- place\n",
    "- race\n",
    "\n",
    "\"distinct\" operation in MongoDB enables to identify all possible values in a field: **db[\"guns_death_us\"].distinct('field') ** <br>"
   ]
  },
  {
   "cell_type": "code",
   "execution_count": 32,
   "metadata": {
    "collapsed": false
   },
   "outputs": [
    {
     "data": {
      "text/plain": [
       "[u'Suicide', u'Undetermined', u'Accidental', u'Homicide', u'NA']"
      ]
     },
     "execution_count": 32,
     "metadata": {},
     "output_type": "execute_result"
    }
   ],
   "source": [
    "db[\"guns_death_us\"].distinct(\"intent\")"
   ]
  },
  {
   "cell_type": "code",
   "execution_count": 33,
   "metadata": {
    "collapsed": true
   },
   "outputs": [
    {
     "data": {
      "text/plain": [
       "[u'Home',\n",
       " u'Street',\n",
       " u'Other specified',\n",
       " u'NA',\n",
       " u'Other unspecified',\n",
       " u'Trade/service area',\n",
       " u'Farm',\n",
       " u'Industrial/construction',\n",
       " u'School/instiution',\n",
       " u'Sports',\n",
       " u'Residential institution']"
      ]
     },
     "execution_count": 33,
     "metadata": {},
     "output_type": "execute_result"
    }
   ],
   "source": [
    "db[\"guns_death_us\"].distinct(\"place\")"
   ]
  },
  {
   "cell_type": "code",
   "execution_count": 34,
   "metadata": {
    "collapsed": true
   },
   "outputs": [
    {
     "data": {
      "text/plain": [
       "[u'Asian/Pacific Islander',\n",
       " u'White',\n",
       " u'Native American/Native Alaskan',\n",
       " u'Black',\n",
       " u'Hispanic']"
      ]
     },
     "execution_count": 34,
     "metadata": {},
     "output_type": "execute_result"
    }
   ],
   "source": [
    "db[\"guns_death_us\"].distinct(\"race\")"
   ]
  },
  {
   "cell_type": "markdown",
   "metadata": {},
   "source": [
    "** C.3 Select a gun-death that was accidental and happend in the street ** <br>\n",
    "Only select age, intent, place, race and sex values"
   ]
  },
  {
   "cell_type": "code",
   "execution_count": 2,
   "metadata": {
    "collapsed": true
   },
   "outputs": [
    {
     "data": {
      "text/plain": [
       "{u'_id': ObjectId('58d8c6fa01651c0888ef6886'),\n",
       " u'age': 21,\n",
       " u'intent': u'Accidental',\n",
       " u'place': u'Street',\n",
       " u'race': u'Black',\n",
       " u'sex': u'M'}"
      ]
     },
     "execution_count": 2,
     "metadata": {},
     "output_type": "execute_result"
    }
   ],
   "source": [
    "db[\"guns_death_us\"].find_one({\"place\":\"Street\", \"intent\":\"Accidental\"}, {\"age\":1, \"intent\":1, \"place\":1,\"race\":1,\"sex\":1})"
   ]
  },
  {
   "cell_type": "markdown",
   "metadata": {},
   "source": [
    "** C.4 Select gun-deaths that happened in a farm where homicide was commited on a woman ** <br>\n",
    "Only select race and age values and print it for each document"
   ]
  },
  {
   "cell_type": "code",
   "execution_count": 3,
   "metadata": {
    "collapsed": true
   },
   "outputs": [
    {
     "name": "stdout",
     "output_type": "stream",
     "text": [
      "{u'age': 28, u'_id': ObjectId('58d8c6f901651c0888ef640e'), u'race': u'White'}\n",
      " \n",
      "{u'age': 27, u'_id': ObjectId('58d8c70101651c0888efd71a'), u'race': u'Hispanic'}\n",
      " \n",
      "{u'age': 24, u'_id': ObjectId('58d8c70201651c0888efed56'), u'race': u'Hispanic'}\n",
      " \n",
      "{u'age': 42, u'_id': ObjectId('58d8c70401651c0888f00525'), u'race': u'Hispanic'}\n",
      " \n",
      "{u'age': 21, u'_id': ObjectId('58d8c70501651c0888f017bb'), u'race': u'White'}\n",
      " \n",
      "{u'age': 80, u'_id': ObjectId('58d8c70801651c0888f041c2'), u'race': u'White'}\n",
      " \n",
      "{u'age': 26, u'_id': ObjectId('58d8c70901651c0888f04e06'), u'race': u'White'}\n",
      " \n",
      "{u'age': 59, u'_id': ObjectId('58d8c70b01651c0888f064d2'), u'race': u'White'}\n",
      " \n",
      "{u'age': 54, u'_id': ObjectId('58d8c70d01651c0888f08423'), u'race': u'White'}\n",
      " \n",
      "{u'age': 23, u'_id': ObjectId('58d8c70f01651c0888f09995'), u'race': u'White'}\n",
      " \n",
      "{u'age': 39, u'_id': ObjectId('58d8c70f01651c0888f09fea'), u'race': u'White'}\n",
      " \n",
      "{u'age': 42, u'_id': ObjectId('58d8c71101651c0888f0c226'), u'race': u'White'}\n",
      " \n",
      "{u'age': 54, u'_id': ObjectId('58d8c71301651c0888f0d82a'), u'race': u'White'}\n",
      " \n",
      "{u'age': 23, u'_id': ObjectId('58d8c71401651c0888f0e6a1'), u'race': u'Hispanic'}\n",
      " \n",
      "{u'age': 19, u'_id': ObjectId('58d8c71401651c0888f0e6a4'), u'race': u'Hispanic'}\n",
      " \n"
     ]
    }
   ],
   "source": [
    "cursor = db[\"guns_death_us\"].find({\"sex\":\"F\",\"place\":\"Farm\",\"intent\":\"Homicide\"}, {\"race\":1,\"age\":1})\n",
    "\n",
    "for element in cursor:\n",
    "    print element\n",
    "    print \" \""
   ]
  },
  {
   "cell_type": "markdown",
   "metadata": {},
   "source": [
    "** C.5  When selecting more than one document MongoDB returns a cursor and not a dictionary** <br>\n",
    "- Describe what information does the cursor contain <br>\n",
    "- Describe the purpose of this approach <br>"
   ]
  },
  {
   "cell_type": "code",
   "execution_count": null,
   "metadata": {
    "collapsed": true
   },
   "outputs": [],
   "source": []
  },
  {
   "cell_type": "markdown",
   "metadata": {},
   "source": [
    "### D. Exploring data"
   ]
  },
  {
   "cell_type": "markdown",
   "metadata": {
    "collapsed": true
   },
   "source": [
    "** D.1  How many homicides were commited on Americans below 18 years old in 2014? ** <br>"
   ]
  },
  {
   "cell_type": "code",
   "execution_count": 63,
   "metadata": {
    "collapsed": true
   },
   "outputs": [
    {
     "data": {
      "text/plain": [
       "1322"
      ]
     },
     "execution_count": 63,
     "metadata": {},
     "output_type": "execute_result"
    }
   ],
   "source": [
    "db[\"guns_death_us\"].find({\"age\":{\"$lt\":18}, \"year\":2014}).count()"
   ]
  },
  {
   "cell_type": "markdown",
   "metadata": {},
   "source": [
    "** D.2 Which month accounted for the highest number of gun-deaths in 2012 ? ** <br>\n",
    "This question must be answered using an aggregation pipeline <br>\n",
    "Sort results in a descending order <br>"
   ]
  },
  {
   "cell_type": "code",
   "execution_count": 64,
   "metadata": {
    "collapsed": true
   },
   "outputs": [
    {
     "data": {
      "text/plain": [
       "{u'ok': 1.0,\n",
       " u'result': [{u'_id': 7, u'count': 3020},\n",
       "  {u'_id': 5, u'count': 2994},\n",
       "  {u'_id': 8, u'count': 2952},\n",
       "  {u'_id': 9, u'count': 2850},\n",
       "  {u'_id': 6, u'count': 2824},\n",
       "  {u'_id': 4, u'count': 2794},\n",
       "  {u'_id': 12, u'count': 2791},\n",
       "  {u'_id': 1, u'count': 2758},\n",
       "  {u'_id': 3, u'count': 2741},\n",
       "  {u'_id': 10, u'count': 2733},\n",
       "  {u'_id': 11, u'count': 2726},\n",
       "  {u'_id': 2, u'count': 2353}]}"
      ]
     },
     "execution_count": 64,
     "metadata": {},
     "output_type": "execute_result"
    }
   ],
   "source": [
    "db['guns_death_us'].aggregate([\n",
    "        {'$match':{'year':2012}},\n",
    "        {'$group':{'_id':\"$month\", 'count':{'$sum':1}}},\n",
    "        {'$sort':{'count':-1}}])"
   ]
  },
  {
   "cell_type": "markdown",
   "metadata": {},
   "source": [
    "** D.3  Which intent caused the most gun-deaths in the US between 2012 and 2014 ? ** <br>\n",
    "This question must be answered using an aggregation pipeline"
   ]
  },
  {
   "cell_type": "code",
   "execution_count": 65,
   "metadata": {
    "collapsed": true
   },
   "outputs": [
    {
     "data": {
      "text/plain": [
       "{u'ok': 1.0,\n",
       " u'result': [{u'_id': u'Homicide', u'count': 35133},\n",
       "  {u'_id': u'NA', u'count': 1},\n",
       "  {u'_id': u'Accidental', u'count': 1625},\n",
       "  {u'_id': u'Undetermined', u'count': 806},\n",
       "  {u'_id': u'Suicide', u'count': 63162}]}"
      ]
     },
     "execution_count": 65,
     "metadata": {},
     "output_type": "execute_result"
    }
   ],
   "source": [
    "db['guns_death_us'].aggregate([\n",
    "        {'$match':{}},\n",
    "        {'$group':{'_id':\"$intent\", 'count':{'$sum':1}}}])"
   ]
  },
  {
   "cell_type": "markdown",
   "metadata": {},
   "source": [
    "** D.4 Investigate sex distribution for the intent that caused the most gun-deaths in the US between 2012 and 2014 ? ** <br>\n",
    "This question must be answered using an aggregation pipeline"
   ]
  },
  {
   "cell_type": "code",
   "execution_count": 66,
   "metadata": {
    "collapsed": true
   },
   "outputs": [
    {
     "data": {
      "text/plain": [
       "{u'ok': 1.0,\n",
       " u'result': [{u'_id': u'F', u'count': 8687}, {u'_id': u'M', u'count': 54475}]}"
      ]
     },
     "execution_count": 66,
     "metadata": {},
     "output_type": "execute_result"
    }
   ],
   "source": [
    "db['guns_death_us'].aggregate([\n",
    "        {'$match':{'intent':'Suicide'}},\n",
    "        {'$group':{'_id':\"$sex\", 'count':{'$sum':1}}}])"
   ]
  },
  {
   "cell_type": "markdown",
   "metadata": {},
   "source": [
    "** D.5 Draw a first conclusion on the type of gun-death that accounts for the most gun-deaths ? ** <br>"
   ]
  },
  {
   "cell_type": "code",
   "execution_count": null,
   "metadata": {
    "collapsed": true
   },
   "outputs": [],
   "source": []
  },
  {
   "cell_type": "markdown",
   "metadata": {},
   "source": [
    "** D.6 Investigate race distribution for each of the top three intents ? ** <br>\n",
    "This question must be answered using an aggregation pipeline <br>\n",
    "Sort results in a descending order <br>"
   ]
  },
  {
   "cell_type": "code",
   "execution_count": 67,
   "metadata": {
    "collapsed": true
   },
   "outputs": [
    {
     "data": {
      "text/plain": [
       "{u'ok': 1.0,\n",
       " u'result': [{u'_id': u'White', u'count': 55363},\n",
       "  {u'_id': u'Black', u'count': 3331},\n",
       "  {u'_id': u'Hispanic', u'count': 3169},\n",
       "  {u'_id': u'Asian/Pacific Islander', u'count': 745},\n",
       "  {u'_id': u'Native American/Native Alaskan', u'count': 554}]}"
      ]
     },
     "execution_count": 67,
     "metadata": {},
     "output_type": "execute_result"
    }
   ],
   "source": [
    "db['guns_death_us'].aggregate([\n",
    "        {'$match':{'intent':'Suicide'}},\n",
    "        {'$group':{'_id':\"$race\", 'count':{'$sum':1}}},\n",
    "        {'$sort':{'count':-1}}])"
   ]
  },
  {
   "cell_type": "code",
   "execution_count": 68,
   "metadata": {
    "collapsed": true
   },
   "outputs": [
    {
     "data": {
      "text/plain": [
       "{u'ok': 1.0,\n",
       " u'result': [{u'_id': u'Black', u'count': 19498},\n",
       "  {u'_id': u'White', u'count': 9125},\n",
       "  {u'_id': u'Hispanic', u'count': 5628},\n",
       "  {u'_id': u'Asian/Pacific Islander', u'count': 557},\n",
       "  {u'_id': u'Native American/Native Alaskan', u'count': 325}]}"
      ]
     },
     "execution_count": 68,
     "metadata": {},
     "output_type": "execute_result"
    }
   ],
   "source": [
    "db['guns_death_us'].aggregate([\n",
    "        {'$match':{'intent':'Homicide'}},\n",
    "        {'$group':{'_id':\"$race\", 'count':{'$sum':1}}},\n",
    "        {'$sort':{'count':-1}}])"
   ]
  },
  {
   "cell_type": "code",
   "execution_count": 69,
   "metadata": {
    "collapsed": true
   },
   "outputs": [
    {
     "data": {
      "text/plain": [
       "{u'ok': 1.0,\n",
       " u'result': [{u'_id': u'White', u'count': 1126},\n",
       "  {u'_id': u'Black', u'count': 321},\n",
       "  {u'_id': u'Hispanic', u'count': 145},\n",
       "  {u'_id': u'Native American/Native Alaskan', u'count': 21},\n",
       "  {u'_id': u'Asian/Pacific Islander', u'count': 12}]}"
      ]
     },
     "execution_count": 69,
     "metadata": {},
     "output_type": "execute_result"
    }
   ],
   "source": [
    "db['guns_death_us'].aggregate([\n",
    "        {'$match':{'intent':'Accidental'}},\n",
    "        {'$group':{'_id':\"$race\", 'count':{'$sum':1}}},\n",
    "        {'$sort':{'count':-1}}])"
   ]
  },
  {
   "cell_type": "markdown",
   "metadata": {},
   "source": [
    "** D.7 Describe impact of race on each of the top three intents ? ** <br>"
   ]
  },
  {
   "cell_type": "code",
   "execution_count": null,
   "metadata": {
    "collapsed": true
   },
   "outputs": [],
   "source": []
  },
  {
   "cell_type": "markdown",
   "metadata": {},
   "source": [
    "** D.8 Investigate age distribution of victims on which were commited homicides ? ** <br>\n",
    "This question must be answered using an aggregation pipeline <br>\n",
    "Sort results in ascending order on age value <br>"
   ]
  },
  {
   "cell_type": "code",
   "execution_count": 59,
   "metadata": {
    "collapsed": true
   },
   "outputs": [
    {
     "data": {
      "text/plain": [
       "{u'ok': 1.0,\n",
       " u'result': [{u'_id': 0, u'count': 21},\n",
       "  {u'_id': 1, u'count': 32},\n",
       "  {u'_id': 2, u'count': 22},\n",
       "  {u'_id': 3, u'count': 29},\n",
       "  {u'_id': 4, u'count': 28},\n",
       "  {u'_id': 5, u'count': 30},\n",
       "  {u'_id': 6, u'count': 37},\n",
       "  {u'_id': 7, u'count': 38},\n",
       "  {u'_id': 8, u'count': 23},\n",
       "  {u'_id': 9, u'count': 36},\n",
       "  {u'_id': 10, u'count': 37},\n",
       "  {u'_id': 11, u'count': 39},\n",
       "  {u'_id': 12, u'count': 50},\n",
       "  {u'_id': 13, u'count': 85},\n",
       "  {u'_id': 14, u'count': 125},\n",
       "  {u'_id': 15, u'count': 261},\n",
       "  {u'_id': 16, u'count': 474},\n",
       "  {u'_id': 17, u'count': 710},\n",
       "  {u'_id': 18, u'count': 1138},\n",
       "  {u'_id': 19, u'count': 1364},\n",
       "  {u'_id': 20, u'count': 1467},\n",
       "  {u'_id': 21, u'count': 1570},\n",
       "  {u'_id': 22, u'count': 1628},\n",
       "  {u'_id': 23, u'count': 1459},\n",
       "  {u'_id': 24, u'count': 1442},\n",
       "  {u'_id': 25, u'count': 1300},\n",
       "  {u'_id': 26, u'count': 1245},\n",
       "  {u'_id': 27, u'count': 1135},\n",
       "  {u'_id': 28, u'count': 1119},\n",
       "  {u'_id': 29, u'count': 1054},\n",
       "  {u'_id': 30, u'count': 993},\n",
       "  {u'_id': 31, u'count': 928},\n",
       "  {u'_id': 32, u'count': 964},\n",
       "  {u'_id': 33, u'count': 884},\n",
       "  {u'_id': 34, u'count': 867},\n",
       "  {u'_id': 35, u'count': 782},\n",
       "  {u'_id': 36, u'count': 718},\n",
       "  {u'_id': 37, u'count': 646},\n",
       "  {u'_id': 38, u'count': 625},\n",
       "  {u'_id': 39, u'count': 552},\n",
       "  {u'_id': 40, u'count': 555},\n",
       "  {u'_id': 41, u'count': 540},\n",
       "  {u'_id': 42, u'count': 537},\n",
       "  {u'_id': 43, u'count': 493},\n",
       "  {u'_id': 44, u'count': 435},\n",
       "  {u'_id': 45, u'count': 399},\n",
       "  {u'_id': 46, u'count': 401},\n",
       "  {u'_id': 47, u'count': 438},\n",
       "  {u'_id': 48, u'count': 386},\n",
       "  {u'_id': 49, u'count': 414},\n",
       "  {u'_id': 50, u'count': 387},\n",
       "  {u'_id': 51, u'count': 374},\n",
       "  {u'_id': 52, u'count': 336},\n",
       "  {u'_id': 53, u'count': 295},\n",
       "  {u'_id': 54, u'count': 261},\n",
       "  {u'_id': 55, u'count': 232},\n",
       "  {u'_id': 56, u'count': 250},\n",
       "  {u'_id': 57, u'count': 214},\n",
       "  {u'_id': 58, u'count': 203},\n",
       "  {u'_id': 59, u'count': 204},\n",
       "  {u'_id': 60, u'count': 145},\n",
       "  {u'_id': 61, u'count': 155},\n",
       "  {u'_id': 62, u'count': 155},\n",
       "  {u'_id': 63, u'count': 112},\n",
       "  {u'_id': 64, u'count': 130},\n",
       "  {u'_id': 65, u'count': 101},\n",
       "  {u'_id': 66, u'count': 106},\n",
       "  {u'_id': 67, u'count': 89},\n",
       "  {u'_id': 68, u'count': 95},\n",
       "  {u'_id': 69, u'count': 60},\n",
       "  {u'_id': 70, u'count': 54},\n",
       "  {u'_id': 71, u'count': 56},\n",
       "  {u'_id': 72, u'count': 51},\n",
       "  {u'_id': 73, u'count': 58},\n",
       "  {u'_id': 74, u'count': 43},\n",
       "  {u'_id': 75, u'count': 35},\n",
       "  {u'_id': 76, u'count': 40},\n",
       "  {u'_id': 77, u'count': 25},\n",
       "  {u'_id': 78, u'count': 46},\n",
       "  {u'_id': 79, u'count': 29},\n",
       "  {u'_id': 80, u'count': 37},\n",
       "  {u'_id': 81, u'count': 26},\n",
       "  {u'_id': 82, u'count': 20},\n",
       "  {u'_id': 83, u'count': 28},\n",
       "  {u'_id': 84, u'count': 30},\n",
       "  {u'_id': 85, u'count': 19},\n",
       "  {u'_id': 86, u'count': 11},\n",
       "  {u'_id': 87, u'count': 12},\n",
       "  {u'_id': 88, u'count': 11},\n",
       "  {u'_id': 89, u'count': 12},\n",
       "  {u'_id': 90, u'count': 10},\n",
       "  {u'_id': 91, u'count': 3},\n",
       "  {u'_id': 92, u'count': 3},\n",
       "  {u'_id': 93, u'count': 3},\n",
       "  {u'_id': 94, u'count': 2},\n",
       "  {u'_id': 95, u'count': 3},\n",
       "  {u'_id': 96, u'count': 3},\n",
       "  {u'_id': 97, u'count': 2},\n",
       "  {u'_id': 99, u'count': 1},\n",
       "  {u'_id': 107, u'count': 1}]}"
      ]
     },
     "execution_count": 59,
     "metadata": {},
     "output_type": "execute_result"
    }
   ],
   "source": [
    "db['guns_death_us'].aggregate([\n",
    "        {'$match':{'intent':'Homicide'}},\n",
    "        {'$group':{'_id':\"$age\", 'count':{'$sum':1}}},\n",
    "        {'$sort':{'_id':1}}])"
   ]
  },
  {
   "cell_type": "markdown",
   "metadata": {},
   "source": [
    "** D.9 Investigate average age of each race on which were commited at least 1000 homicides between 2012 and 2014 ? ** <br>\n",
    "This question must be answered using an aggregation pipeline <br>\n",
    "Sort results in a descending order <br>"
   ]
  },
  {
   "cell_type": "code",
   "execution_count": 47,
   "metadata": {
    "collapsed": true
   },
   "outputs": [
    {
     "data": {
      "text/plain": [
       "{u'ok': 1.0,\n",
       " u'result': [{u'_id': u'Black',\n",
       "   u'avg_age': 29.665504154272234,\n",
       "   u'count': 19498},\n",
       "  {u'_id': u'White', u'avg_age': 40.55605479452055, u'count': 9125},\n",
       "  {u'_id': u'Hispanic', u'avg_age': 29.76457000710732, u'count': 5628}]}"
      ]
     },
     "execution_count": 47,
     "metadata": {},
     "output_type": "execute_result"
    }
   ],
   "source": [
    "db['guns_death_us'].aggregate([\n",
    "        {'$match':{'intent':'Homicide'}},\n",
    "        {'$group':{'_id':\"$race\", 'count':{'$sum':1}, 'avg_age':{'$avg':'$age'}}},\n",
    "        {'$match':{'count':{'$gte':1000}}},\n",
    "        {'$sort':{'count':-1}}])"
   ]
  },
  {
   "cell_type": "markdown",
   "metadata": {},
   "source": [
    "** D.10 Describe impact of race on age of the victims of homicides ? ** <br>"
   ]
  },
  {
   "cell_type": "code",
   "execution_count": null,
   "metadata": {
    "collapsed": true
   },
   "outputs": [],
   "source": []
  },
  {
   "cell_type": "markdown",
   "metadata": {},
   "source": [
    "** D.11 For each race, compute minimum age of the victim when police was involved in the gun-death ? ** <br>\n",
    "This question must be answered using an aggregation pipeline <br>"
   ]
  },
  {
   "cell_type": "code",
   "execution_count": 62,
   "metadata": {
    "collapsed": true
   },
   "outputs": [
    {
     "data": {
      "text/plain": [
       "{u'ok': 1.0,\n",
       " u'result': [{u'_id': u'Asian/Pacific Islander', u'min_age': 19},\n",
       "  {u'_id': u'Black', u'min_age': 12},\n",
       "  {u'_id': u'Hispanic', u'min_age': 13},\n",
       "  {u'_id': u'Native American/Native Alaskan', u'min_age': 17},\n",
       "  {u'_id': u'White', u'min_age': 15}]}"
      ]
     },
     "execution_count": 62,
     "metadata": {},
     "output_type": "execute_result"
    }
   ],
   "source": [
    "db['guns_death_us'].aggregate([\n",
    "        {'$match':{'police':1}},\n",
    "        {'$group':{'_id':\"$race\", 'min_age':{'$min':'$age'}}},\n",
    "        {'$sort':{'count':-1}}])"
   ]
  },
  {
   "cell_type": "markdown",
   "metadata": {},
   "source": [
    "** D.12 Compare probability to be killed by accident between men and women victims ? ** <br>"
   ]
  },
  {
   "cell_type": "code",
   "execution_count": 57,
   "metadata": {
    "collapsed": false
   },
   "outputs": [
    {
     "name": "stdout",
     "output_type": "stream",
     "text": [
      "0.0163383545771\n",
      "0.0149026131559\n"
     ]
    }
   ],
   "source": [
    "accident_male = db['guns_death_us'].find({'sex':'M', 'intent':'Accidental'}).count()\n",
    "accident_female = db['guns_death_us'].find({'sex':'F', 'intent':'Accidental'}).count()\n",
    "accident_all_male = db['guns_death_us'].find({'sex':'M'}).count()\n",
    "accident_all_female = db['guns_death_us'].find({'sex':'F'}).count()\n",
    "male_proba = float(accident_male) / accident_all_male\n",
    "female_proba = float(accident_female) / accident_all_female\n",
    "print male_proba\n",
    "print female_proba"
   ]
  },
  {
   "cell_type": "markdown",
   "metadata": {},
   "source": [
    "** D.13 Group gun-death by place-sex pair values and count the number of occurences for each pair value ** <br>\n",
    "This question must be answered using an aggregation pipeline <br>\n",
    "Sort results in a descending order <br>\n",
    "Example of place-sex pair value: {'place': 'Home', 'sex': 'M'}"
   ]
  },
  {
   "cell_type": "code",
   "execution_count": 50,
   "metadata": {
    "collapsed": true
   },
   "outputs": [
    {
     "data": {
      "text/plain": [
       "{u'ok': 1.0,\n",
       " u'result': [{u'_id': {u'place': u'Home', u'sex': u'M'}, u'count': 50185},\n",
       "  {u'_id': {u'place': u'Other specified', u'sex': u'M'}, u'count': 12297},\n",
       "  {u'_id': {u'place': u'Street', u'sex': u'M'}, u'count': 10310},\n",
       "  {u'_id': {u'place': u'Home', u'sex': u'F'}, u'count': 10258},\n",
       "  {u'_id': {u'place': u'Other unspecified', u'sex': u'M'}, u'count': 7657},\n",
       "  {u'_id': {u'place': u'Trade/service area', u'sex': u'M'}, u'count': 3043},\n",
       "  {u'_id': {u'place': u'Other specified', u'sex': u'F'}, u'count': 1442},\n",
       "  {u'_id': {u'place': u'NA', u'sex': u'M'}, u'count': 1321},\n",
       "  {u'_id': {u'place': u'Other unspecified', u'sex': u'F'}, u'count': 1200},\n",
       "  {u'_id': {u'place': u'Street', u'sex': u'F'}, u'count': 838},\n",
       "  {u'_id': {u'place': u'School/instiution', u'sex': u'M'}, u'count': 561},\n",
       "  {u'_id': {u'place': u'Farm', u'sex': u'M'}, u'count': 419},\n",
       "  {u'_id': {u'place': u'Trade/service area', u'sex': u'F'}, u'count': 396},\n",
       "  {u'_id': {u'place': u'Industrial/construction', u'sex': u'M'},\n",
       "   u'count': 228},\n",
       "  {u'_id': {u'place': u'Residential institution', u'sex': u'M'},\n",
       "   u'count': 163},\n",
       "  {u'_id': {u'place': u'Sports', u'sex': u'M'}, u'count': 116},\n",
       "  {u'_id': {u'place': u'School/instiution', u'sex': u'F'}, u'count': 109},\n",
       "  {u'_id': {u'place': u'NA', u'sex': u'F'}, u'count': 63},\n",
       "  {u'_id': {u'place': u'Farm', u'sex': u'F'}, u'count': 49},\n",
       "  {u'_id': {u'place': u'Residential institution', u'sex': u'F'}, u'count': 40},\n",
       "  {u'_id': {u'place': u'Industrial/construction', u'sex': u'F'}, u'count': 20},\n",
       "  {u'_id': {u'place': u'Sports', u'sex': u'F'}, u'count': 12}]}"
      ]
     },
     "execution_count": 50,
     "metadata": {},
     "output_type": "execute_result"
    }
   ],
   "source": [
    "db['guns_death_us'].aggregate([\n",
    "        {'$match':{}},\n",
    "        {'$group':{'_id':{\"sex\":\"$sex\",\"place\":\"$place\"}, 'count':{'$sum':1}}},\n",
    "        {'$sort':{'count':-1}}])"
   ]
  },
  {
   "cell_type": "markdown",
   "metadata": {},
   "source": [
    "** D.14 Ask yourself a question about gun-deaths and find an answer by querying CDC dataset** <br>\n",
    "Explain your question and how you intend to answer it. "
   ]
  },
  {
   "cell_type": "code",
   "execution_count": null,
   "metadata": {
    "collapsed": true
   },
   "outputs": [],
   "source": []
  },
  {
   "cell_type": "markdown",
   "metadata": {},
   "source": [
    "** D.15 Write a 10 lines conclusion on interesting insights that can be drawn from your exploration of the CDC dataset **"
   ]
  },
  {
   "cell_type": "code",
   "execution_count": null,
   "metadata": {
    "collapsed": true
   },
   "outputs": [],
   "source": []
  }
 ],
 "metadata": {
  "kernelspec": {
   "display_name": "Python 2",
   "language": "python",
   "name": "python2"
  },
  "language_info": {
   "codemirror_mode": {
    "name": "ipython",
    "version": 2
   },
   "file_extension": ".py",
   "mimetype": "text/x-python",
   "name": "python",
   "nbconvert_exporter": "python",
   "pygments_lexer": "ipython2",
   "version": "2.7.12"
  }
 },
 "nbformat": 4,
 "nbformat_minor": 1
}
