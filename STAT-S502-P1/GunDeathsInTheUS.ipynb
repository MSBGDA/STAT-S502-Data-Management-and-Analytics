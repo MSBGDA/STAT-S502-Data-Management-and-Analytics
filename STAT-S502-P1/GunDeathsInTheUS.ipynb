{
 "cells": [
  {
   "cell_type": "markdown",
   "metadata": {},
   "source": [
    "# Data Management & Analytics - Project 1"
   ]
  },
  {
   "cell_type": "markdown",
   "metadata": {},
   "source": [
    "### 1. Work instructions"
   ]
  },
  {
   "cell_type": "markdown",
   "metadata": {},
   "source": [
    "**Due date**: April 26 2017 (00:00 pm) <br>\n",
    "**Deliverable**: Python notebook to be sent at \"loic.winckelmans@ulb.ac.be\". No additional documents <br>\n",
    "**Quotations**: 31 questions - 1 point per question - 15% of final quote <br>\n",
    "**Group composition**: Groups of 2 or 3 students <br>\n",
    "**Q&A**: Q&A session organised on April 14 2017"
   ]
  },
  {
   "cell_type": "markdown",
   "metadata": {},
   "source": [
    "**Group composition**:"
   ]
  },
  {
   "cell_type": "markdown",
   "metadata": {},
   "source": [
    "Student 1:  \n",
    "Student 2:  \n",
    "Student 3:  "
   ]
  },
  {
   "cell_type": "markdown",
   "metadata": {},
   "source": [
    "### 2. Context"
   ]
  },
  {
   "cell_type": "markdown",
   "metadata": {},
   "source": [
    "You recently heard that more than 33.000 people die from gun-death in the U.S. every year. <br>\n",
    "\n",
    "As a data scientist you want to use data acquisition techniques and databases to acquire a deeper understanding of the subject. <br> \n",
    "\n",
    "You came across a .CSV dataset from the CDC (https://www.cdc.gov/) that includes information about gun-death in the US in the years 2012-2014. <br>\n",
    "\n",
    "You then decided to download the file (guns.csv) and explore the data. <br>"
   ]
  },
  {
   "cell_type": "markdown",
   "metadata": {},
   "source": [
    "### 3. Data"
   ]
  },
  {
   "cell_type": "markdown",
   "metadata": {},
   "source": [
    "The dataset includes data regarding the victim's age, sex, race, education, intent, time (month and year) and place of death, and whether or not police was at the place of death."
   ]
  },
  {
   "cell_type": "markdown",
   "metadata": {},
   "source": [
    "- year: The year in which the fatality occurred, integer <br>\n",
    "\n",
    "- month: The month in which the fatality occurred, integer <br>\n",
    "\n",
    "- intent: The intent of the perpetrator of the crime. This can be Suicide, Accidental, NA, Homicide, or Undetermined, string\n",
    "\n",
    "- police: Whether a police officer was involved with the shooting. Either 0 (false) or 1 (true), integer\n",
    "\n",
    "- sex: The gender of the victim. Either M or F, string\n",
    "\n",
    "- age: The age of the victim, integer\n",
    "\n",
    "- race: The race of the victim. Either Asian/Pacific Islander, Native American/Native Alaskan, Black, Hispanic, or White, string\n",
    "\n",
    "- hispanic: A code indicating the Hispanic origin of the victim, integer\n",
    "\n",
    "- place: Where the shooting occurred. Has several categories, which you're encouraged to explore on your own, string\n",
    "\n",
    "- education: Educational status of the victim, integer <br>\n",
    "    can be one of the following: \n",
    "    - 1: Less than High School \n",
    "    - 2: Graduated from High School or equivalent \n",
    "    - 3: Some College \n",
    "    - 4: At least graduated from College \n",
    "    - 5: Not available\n",
    "\n",
    "- id: Gun-death id, integer"
   ]
  },
  {
   "cell_type": "markdown",
   "metadata": {},
   "source": [
    "** Simply run the following lines to connect to MongoDB database and import unicodecsv library **"
   ]
  },
  {
   "cell_type": "code",
   "execution_count": 27,
   "metadata": {
    "collapsed": true
   },
   "outputs": [],
   "source": [
    "import unicodecsv\n",
    "from pymongo import MongoClient\n",
    "from pprint import pprint\n",
    "db = MongoClient()[\"Solvay\"]\n",
    "import pprint\n",
    "pp = pprint.PrettyPrinter(depth=6)"
   ]
  },
  {
   "cell_type": "markdown",
   "metadata": {},
   "source": [
    "### 4. Import data in Python"
   ]
  },
  {
   "cell_type": "markdown",
   "metadata": {},
   "source": [
    "** 4.1 Open guns.csv file in a text editor (ex. Sublime Text) and identify \"delimiter\" and \"quotechar\" in the document**"
   ]
  },
  {
   "cell_type": "markdown",
   "metadata": {},
   "source": [
    "quotechar:  \n",
    "delimiter:"
   ]
  },
  {
   "cell_type": "markdown",
   "metadata": {},
   "source": [
    "** 4.2 Explain what are delimiter and quotechar used for in a csv document **"
   ]
  },
  {
   "cell_type": "markdown",
   "metadata": {
    "collapsed": true
   },
   "source": [
    "delimiter in this case is a comma (,) and it is used to separate fields while the quotechar is a one-character string use to quote fields containing special characters. the defaults is ' \" '"
   ]
  },
  {
   "cell_type": "markdown",
   "metadata": {},
   "source": [
    "** 4.3 Import data from guns.csv in your Python notebook using DictReader. **"
   ]
  },
  {
   "cell_type": "code",
   "execution_count": 28,
   "metadata": {
    "collapsed": false
   },
   "outputs": [],
   "source": [
    "reader = unicodecsv.DictReader(open('./guns.csv'), quotechar='\"', delimiter=',')"
   ]
  },
  {
   "cell_type": "markdown",
   "metadata": {},
   "source": [
    "** 4.4 Print the five first lines of the csv files **"
   ]
  },
  {
   "cell_type": "code",
   "execution_count": 29,
   "metadata": {
    "collapsed": false
   },
   "outputs": [
    {
     "name": "stdout",
     "output_type": "stream",
     "text": [
      "{u'education': u'4', u'police': u'0', u'age': u'34', u'sex': u'M', u'hispanic': u'100', u'race': u'Asian/Pacific Islander', u'intent': u'Suicide', u'year': u'2012', u'place': u'Home', u'month': u'1', u'id': u'1'}\n",
      "{u'education': u'3', u'police': u'0', u'age': u'21', u'sex': u'F', u'hispanic': u'100', u'race': u'White', u'intent': u'Suicide', u'year': u'2012', u'place': u'Street', u'month': u'1', u'id': u'2'}\n",
      "{u'education': u'4', u'police': u'0', u'age': u'60', u'sex': u'M', u'hispanic': u'100', u'race': u'White', u'intent': u'Suicide', u'year': u'2012', u'place': u'Other specified', u'month': u'1', u'id': u'3'}\n",
      "{u'education': u'4', u'police': u'0', u'age': u'64', u'sex': u'M', u'hispanic': u'100', u'race': u'White', u'intent': u'Suicide', u'year': u'2012', u'place': u'Home', u'month': u'2', u'id': u'4'}\n",
      "{u'education': u'2', u'police': u'0', u'age': u'31', u'sex': u'M', u'hispanic': u'100', u'race': u'White', u'intent': u'Suicide', u'year': u'2012', u'place': u'Other specified', u'month': u'2', u'id': u'5'}\n"
     ]
    }
   ],
   "source": [
    "count = 1\n",
    "for line in reader:\n",
    "    if count <= 5:\n",
    "        print(line)\n",
    "    else:\n",
    "        break\n",
    "    count += 1"
   ]
  },
  {
   "cell_type": "markdown",
   "metadata": {},
   "source": [
    "** 4.5 Which data structure is used by DictReader to import data from guns.csv ? **"
   ]
  },
  {
   "cell_type": "code",
   "execution_count": 4,
   "metadata": {
    "collapsed": false
   },
   "outputs": [
    {
     "data": {
      "text/plain": [
       "dict"
      ]
     },
     "execution_count": 4,
     "metadata": {},
     "output_type": "execute_result"
    }
   ],
   "source": [
    "type(line)"
   ]
  },
  {
   "cell_type": "markdown",
   "metadata": {
    "collapsed": true
   },
   "source": [
    "Dictionary"
   ]
  },
  {
   "cell_type": "markdown",
   "metadata": {},
   "source": [
    "** 4.6 DictReader uses the same data type to store all values. What is that data type ? **"
   ]
  },
  {
   "cell_type": "markdown",
   "metadata": {
    "collapsed": true
   },
   "source": [
    "string"
   ]
  },
  {
   "cell_type": "markdown",
   "metadata": {},
   "source": [
    "### 5. Storing data in MongoDB"
   ]
  },
  {
   "cell_type": "markdown",
   "metadata": {},
   "source": [
    "** 5.1 Which data structure will you use to store documents in MongoDB ? **"
   ]
  },
  {
   "cell_type": "markdown",
   "metadata": {
    "collapsed": true
   },
   "source": [
    "dictionary"
   ]
  },
  {
   "cell_type": "markdown",
   "metadata": {},
   "source": [
    "** 5.2 Cite 2 advantages and 2 drawbacks of using document-oriented databases compared to relational databases ? **"
   ]
  },
  {
   "cell_type": "markdown",
   "metadata": {
    "collapsed": true
   },
   "source": [
    "Document-oriented databaseds allows for scalability over many servers and it has the dynamically add new attributes to data records.  These databases are disadvantages because they do not support ACID transactions. There is high chance of data duplicates "
   ]
  },
  {
   "cell_type": "markdown",
   "metadata": {},
   "source": [
    "Relational databases support ACID transactions and.....These databases are disadvantages as it has limitationsto store big data due to scalability issues on many servers. Takes time to design such databases and not flexible to schema changes. "
   ]
  },
  {
   "cell_type": "markdown",
   "metadata": {},
   "source": [
    "** 5.3 Identify an attribute in guns.csv that uniquely identifies each gun-death **"
   ]
  },
  {
   "cell_type": "markdown",
   "metadata": {
    "collapsed": true
   },
   "source": [
    "the field \"id\""
   ]
  },
  {
   "cell_type": "markdown",
   "metadata": {},
   "source": [
    "** 5.4 Store each gun-death information in a dedicated document in a MongoDB collection named \"guns_death_us\" **\n",
    "\n",
    "For each gun-death document, store the following attributes in the specified data type:\n",
    "- id: int\n",
    "- year: int\n",
    "- month: int\n",
    "- intent: str\n",
    "- police: int\n",
    "- sex: str\n",
    "- age: int\n",
    "- race: str\n",
    "- place: str\n",
    "- education: int"
   ]
  },
  {
   "cell_type": "code",
   "execution_count": 30,
   "metadata": {
    "collapsed": true
   },
   "outputs": [],
   "source": [
    "def cast_int(arg):\n",
    "    return int(arg)"
   ]
  },
  {
   "cell_type": "code",
   "execution_count": 40,
   "metadata": {
    "collapsed": false
   },
   "outputs": [],
   "source": [
    "reader = unicodecsv.DictReader(open('./guns.csv'), quotechar='\"', delimiter=',')"
   ]
  },
  {
   "cell_type": "code",
   "execution_count": 37,
   "metadata": {
    "collapsed": false
   },
   "outputs": [
    {
     "name": "stdout",
     "output_type": "stream",
     "text": [
      "100727\n"
     ]
    }
   ],
   "source": [
    "c = 0\n",
    "for item in reader:\n",
    "    c += 1\n",
    "print(c)"
   ]
  },
  {
   "cell_type": "code",
   "execution_count": 41,
   "metadata": {
    "collapsed": false
   },
   "outputs": [],
   "source": [
    "for line in reader:\n",
    "    line['id'] = cast_int(line['id'])\n",
    "    line['year'] = cast_int(line['year'])\n",
    "    line['month'] = cast_int(line['month'])\n",
    "    line['police'] = cast_int(line['police'])  \n",
    "    line['age'] = cast_int(line['age'])\n",
    "    line['education']  = cast_int(line['education'])\n",
    "    db['guns_death_us'].save(line)"
   ]
  },
  {
   "cell_type": "markdown",
   "metadata": {},
   "source": [
    "** 5.5 Count how many documents are stored in newly created \"guns_death_us\" collection **"
   ]
  },
  {
   "cell_type": "code",
   "execution_count": 42,
   "metadata": {
    "collapsed": false
   },
   "outputs": [
    {
     "data": {
      "text/plain": [
       "100727"
      ]
     },
     "execution_count": 42,
     "metadata": {},
     "output_type": "execute_result"
    }
   ],
   "source": [
    "db['guns_death_us'].find().count()  "
   ]
  },
  {
   "cell_type": "markdown",
   "metadata": {},
   "source": [
    "### 6. Selecting documents from MongoDB"
   ]
  },
  {
   "cell_type": "markdown",
   "metadata": {},
   "source": [
    "** 6.1 Select the first document in the \"guns_death_us\" collection **"
   ]
  },
  {
   "cell_type": "code",
   "execution_count": 49,
   "metadata": {
    "collapsed": false
   },
   "outputs": [
    {
     "data": {
      "text/plain": [
       "{u'_id': ObjectId('6058efad01651c0a73eabb39'),\n",
       " u'age': 34,\n",
       " u'education': 4,\n",
       " u'hispanic': u'100',\n",
       " u'id': 1,\n",
       " u'intent': u'Suicide',\n",
       " u'month': 1,\n",
       " u'place': u'Home',\n",
       " u'police': 0,\n",
       " u'race': u'Asian/Pacific Islander',\n",
       " u'sex': u'M',\n",
       " u'year': 2012}"
      ]
     },
     "execution_count": 49,
     "metadata": {},
     "output_type": "execute_result"
    }
   ],
   "source": [
    "db['guns_death_us'].find_one()"
   ]
  },
  {
   "cell_type": "markdown",
   "metadata": {},
   "source": [
    "** 6.2 Perform distinct operations on the following fields in order to identify their content: <br> **\n",
    "- intent\n",
    "- place\n",
    "- race\n",
    "\n",
    "\"distinct\" operation in MongoDB enables to identify all possible values in a field: **db[\"guns_death_us\"].distinct('field') ** <br>"
   ]
  },
  {
   "cell_type": "code",
   "execution_count": 50,
   "metadata": {
    "collapsed": false
   },
   "outputs": [
    {
     "data": {
      "text/plain": [
       "[u'Suicide', u'Undetermined', u'Accidental', u'Homicide', u'NA']"
      ]
     },
     "execution_count": 50,
     "metadata": {},
     "output_type": "execute_result"
    }
   ],
   "source": [
    "db[\"guns_death_us\"].distinct('intent') "
   ]
  },
  {
   "cell_type": "code",
   "execution_count": 51,
   "metadata": {
    "collapsed": false
   },
   "outputs": [
    {
     "data": {
      "text/plain": [
       "[u'Home',\n",
       " u'Street',\n",
       " u'Other specified',\n",
       " u'NA',\n",
       " u'Other unspecified',\n",
       " u'Trade/service area',\n",
       " u'Farm',\n",
       " u'Industrial/construction',\n",
       " u'School/instiution',\n",
       " u'Sports',\n",
       " u'Residential institution']"
      ]
     },
     "execution_count": 51,
     "metadata": {},
     "output_type": "execute_result"
    }
   ],
   "source": [
    "db[\"guns_death_us\"].distinct('place') "
   ]
  },
  {
   "cell_type": "code",
   "execution_count": 52,
   "metadata": {
    "collapsed": false
   },
   "outputs": [
    {
     "data": {
      "text/plain": [
       "[u'Asian/Pacific Islander',\n",
       " u'White',\n",
       " u'Native American/Native Alaskan',\n",
       " u'Black',\n",
       " u'Hispanic']"
      ]
     },
     "execution_count": 52,
     "metadata": {},
     "output_type": "execute_result"
    }
   ],
   "source": [
    "db[\"guns_death_us\"].distinct('race') "
   ]
  },
  {
   "cell_type": "markdown",
   "metadata": {},
   "source": [
    "** 6.3 Select a gun-death that was accidental and happend in the street ** <br>\n",
    "Only select age, intent, place, race and sex values"
   ]
  },
  {
   "cell_type": "code",
   "execution_count": 53,
   "metadata": {
    "collapsed": false,
    "scrolled": true
   },
   "outputs": [
    {
     "name": "stdout",
     "output_type": "stream",
     "text": [
      "{u'age': 21,\n",
      " u'intent': u'Accidental',\n",
      " u'place': u'Street',\n",
      " u'race': u'Black',\n",
      " u'sex': u'M'}\n",
      "{u'age': 26,\n",
      " u'intent': u'Accidental',\n",
      " u'place': u'Street',\n",
      " u'race': u'Hispanic',\n",
      " u'sex': u'M'}\n",
      "{u'age': 64,\n",
      " u'intent': u'Accidental',\n",
      " u'place': u'Street',\n",
      " u'race': u'White',\n",
      " u'sex': u'M'}\n"
     ]
    }
   ],
   "source": [
    "doc = db[\"guns_death_us\"].find({\"intent\":\"Accidental\", \"place\":\"Street\"}, \\\n",
    "                               {\"age\":1,\"intent\":1,\"race\":1,\"place\":1, \"race\":1,\"sex\":1, \"_id\":0}).limit(3)\n",
    "\n",
    "for elem in doc:\n",
    "    pp.pprint(elem)"
   ]
  },
  {
   "cell_type": "markdown",
   "metadata": {},
   "source": [
    "** 6.4 Select gun-deaths that happened in a farm where homicide was commited on a woman ** <br>\n",
    "Only select race and age values and print it for each document"
   ]
  },
  {
   "cell_type": "code",
   "execution_count": 54,
   "metadata": {
    "collapsed": false,
    "scrolled": true
   },
   "outputs": [
    {
     "name": "stdout",
     "output_type": "stream",
     "text": [
      "{u'_id': ObjectId('6058efae01651c0a73eabc21'), u'age': 28, u'race': u'White'}\n",
      "{u'_id': ObjectId('6058efb701651c0a73eb2f2d'),\n",
      " u'age': 27,\n",
      " u'race': u'Hispanic'}\n",
      "{u'_id': ObjectId('6058efb801651c0a73eb4569'),\n",
      " u'age': 24,\n",
      " u'race': u'Hispanic'}\n"
     ]
    }
   ],
   "source": [
    "docs = db['guns_death_us'].find({'place':'Farm','intent':'Homicide',\"sex\":\"F\"},{\"race\":1,\"age\":1}).limit(3)\n",
    "\n",
    "for elem in docs:\n",
    "    pp.pprint(elem)"
   ]
  },
  {
   "cell_type": "markdown",
   "metadata": {},
   "source": [
    "** 6.5  When selecting more than one document MongoDB returns a cursor and not a dictionary** <br>\n",
    "- Describe what information does the cursor contain <br>\n",
    "- Describe the purpose of this approach <br>"
   ]
  },
  {
   "cell_type": "markdown",
   "metadata": {
    "collapsed": true
   },
   "source": [
    "A cursor is a pointer to the result set of a query. This pointer is a direct address of the memory location"
   ]
  },
  {
   "cell_type": "markdown",
   "metadata": {},
   "source": [
    "### 7. Exploring data"
   ]
  },
  {
   "cell_type": "markdown",
   "metadata": {
    "collapsed": true
   },
   "source": [
    "** 7.1  How many homicides were commited on Americans below 18 years old in 2014? ** <br>"
   ]
  },
  {
   "cell_type": "code",
   "execution_count": 55,
   "metadata": {
    "collapsed": false
   },
   "outputs": [
    {
     "data": {
      "text/plain": [
       "1322"
      ]
     },
     "execution_count": 55,
     "metadata": {},
     "output_type": "execute_result"
    }
   ],
   "source": [
    "db['guns_death_us'].find({'age':{'$lt':18},'year':2014}).count()"
   ]
  },
  {
   "cell_type": "markdown",
   "metadata": {},
   "source": [
    "** 7.2 Which month accounted for the highest number of gun-deaths in 2012 ? ** <br>\n",
    "This question must be answered using an aggregation pipeline <br>\n",
    "Sort results in a descending order <br>"
   ]
  },
  {
   "cell_type": "code",
   "execution_count": 56,
   "metadata": {
    "collapsed": false
   },
   "outputs": [
    {
     "data": {
      "text/plain": [
       "{u'ok': 1.0,\n",
       " u'result': [{u'_id': 7, u'deaths': 8983},\n",
       "  {u'_id': 8, u'deaths': 8776},\n",
       "  {u'_id': 6, u'deaths': 8672},\n",
       "  {u'_id': 5, u'deaths': 8658},\n",
       "  {u'_id': 9, u'deaths': 8503},\n",
       "  {u'_id': 4, u'deaths': 8450},\n",
       "  {u'_id': 12, u'deaths': 8409},\n",
       "  {u'_id': 10, u'deaths': 8401},\n",
       "  {u'_id': 3, u'deaths': 8284},\n",
       "  {u'_id': 1, u'deaths': 8269},\n",
       "  {u'_id': 11, u'deaths': 8235},\n",
       "  {u'_id': 2, u'deaths': 7087}]}"
      ]
     },
     "execution_count": 56,
     "metadata": {},
     "output_type": "execute_result"
    }
   ],
   "source": [
    "db['guns_death_us'].aggregate([{\"$group\":{\"_id\":\"$month\",\"deaths\":{\"$sum\":1}}},{\"$sort\":{\"deaths\":-1}}])"
   ]
  },
  {
   "cell_type": "markdown",
   "metadata": {},
   "source": [
    "** 7.3  Which intent caused the most gun-deaths in the US between 2012 and 2014 ? ** <br>\n",
    "This question must be answered using an aggregation pipeline"
   ]
  },
  {
   "cell_type": "code",
   "execution_count": 57,
   "metadata": {
    "collapsed": false
   },
   "outputs": [
    {
     "data": {
      "text/plain": [
       "{u'ok': 1.0,\n",
       " u'result': [{u'_id': u'Suicide', u'deaths': 63162},\n",
       "  {u'_id': u'Homicide', u'deaths': 35133},\n",
       "  {u'_id': u'Accidental', u'deaths': 1625},\n",
       "  {u'_id': u'Undetermined', u'deaths': 806},\n",
       "  {u'_id': u'NA', u'deaths': 1}]}"
      ]
     },
     "execution_count": 57,
     "metadata": {},
     "output_type": "execute_result"
    }
   ],
   "source": [
    "db['guns_death_us'].aggregate([{\"$match\":{\"year\":{\"$lte\":2014,\"$gte\":2012}}}, \\\n",
    "                               {\"$group\":{\"_id\":\"$intent\",\"deaths\":{\"$sum\":1}}},{\"$sort\":{\"deaths\":-1}}])"
   ]
  },
  {
   "cell_type": "markdown",
   "metadata": {},
   "source": [
    "** 7.4 Investigate sex distribution for the intent that caused the most gun-deaths in the US between 2012 and 2014 ? ** <br>\n",
    "This question must be answered using an aggregation pipeline"
   ]
  },
  {
   "cell_type": "code",
   "execution_count": 58,
   "metadata": {
    "collapsed": false
   },
   "outputs": [
    {
     "data": {
      "text/plain": [
       "{u'ok': 1.0,\n",
       " u'result': [{u'_id': {u'intent': u'Suicide', u'sex': u'M'}, u'deaths': 54475},\n",
       "  {u'_id': {u'intent': u'Suicide', u'sex': u'F'}, u'deaths': 8687}]}"
      ]
     },
     "execution_count": 58,
     "metadata": {},
     "output_type": "execute_result"
    }
   ],
   "source": [
    "db['guns_death_us'].aggregate([{\"$match\":{\"year\":{\"$lte\":2014,\"$gte\":2012},\"intent\":\"Suicide\"}}, \\\n",
    "                               {\"$group\":{\"_id\":{\"intent\": \"$intent\",\"sex\":\"$sex\"}, \"deaths\":{\"$sum\":1}}}, \\\n",
    "                               {\"$sort\":{\"sex\":1,\"deaths\":-1, \"intent\":1}}])"
   ]
  },
  {
   "cell_type": "markdown",
   "metadata": {},
   "source": [
    "** 7.5 Draw a first conclusion on the type of gun-death that accounts for the most gun-deaths ? ** <br>"
   ]
  },
  {
   "cell_type": "markdown",
   "metadata": {
    "collapsed": true
   },
   "source": [
    "Suicide accounts for the most deaths (63,155) and the men (54,469) are the most affected in the US"
   ]
  },
  {
   "cell_type": "markdown",
   "metadata": {},
   "source": [
    "** 7.6 Investigate race distribution for each of the top three intents ? ** <br>\n",
    "This question must be answered using an aggregation pipeline <br>\n",
    "Sort results in a descending order <br>"
   ]
  },
  {
   "cell_type": "code",
   "execution_count": 59,
   "metadata": {
    "collapsed": false
   },
   "outputs": [
    {
     "data": {
      "text/plain": [
       "{u'ok': 1.0,\n",
       " u'result': [{u'_id': {u'intent': u'Suicide', u'race': u'White'},\n",
       "   u'deaths': 55363},\n",
       "  {u'_id': {u'intent': u'Suicide', u'race': u'Black'}, u'deaths': 3331},\n",
       "  {u'_id': {u'intent': u'Suicide', u'race': u'Hispanic'}, u'deaths': 3169},\n",
       "  {u'_id': {u'intent': u'Suicide', u'race': u'Asian/Pacific Islander'},\n",
       "   u'deaths': 745},\n",
       "  {u'_id': {u'intent': u'Suicide', u'race': u'Native American/Native Alaskan'},\n",
       "   u'deaths': 554}]}"
      ]
     },
     "execution_count": 59,
     "metadata": {},
     "output_type": "execute_result"
    }
   ],
   "source": [
    "db['guns_death_us'].aggregate([{\"$match\":{\"intent\":\"Suicide\" }}, \\\n",
    "                               {\"$group\":{\"_id\":{\"intent\": \"$intent\",\"race\":\"$race\"}, \"deaths\":{\"$sum\":1}}}, \\\n",
    "                               {\"$sort\":{\"deaths\":-1}}])"
   ]
  },
  {
   "cell_type": "code",
   "execution_count": 60,
   "metadata": {
    "collapsed": false
   },
   "outputs": [
    {
     "data": {
      "text/plain": [
       "{u'ok': 1.0,\n",
       " u'result': [{u'_id': {u'intent': u'Homicide', u'race': u'Black'},\n",
       "   u'deaths': 19498},\n",
       "  {u'_id': {u'intent': u'Homicide', u'race': u'White'}, u'deaths': 9125},\n",
       "  {u'_id': {u'intent': u'Homicide', u'race': u'Hispanic'}, u'deaths': 5628},\n",
       "  {u'_id': {u'intent': u'Homicide', u'race': u'Asian/Pacific Islander'},\n",
       "   u'deaths': 557},\n",
       "  {u'_id': {u'intent': u'Homicide',\n",
       "    u'race': u'Native American/Native Alaskan'},\n",
       "   u'deaths': 325}]}"
      ]
     },
     "execution_count": 60,
     "metadata": {},
     "output_type": "execute_result"
    }
   ],
   "source": [
    "db['guns_death_us'].aggregate([{\"$match\":{\"intent\":\"Homicide\" }}, \\\n",
    "                               {\"$group\":{\"_id\":{\"intent\": \"$intent\",\"race\":\"$race\"}, \"deaths\":{\"$sum\":1}}}, \\\n",
    "                               {\"$sort\":{ \"deaths\":-1}}])"
   ]
  },
  {
   "cell_type": "code",
   "execution_count": 61,
   "metadata": {
    "collapsed": false
   },
   "outputs": [
    {
     "data": {
      "text/plain": [
       "{u'ok': 1.0,\n",
       " u'result': [{u'_id': {u'intent': u'Accidental', u'race': u'White'},\n",
       "   u'deaths': 1126},\n",
       "  {u'_id': {u'intent': u'Accidental', u'race': u'Black'}, u'deaths': 321},\n",
       "  {u'_id': {u'intent': u'Accidental', u'race': u'Hispanic'}, u'deaths': 145},\n",
       "  {u'_id': {u'intent': u'Accidental',\n",
       "    u'race': u'Native American/Native Alaskan'},\n",
       "   u'deaths': 21},\n",
       "  {u'_id': {u'intent': u'Accidental', u'race': u'Asian/Pacific Islander'},\n",
       "   u'deaths': 12}]}"
      ]
     },
     "execution_count": 61,
     "metadata": {},
     "output_type": "execute_result"
    }
   ],
   "source": [
    "db['guns_death_us'].aggregate([{\"$match\":{\"intent\":\"Accidental\" }}, \\\n",
    "                               {\"$group\":{\"_id\":{\"intent\": \"$intent\",\"race\":\"$race\"}, \"deaths\":{\"$sum\":1}}}, \\\n",
    "                               {\"$sort\":{ \"deaths\":-1}}])"
   ]
  },
  {
   "cell_type": "markdown",
   "metadata": {},
   "source": [
    "** 7.7 Describe impact of race on each of the top three intents ? ** <br>"
   ]
  },
  {
   "cell_type": "markdown",
   "metadata": {
    "collapsed": true
   },
   "source": [
    "Most deaths are registered by whites as they have the most deaths caused by suicide (55,359) and Accidental (1, 126). Blacks are mostly killed via Homicide (19, 498) followed by Whites (9,125). Hispanic and Native American/Native Alaskan are less affected as compared to the white and blacks. "
   ]
  },
  {
   "cell_type": "markdown",
   "metadata": {},
   "source": [
    "** 7.8 Investigate age distribution of victims on which were commited homicides ? ** <br>\n",
    "This question must be answered using an aggregation pipeline <br>\n",
    "Sort results in ascending order on age value <br>"
   ]
  },
  {
   "cell_type": "code",
   "execution_count": 62,
   "metadata": {
    "collapsed": false,
    "scrolled": true
   },
   "outputs": [
    {
     "data": {
      "text/plain": [
       "{u'ok': 1.0,\n",
       " u'result': [{u'_id': 107, u'count': 1},\n",
       "  {u'_id': 99, u'count': 1},\n",
       "  {u'_id': 97, u'count': 2},\n",
       "  {u'_id': 96, u'count': 3},\n",
       "  {u'_id': 95, u'count': 3},\n",
       "  {u'_id': 94, u'count': 2},\n",
       "  {u'_id': 93, u'count': 3},\n",
       "  {u'_id': 92, u'count': 3},\n",
       "  {u'_id': 91, u'count': 3},\n",
       "  {u'_id': 90, u'count': 10},\n",
       "  {u'_id': 89, u'count': 12},\n",
       "  {u'_id': 88, u'count': 11},\n",
       "  {u'_id': 87, u'count': 12},\n",
       "  {u'_id': 86, u'count': 11},\n",
       "  {u'_id': 85, u'count': 19},\n",
       "  {u'_id': 84, u'count': 30},\n",
       "  {u'_id': 83, u'count': 28},\n",
       "  {u'_id': 82, u'count': 20},\n",
       "  {u'_id': 81, u'count': 26},\n",
       "  {u'_id': 80, u'count': 37},\n",
       "  {u'_id': 79, u'count': 29},\n",
       "  {u'_id': 78, u'count': 46},\n",
       "  {u'_id': 77, u'count': 25},\n",
       "  {u'_id': 76, u'count': 40},\n",
       "  {u'_id': 75, u'count': 35},\n",
       "  {u'_id': 74, u'count': 43},\n",
       "  {u'_id': 73, u'count': 58},\n",
       "  {u'_id': 72, u'count': 51},\n",
       "  {u'_id': 71, u'count': 56},\n",
       "  {u'_id': 70, u'count': 54},\n",
       "  {u'_id': 69, u'count': 60},\n",
       "  {u'_id': 68, u'count': 95},\n",
       "  {u'_id': 67, u'count': 89},\n",
       "  {u'_id': 66, u'count': 106},\n",
       "  {u'_id': 65, u'count': 101},\n",
       "  {u'_id': 64, u'count': 130},\n",
       "  {u'_id': 63, u'count': 112},\n",
       "  {u'_id': 62, u'count': 155},\n",
       "  {u'_id': 61, u'count': 155},\n",
       "  {u'_id': 60, u'count': 145},\n",
       "  {u'_id': 59, u'count': 204},\n",
       "  {u'_id': 58, u'count': 203},\n",
       "  {u'_id': 57, u'count': 214},\n",
       "  {u'_id': 56, u'count': 250},\n",
       "  {u'_id': 55, u'count': 232},\n",
       "  {u'_id': 54, u'count': 261},\n",
       "  {u'_id': 53, u'count': 295},\n",
       "  {u'_id': 52, u'count': 336},\n",
       "  {u'_id': 51, u'count': 374},\n",
       "  {u'_id': 50, u'count': 387},\n",
       "  {u'_id': 49, u'count': 414},\n",
       "  {u'_id': 48, u'count': 386},\n",
       "  {u'_id': 47, u'count': 438},\n",
       "  {u'_id': 46, u'count': 401},\n",
       "  {u'_id': 45, u'count': 399},\n",
       "  {u'_id': 44, u'count': 435},\n",
       "  {u'_id': 43, u'count': 493},\n",
       "  {u'_id': 42, u'count': 537},\n",
       "  {u'_id': 41, u'count': 540},\n",
       "  {u'_id': 40, u'count': 555},\n",
       "  {u'_id': 39, u'count': 552},\n",
       "  {u'_id': 38, u'count': 625},\n",
       "  {u'_id': 37, u'count': 646},\n",
       "  {u'_id': 36, u'count': 718},\n",
       "  {u'_id': 35, u'count': 782},\n",
       "  {u'_id': 34, u'count': 867},\n",
       "  {u'_id': 33, u'count': 884},\n",
       "  {u'_id': 32, u'count': 964},\n",
       "  {u'_id': 31, u'count': 928},\n",
       "  {u'_id': 30, u'count': 993},\n",
       "  {u'_id': 29, u'count': 1054},\n",
       "  {u'_id': 28, u'count': 1119},\n",
       "  {u'_id': 27, u'count': 1135},\n",
       "  {u'_id': 26, u'count': 1245},\n",
       "  {u'_id': 25, u'count': 1300},\n",
       "  {u'_id': 24, u'count': 1442},\n",
       "  {u'_id': 23, u'count': 1459},\n",
       "  {u'_id': 22, u'count': 1628},\n",
       "  {u'_id': 21, u'count': 1570},\n",
       "  {u'_id': 20, u'count': 1467},\n",
       "  {u'_id': 19, u'count': 1364},\n",
       "  {u'_id': 18, u'count': 1138},\n",
       "  {u'_id': 17, u'count': 710},\n",
       "  {u'_id': 16, u'count': 474},\n",
       "  {u'_id': 15, u'count': 261},\n",
       "  {u'_id': 14, u'count': 125},\n",
       "  {u'_id': 13, u'count': 85},\n",
       "  {u'_id': 12, u'count': 50},\n",
       "  {u'_id': 11, u'count': 39},\n",
       "  {u'_id': 10, u'count': 37},\n",
       "  {u'_id': 9, u'count': 36},\n",
       "  {u'_id': 8, u'count': 23},\n",
       "  {u'_id': 7, u'count': 38},\n",
       "  {u'_id': 6, u'count': 37},\n",
       "  {u'_id': 5, u'count': 30},\n",
       "  {u'_id': 4, u'count': 28},\n",
       "  {u'_id': 3, u'count': 29},\n",
       "  {u'_id': 2, u'count': 22},\n",
       "  {u'_id': 1, u'count': 32},\n",
       "  {u'_id': 0, u'count': 21}]}"
      ]
     },
     "execution_count": 62,
     "metadata": {},
     "output_type": "execute_result"
    }
   ],
   "source": [
    "db['guns_death_us'].aggregate([{\"$match\":{\"intent\":\"Homicide\" }}, \\\n",
    "                               {\"$group\":{\"_id\":\"$age\",\"count\":{\"$sum\":1}}}, \\\n",
    "                               {\"$sort\":{ \"_id\":-1}}])"
   ]
  },
  {
   "cell_type": "markdown",
   "metadata": {},
   "source": [
    "** 7.9 Investigate average age of each race on which were commited at least 1000 homicides between 2012 and 2014 ? ** <br>\n",
    "This question must be answered using an aggregation pipeline <br>\n",
    "Sort results in a descending order <br>"
   ]
  },
  {
   "cell_type": "code",
   "execution_count": 63,
   "metadata": {
    "collapsed": false
   },
   "outputs": [
    {
     "data": {
      "text/plain": [
       "{u'ok': 1.0,\n",
       " u'result': [{u'_id': {u'race': u'White'},\n",
       "   u'avgAge': 40.55605479452055,\n",
       "   u'deaths': 9125},\n",
       "  {u'_id': {u'race': u'Hispanic'},\n",
       "   u'avgAge': 29.76457000710732,\n",
       "   u'deaths': 5628},\n",
       "  {u'_id': {u'race': u'Black'},\n",
       "   u'avgAge': 29.665504154272234,\n",
       "   u'deaths': 19498}]}"
      ]
     },
     "execution_count": 63,
     "metadata": {},
     "output_type": "execute_result"
    }
   ],
   "source": [
    "db['guns_death_us'].aggregate([{\"$match\":{\"year\":{\"$lte\":2014,\"$gte\":2012},\"intent\":\"Homicide\"}},\n",
    "                               {\"$group\":{\"_id\":{\"race\": \"$race\"}, \"deaths\":{\"$sum\":1},\"avgAge\":{\"$avg\":\"$age\"}}},\n",
    "                               {\"$match\":{\"deaths\":{\"$gte\":1000}}},\n",
    "                               {\"$sort\":{\"avgAge\":-1}}])"
   ]
  },
  {
   "cell_type": "markdown",
   "metadata": {},
   "source": [
    "** 7.10 Describe impact of race on age of the victims of homicides ? ** <br>"
   ]
  },
  {
   "cell_type": "markdown",
   "metadata": {
    "collapsed": true
   },
   "source": [
    "Black race are victims of homicides at a younger age (31.1) on average as compared to other races. "
   ]
  },
  {
   "cell_type": "markdown",
   "metadata": {},
   "source": [
    "** 7.11 For each race, compute minimum age of the victim when police was involved in the gun-death ? ** <br>\n",
    "This question must be answered using an aggregation pipeline <br>"
   ]
  },
  {
   "cell_type": "code",
   "execution_count": 64,
   "metadata": {
    "collapsed": false
   },
   "outputs": [
    {
     "data": {
      "text/plain": [
       "{u'ok': 1.0,\n",
       " u'result': [{u'_id': {u'race': u'Black'}, u'minAge': 12},\n",
       "  {u'_id': {u'race': u'Hispanic'}, u'minAge': 13},\n",
       "  {u'_id': {u'race': u'White'}, u'minAge': 15},\n",
       "  {u'_id': {u'race': u'Native American/Native Alaskan'}, u'minAge': 17},\n",
       "  {u'_id': {u'race': u'Asian/Pacific Islander'}, u'minAge': 19}]}"
      ]
     },
     "execution_count": 64,
     "metadata": {},
     "output_type": "execute_result"
    }
   ],
   "source": [
    "db['guns_death_us'].aggregate([{\"$match\":{\"police\":1}},\n",
    "                              {\"$group\":{\"_id\":{\"race\":\"$race\"},\"minAge\":{\"$min\":\"$age\"}}},\n",
    "                              {\"$sort\":{\"minAge\":1}}])"
   ]
  },
  {
   "cell_type": "markdown",
   "metadata": {},
   "source": [
    "** 7.12 Compare probability to be killed by accident between men and women victims ? ** <br>"
   ]
  },
  {
   "cell_type": "code",
   "execution_count": 65,
   "metadata": {
    "collapsed": false
   },
   "outputs": [
    {
     "data": {
      "text/plain": [
       "{u'ok': 1.0,\n",
       " u'result': [{u'_id': {u'sex': u'F'}, u'deaths': 215},\n",
       "  {u'_id': {u'sex': u'M'}, u'deaths': 1410}]}"
      ]
     },
     "execution_count": 65,
     "metadata": {},
     "output_type": "execute_result"
    }
   ],
   "source": [
    "db['guns_death_us'].aggregate([{\"$match\":{\"intent\":\"Accidental\"}},\n",
    "                              {\"$group\":{\"_id\":{\"sex\":\"$sex\"},\"deaths\":{\"$sum\":1}}}])"
   ]
  },
  {
   "cell_type": "code",
   "execution_count": 66,
   "metadata": {
    "collapsed": false
   },
   "outputs": [
    {
     "name": "stdout",
     "output_type": "stream",
     "text": [
      "0.867692307692\n",
      "0.132307692308\n"
     ]
    }
   ],
   "source": [
    "prob_male = float(1410)/float((1410+215))\n",
    "prob_female = float(215)/float((1410+215))\n",
    "print prob_male \n",
    "print prob_female"
   ]
  },
  {
   "cell_type": "markdown",
   "metadata": {},
   "source": [
    "** 7.13 Group gun-death by place-sex pair values and count the number of occurences for each pair value ** <br>\n",
    "This question must be answered using an aggregation pipeline <br>\n",
    "Sort results in a descending order <br>\n",
    "Example of place-sex pair value: {'place': 'Home', 'sex': 'M'}"
   ]
  },
  {
   "cell_type": "code",
   "execution_count": 67,
   "metadata": {
    "collapsed": false
   },
   "outputs": [
    {
     "data": {
      "text/plain": [
       "{u'ok': 1.0,\n",
       " u'result': [{u'Freq': 50185, u'_id': {u'place': u'Home', u'sex': u'M'}},\n",
       "  {u'Freq': 12297, u'_id': {u'place': u'Other specified', u'sex': u'M'}},\n",
       "  {u'Freq': 10310, u'_id': {u'place': u'Street', u'sex': u'M'}},\n",
       "  {u'Freq': 10258, u'_id': {u'place': u'Home', u'sex': u'F'}},\n",
       "  {u'Freq': 7657, u'_id': {u'place': u'Other unspecified', u'sex': u'M'}},\n",
       "  {u'Freq': 3043, u'_id': {u'place': u'Trade/service area', u'sex': u'M'}},\n",
       "  {u'Freq': 1442, u'_id': {u'place': u'Other specified', u'sex': u'F'}},\n",
       "  {u'Freq': 1321, u'_id': {u'place': u'NA', u'sex': u'M'}},\n",
       "  {u'Freq': 1200, u'_id': {u'place': u'Other unspecified', u'sex': u'F'}},\n",
       "  {u'Freq': 838, u'_id': {u'place': u'Street', u'sex': u'F'}},\n",
       "  {u'Freq': 561, u'_id': {u'place': u'School/instiution', u'sex': u'M'}},\n",
       "  {u'Freq': 419, u'_id': {u'place': u'Farm', u'sex': u'M'}},\n",
       "  {u'Freq': 396, u'_id': {u'place': u'Trade/service area', u'sex': u'F'}},\n",
       "  {u'Freq': 228, u'_id': {u'place': u'Industrial/construction', u'sex': u'M'}},\n",
       "  {u'Freq': 163, u'_id': {u'place': u'Residential institution', u'sex': u'M'}},\n",
       "  {u'Freq': 116, u'_id': {u'place': u'Sports', u'sex': u'M'}},\n",
       "  {u'Freq': 109, u'_id': {u'place': u'School/instiution', u'sex': u'F'}},\n",
       "  {u'Freq': 63, u'_id': {u'place': u'NA', u'sex': u'F'}},\n",
       "  {u'Freq': 49, u'_id': {u'place': u'Farm', u'sex': u'F'}},\n",
       "  {u'Freq': 40, u'_id': {u'place': u'Residential institution', u'sex': u'F'}},\n",
       "  {u'Freq': 20, u'_id': {u'place': u'Industrial/construction', u'sex': u'F'}},\n",
       "  {u'Freq': 12, u'_id': {u'place': u'Sports', u'sex': u'F'}}]}"
      ]
     },
     "execution_count": 67,
     "metadata": {},
     "output_type": "execute_result"
    }
   ],
   "source": [
    "db['guns_death_us'].aggregate([{\"$group\":{\"_id\":{\"place\":\"$place\",\"sex\":\"$sex\"},\"Freq\":{\"$sum\":1}}},\n",
    "                              {\"$sort\":{\"Freq\":-1}}])"
   ]
  },
  {
   "cell_type": "markdown",
   "metadata": {},
   "source": [
    "** 7.14 Ask yourself a question about gun-deaths and find an answer by querying CDC dataset** <br>\n",
    "Explain your question and how you answered it. "
   ]
  },
  {
   "cell_type": "markdown",
   "metadata": {
    "collapsed": true
   },
   "source": [
    "Number of homicide per year?"
   ]
  },
  {
   "cell_type": "code",
   "execution_count": 68,
   "metadata": {
    "collapsed": false
   },
   "outputs": [
    {
     "data": {
      "text/plain": [
       "{u'ok': 1.0,\n",
       " u'result': [{u'Total': 33584, u'_id': {u'year': 2014}},\n",
       "  {u'Total': 33607, u'_id': {u'year': 2013}},\n",
       "  {u'Total': 33536, u'_id': {u'year': 2012}}]}"
      ]
     },
     "execution_count": 68,
     "metadata": {},
     "output_type": "execute_result"
    }
   ],
   "source": [
    "db['guns_death_us'].aggregate([{\"$group\":{\"_id\":{\"year\":\"$year\"},\"Total\":{\"$sum\":1}}}])"
   ]
  },
  {
   "cell_type": "markdown",
   "metadata": {},
   "source": [
    "** 7.15 Write a 10 lines conclusion on interesting insights that can be drawn from your exploration of the CDC dataset **"
   ]
  },
  {
   "cell_type": "markdown",
   "metadata": {
    "collapsed": true
   },
   "source": [
    "- Young black males are killed on average more than any other race\n",
    "- Most of the homicides in the US occur at homes\n",
    "- Women in general is less likely to killed in the US\n",
    "- Generally White men are killed more in the US\n",
    "- The amount of deaths from homicide for 2012 to 2014 was roughly thesame with 2013 been the highest"
   ]
  },
  {
   "cell_type": "code",
   "execution_count": null,
   "metadata": {
    "collapsed": true
   },
   "outputs": [],
   "source": []
  }
 ],
 "metadata": {
  "kernelspec": {
   "display_name": "Python 2",
   "language": "python",
   "name": "python2"
  },
  "language_info": {
   "codemirror_mode": {
    "name": "ipython",
    "version": 2
   },
   "file_extension": ".py",
   "mimetype": "text/x-python",
   "name": "python",
   "nbconvert_exporter": "python",
   "pygments_lexer": "ipython2",
   "version": "2.7.12"
  }
 },
 "nbformat": 4,
 "nbformat_minor": 1
}
