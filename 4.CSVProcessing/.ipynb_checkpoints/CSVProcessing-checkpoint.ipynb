{
 "cells": [
  {
   "cell_type": "markdown",
   "metadata": {},
   "source": [
    "# Data Acquisition: CSV processing"
   ]
  },
  {
   "cell_type": "markdown",
   "metadata": {},
   "source": [
    "Hi everyone, <br />\n",
    "\n",
    "This session deals with CSV processing, which is a significant source of data acquisition.\n",
    "\n",
    "It will walk you though the following sections:\n",
    "\n",
    "1. CSV document\n",
    "2. CSV processing\n",
    "3. Features engineering\n",
    "4. Import Titanic data in MongoDB\n",
    "5. Import Hillary emails in MongoDB"
   ]
  },
  {
   "cell_type": "markdown",
   "metadata": {},
   "source": [
    "## 1. CSV document"
   ]
  },
  {
   "cell_type": "markdown",
   "metadata": {},
   "source": [
    "** What is a CSV file ? **"
   ]
  },
  {
   "cell_type": "markdown",
   "metadata": {},
   "source": [
    "CSV files are used to store tabular data in plain text. <br\\>\n",
    "You can think of tabular data as data that can fit a spreadsheet. <br\\>\n",
    "Each line of the file is a data record and each field in the line is separated by a comma. <br\\>\n",
    "CSV stands for comma-separated values."
   ]
  },
  {
   "cell_type": "markdown",
   "metadata": {},
   "source": [
    "** Titanic CSV dataset **"
   ]
  },
  {
   "cell_type": "markdown",
   "metadata": {},
   "source": [
    "In this module, we introduce the CSV file processing with a practical case study. We will use a CSV file with data about passengers from the Titanic. The file contains biographical and travel data about the passengers and indicates whether they survived the sinking or not. Later in the course this dataset will be used to train a machine learning model able to predict the survival of a passenger.<br>"
   ]
  },
  {
   "cell_type": "markdown",
   "metadata": {},
   "source": [
    "CSV file is named \"titanic_passengers_train.csv\" and is contained in the folder named \"titanic_data\". Each row describes a passenger with following variables:\n",
    "<br>\n",
    "<br>- <b>PassengerId</b>: Unique ID of the passenger\n",
    "<br>- <b>Survived</b>: Indicates if the passenger survived or not\n",
    "<br>- <b>Pclass</b>:  Passenger class (1 = 1st; 2 = 2nd; 3 = 3rd)\n",
    "<br>- <b>Name</b>\n",
    "<br>- <b>BirthDate</b>\n",
    "<br>- <b>SibSp</b>: Number of Siblings/Spouses Aboard\n",
    "<br>- <b>Parch</b>: Number of Parents/Children Aboard\n",
    "<br>- <b>Fare</b>: Passenger Fare\n",
    "<br>- <b>Cabin</b>: Cabin number\n",
    "<br>- <b>Embarked</b>: Port of Embarkation (C = Cherbourg; Q = Queenstown; S = Southampton)\n",
    "<br><br>"
   ]
  },
  {
   "cell_type": "markdown",
   "metadata": {},
   "source": [
    "**1.1 Can you open \"titanic_passengers_train.csv\" file with Excel and visualize the data ?**"
   ]
  },
  {
   "cell_type": "markdown",
   "metadata": {},
   "source": [
    "## 2. CSV Processing"
   ]
  },
  {
   "cell_type": "code",
   "execution_count": 1,
   "metadata": {
    "collapsed": false
   },
   "outputs": [],
   "source": [
    "import unicodecsv\n",
    "from datetime import datetime, timedelta\n",
    "from pymongo import MongoClient\n",
    "from pprint import pprint\n",
    "db = MongoClient()[\"Solvay\"]"
   ]
  },
  {
   "cell_type": "markdown",
   "metadata": {},
   "source": [
    "** Load CSV file in Python **"
   ]
  },
  {
   "cell_type": "markdown",
   "metadata": {},
   "source": [
    "This step of the process aims to open the CSV file and to make it interpretable by Python. <br>\n",
    "\n",
    "Unicodecsv library imports CSV data in Python. <br\\>\n",
    "\n",
    "DictReader object encodes each row in a dictionary where: <br\\>\n",
    "- the key is the variable name <br\\>\n",
    "- the value is the information related to the variable for the current row <br\\>"
   ]
  },
  {
   "cell_type": "markdown",
   "metadata": {},
   "source": [
    "**2.1 Can you import \"titanic_passengers_train.csv\" file in python and print the dictionaries ?**"
   ]
  },
  {
   "cell_type": "code",
   "execution_count": null,
   "metadata": {
    "collapsed": true
   },
   "outputs": [],
   "source": [
    "reader = unicodecsv.DictReader(open(\"./titanic_data/titanic_passengers_train.csv\"), quotechar=..., delimiter=...)\n",
    "\n",
    "for line in reader:\n",
    "    print line\n",
    "    print \" \""
   ]
  },
  {
   "cell_type": "markdown",
   "metadata": {},
   "source": [
    "## 3. Features engineering"
   ]
  },
  {
   "cell_type": "markdown",
   "metadata": {},
   "source": [
    "It is often the case that new features can be identified from existing features. <br\\>\n",
    "It is then interesting to create new variables if it fits your needs. <br\\>\n",
    "This process is called 'features engineering'."
   ]
  },
  {
   "cell_type": "markdown",
   "metadata": {},
   "source": [
    "** Get gender from passenger name **\n",
    "\n",
    "As you can see in the CSV file, each entry has a name and his name contains a title (\"Miss.\", \"Mrs.\" or \"Mr.\"). We can use this information in order to feature engineered passengers'gender. "
   ]
  },
  {
   "cell_type": "markdown",
   "metadata": {},
   "source": [
    "** 3.1 Can you create a function named 'get_gender_from_name' that takes a string as input (passenger's name) and outputs: ** <br>\n",
    "\"f\" if it's a woman <br>\n",
    "\"m\" if it's a man <br>\n",
    "\"null\" if it's unknown <br>"
   ]
  },
  {
   "cell_type": "code",
   "execution_count": null,
   "metadata": {
    "collapsed": true
   },
   "outputs": [],
   "source": []
  },
  {
   "cell_type": "markdown",
   "metadata": {},
   "source": [
    "**3.2 Can you test your function with the following names ?**\n",
    "\"Mrs. Robinson\",\n",
    "\"Mr. Tikkeling\",\n",
    "\"Miss. Smith\",\n",
    "\"Albert\""
   ]
  },
  {
   "cell_type": "code",
   "execution_count": null,
   "metadata": {
    "collapsed": false
   },
   "outputs": [],
   "source": []
  },
  {
   "cell_type": "markdown",
   "metadata": {
    "collapsed": true
   },
   "source": [
    "** Transform the \"Survived\" variable **\n",
    "\n",
    "The \"survived\" variable is currently encoded in a string \"1\" or \"0\". As it will be the \"answer\" in the statistical model, it could be relevant to cast it in a boolean type (True/False).\n",
    "\n",
    "**3.3 Can you create a function named \"cast_survived_in_boolean\" that transforms the variable \"survived\" (1 or 0) in a boolean form (True or False) ? **\n",
    "\n",
    "Note: you must first cast the variable from string to integer, and then transform the integer into a boolean variable."
   ]
  },
  {
   "cell_type": "code",
   "execution_count": 16,
   "metadata": {
    "collapsed": true
   },
   "outputs": [],
   "source": []
  },
  {
   "cell_type": "markdown",
   "metadata": {},
   "source": [
    "**3.4 Can you test your function with the following values ?**\n",
    "\"1\",\n",
    "\"0\""
   ]
  },
  {
   "cell_type": "code",
   "execution_count": 10,
   "metadata": {
    "collapsed": false
   },
   "outputs": [
    {
     "name": "stdout",
     "output_type": "stream",
     "text": [
      "True\n",
      "False\n"
     ]
    }
   ],
   "source": []
  },
  {
   "cell_type": "markdown",
   "metadata": {},
   "source": [
    "# 4. Import Titanic data in MongoDB"
   ]
  },
  {
   "cell_type": "markdown",
   "metadata": {},
   "source": [
    "Once imported in Python, data can be transformed and imported in a MongoDB database. "
   ]
  },
  {
   "cell_type": "markdown",
   "metadata": {
    "collapsed": true
   },
   "source": [
    "**4.1 Can you import passengers data in Python,<br> **\n",
    "**compute 'gender' and 'survival boolean' for each document,<br> **\n",
    "**and import it in a MongoDB collection called 'titanic_passengers'**"
   ]
  },
  {
   "cell_type": "code",
   "execution_count": 21,
   "metadata": {
    "collapsed": true
   },
   "outputs": [],
   "source": []
  },
  {
   "cell_type": "markdown",
   "metadata": {},
   "source": [
    "**4.2 Try to get one of the passengers from the new collection ?**"
   ]
  },
  {
   "cell_type": "code",
   "execution_count": null,
   "metadata": {
    "collapsed": false
   },
   "outputs": [],
   "source": []
  },
  {
   "cell_type": "markdown",
   "metadata": {},
   "source": [
    "# 5. Import Hillary emails in MongoDB"
   ]
  },
  {
   "cell_type": "markdown",
   "metadata": {},
   "source": [
    "Register to Kaggle website: \"https://www.kaggle.com/\" <br>\n",
    "Download data on Hillary Clinton's Emails: https://www.kaggle.com/kaggle/hillary-clinton-emails <br>\n",
    "Import first 10.000 emails in your MongoDB Solvay database under the name \"hillary_emails\" <br>\n",
    "Investigate how often and why Hillary is refering to Vladimir Putin on her emails <br>"
   ]
  },
  {
   "cell_type": "code",
   "execution_count": 24,
   "metadata": {
    "collapsed": true
   },
   "outputs": [],
   "source": []
  },
  {
   "cell_type": "code",
   "execution_count": null,
   "metadata": {
    "collapsed": false
   },
   "outputs": [],
   "source": []
  },
  {
   "cell_type": "code",
   "execution_count": null,
   "metadata": {
    "collapsed": false
   },
   "outputs": [],
   "source": []
  },
  {
   "cell_type": "code",
   "execution_count": null,
   "metadata": {
    "collapsed": true
   },
   "outputs": [],
   "source": []
  }
 ],
 "metadata": {
  "anaconda-cloud": {},
  "kernelspec": {
   "display_name": "Python 2",
   "language": "python",
   "name": "python2"
  },
  "language_info": {
   "codemirror_mode": {
    "name": "ipython",
    "version": 2
   },
   "file_extension": ".py",
   "mimetype": "text/x-python",
   "name": "python",
   "nbconvert_exporter": "python",
   "pygments_lexer": "ipython2",
   "version": "2.7.12"
  }
 },
 "nbformat": 4,
 "nbformat_minor": 2
}
