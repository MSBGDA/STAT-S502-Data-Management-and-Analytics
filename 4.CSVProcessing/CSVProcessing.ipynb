{
 "cells": [
  {
   "cell_type": "markdown",
   "metadata": {},
   "source": [
    "# Data Acquisition: CSV processing"
   ]
  },
  {
   "cell_type": "markdown",
   "metadata": {},
   "source": [
    "Hi everyone, <br />\n",
    "\n",
    "This session deals with CSV processing, which is a significant source of data acquisition.\n",
    "\n",
    "It will walk you though the following sections:\n",
    "\n",
    "1. CSV document\n",
    "2. CSV processing\n",
    "3. Features engineering\n",
    "4. Import Titanic data in MongoDB\n",
    "5. Import Hillary emails in MongoDB"
   ]
  },
  {
   "cell_type": "markdown",
   "metadata": {},
   "source": [
    "## 1. CSV document"
   ]
  },
  {
   "cell_type": "markdown",
   "metadata": {},
   "source": [
    "** What is a CSV file ? **"
   ]
  },
  {
   "cell_type": "markdown",
   "metadata": {},
   "source": [
    "CSV files are used to store tabular data in plain text. <br\\>\n",
    "You can think of tabular data as data that can fit a spreadsheet. <br\\>\n",
    "Each line of the file is a data record and each field in the line is separated by a comma. <br\\>\n",
    "CSV stands for comma-separated values."
   ]
  },
  {
   "cell_type": "markdown",
   "metadata": {},
   "source": [
    "** Titanic CSV dataset **"
   ]
  },
  {
   "cell_type": "markdown",
   "metadata": {},
   "source": [
    "In this module, we introduce the CSV file processing with a practical case study. We will use a CSV file with data about passengers from the Titanic. The file contains biographical and travel data about the passengers and indicates whether they survived the sinking or not. Later in the course this dataset will be used to train a machine learning model able to predict the survival of a passenger.<br>"
   ]
  },
  {
   "cell_type": "markdown",
   "metadata": {},
   "source": [
    "CSV file is named \"titanic_passengers_train.csv\" and is contained in the folder named \"titanic_data\". Each row describes a passenger with following variables:\n",
    "<br>\n",
    "<br>- <b>PassengerId</b>: Unique ID of the passenger\n",
    "<br>- <b>Survived</b>: Indicates if the passenger survived or not\n",
    "<br>- <b>Pclass</b>:  Passenger class (1 = 1st; 2 = 2nd; 3 = 3rd)\n",
    "<br>- <b>Name</b>\n",
    "<br>- <b>BirthDate</b>\n",
    "<br>- <b>SibSp</b>: Number of Siblings/Spouses Aboard\n",
    "<br>- <b>Parch</b>: Number of Parents/Children Aboard\n",
    "<br>- <b>Fare</b>: Passenger Fare\n",
    "<br>- <b>Cabin</b>: Cabin number\n",
    "<br>- <b>Embarked</b>: Port of Embarkation (C = Cherbourg; Q = Queenstown; S = Southampton)\n",
    "<br><br>"
   ]
  },
  {
   "cell_type": "markdown",
   "metadata": {},
   "source": [
    "**1.1 Can you open \"titanic_passengers_train.csv\" file with Excel and visualize the data ?**"
   ]
  },
  {
   "cell_type": "markdown",
   "metadata": {},
   "source": [
    "## 2. CSV Processing"
   ]
  },
  {
   "cell_type": "code",
   "execution_count": 1,
   "metadata": {
    "collapsed": false
   },
   "outputs": [],
   "source": [
    "import unicodecsv\n",
    "from datetime import datetime, timedelta\n",
    "from pymongo import MongoClient\n",
    "from pprint import pprint\n",
    "db = MongoClient()[\"Solvay\"]\n",
    "import pprint\n",
    "pp = pprint.PrettyPrinter(depth=6)"
   ]
  },
  {
   "cell_type": "markdown",
   "metadata": {},
   "source": [
    "** Load CSV file in Python **"
   ]
  },
  {
   "cell_type": "markdown",
   "metadata": {},
   "source": [
    "This step of the process aims to open the CSV file and to make it interpretable by Python. <br>\n",
    "\n",
    "Unicodecsv library imports CSV data in Python. <br\\>\n",
    "\n",
    "DictReader object encodes each row in a dictionary where: <br\\>\n",
    "- the key is the variable name <br\\>\n",
    "- the value is the information related to the variable for the current row <br\\>"
   ]
  },
  {
   "cell_type": "markdown",
   "metadata": {},
   "source": [
    "**2.1 Can you import \"titanic_passengers_train.csv\" file in python and print the dictionaries ?**"
   ]
  },
  {
   "cell_type": "code",
   "execution_count": 72,
   "metadata": {
    "collapsed": false,
    "scrolled": true
   },
   "outputs": [
    {
     "name": "stdout",
     "output_type": "stream",
     "text": [
      "{u'Fare': u'7.25', u'Name': u'Braund, Mr. Owen Harris', u'Embarked': u'S', u'Parch': u'0', u'BirthDate': u'1890-01-09', u'Pclass': u'3', u'Survived': u'0', u'SibSp': u'1', u'PassengerId': u'1', u'Ticket': u'A/5 21171', u'Cabin': u''}\n",
      " \n",
      "{u'Fare': u'71.2833', u'Name': u'Cumings, Mrs. John Bradley (Florence Briggs Thayer)', u'Embarked': u'C', u'Parch': u'0', u'BirthDate': u'1874-03-23', u'Pclass': u'1', u'Survived': u'1', u'SibSp': u'1', u'PassengerId': u'2', u'Ticket': u'PC 17599', u'Cabin': u'C85'}\n",
      " \n",
      "{u'Fare': u'7.925', u'Name': u'Heikkinen, Miss. Laina', u'Embarked': u'S', u'Parch': u'0', u'BirthDate': u'1886-04-06', u'Pclass': u'3', u'Survived': u'1', u'SibSp': u'0', u'PassengerId': u'3', u'Ticket': u'STON/O2. 3101282', u'Cabin': u''}\n",
      " \n",
      "{u'Fare': u'53.1', u'Name': u'Futrelle, Mrs. Jacques Heath (Lily May Peel)', u'Embarked': u'S', u'Parch': u'0', u'BirthDate': u'1876-09-16', u'Pclass': u'1', u'Survived': u'1', u'SibSp': u'1', u'PassengerId': u'4', u'Ticket': u'113803', u'Cabin': u'C123'}\n",
      " \n"
     ]
    }
   ],
   "source": [
    "reader = unicodecsv.DictReader(open(\"./titanic_data/titanic_passengers_train.csv\"), quotechar='\"', delimiter=',')\n",
    "count = 0\n",
    "for line in reader:\n",
    "    if count <= 3:\n",
    "        print line\n",
    "        print \" \"\n",
    "        count +=1\n",
    "    else:\n",
    "        pass"
   ]
  },
  {
   "cell_type": "markdown",
   "metadata": {},
   "source": [
    "## 3. Features engineering"
   ]
  },
  {
   "cell_type": "markdown",
   "metadata": {},
   "source": [
    "It is often the case that new features can be identified from existing features. <br\\>\n",
    "It is then interesting to create new variables if it fits your needs. <br\\>\n",
    "This process is called 'features engineering'."
   ]
  },
  {
   "cell_type": "markdown",
   "metadata": {},
   "source": [
    "** Get gender from passenger name **\n",
    "\n",
    "As you can see in the CSV file, each entry has a name and his name contains a title (\"Miss.\", \"Mrs.\" or \"Mr.\"). We can use this information in order to feature engineered passengers'gender. "
   ]
  },
  {
   "cell_type": "markdown",
   "metadata": {},
   "source": [
    "** 3.1 Can you create a function named 'get_gender_from_name' that takes a string as input (passenger's name) and outputs: ** <br>\n",
    "\"f\" if it's a woman <br>\n",
    "\"m\" if it's a man <br>\n",
    "\"null\" if it's unknown <br>"
   ]
  },
  {
   "cell_type": "code",
   "execution_count": 89,
   "metadata": {
    "collapsed": false
   },
   "outputs": [],
   "source": [
    "def get_gender_from_name(p_name=None):\n",
    "    if p_name == None:\n",
    "        return 'Null'\n",
    "    else:\n",
    "        if 'mrs' in p_name.lower().strip() or 'miss' in p_name.lower().strip():\n",
    "            return \"f\"\n",
    "        elif 'mr' in p_name.lower().strip():\n",
    "            return \"m\"\n",
    "    "
   ]
  },
  {
   "cell_type": "markdown",
   "metadata": {},
   "source": [
    "**3.2 Can you test your function with the following names ?**\n",
    "\"Mrs. Robinson\",\n",
    "\"Mr. Tikkeling\",\n",
    "\"Miss. Smith\",\n",
    "\"Albert\""
   ]
  },
  {
   "cell_type": "code",
   "execution_count": 88,
   "metadata": {
    "collapsed": false
   },
   "outputs": [
    {
     "data": {
      "text/plain": [
       "'Null'"
      ]
     },
     "execution_count": 88,
     "metadata": {},
     "output_type": "execute_result"
    }
   ],
   "source": [
    "get_gender_from_name()"
   ]
  },
  {
   "cell_type": "markdown",
   "metadata": {
    "collapsed": true
   },
   "source": [
    "** Transform the \"Survived\" variable **\n",
    "\n",
    "The \"survived\" variable is currently encoded in a string \"1\" or \"0\". As it will be the \"answer\" in the statistical model, it could be relevant to cast it in a boolean type (True/False).\n",
    "\n",
    "**3.3 Can you create a function named \"cast_survived_in_boolean\" that transforms the variable \"survived\" (1 or 0) in a boolean form (True or False) ? **\n",
    "\n",
    "Note: you must first cast the variable from string to integer, and then transform the integer into a boolean variable."
   ]
  },
  {
   "cell_type": "code",
   "execution_count": 73,
   "metadata": {
    "collapsed": true
   },
   "outputs": [],
   "source": [
    "for line in reader:\n",
    "    line[\"Survived\"] = bool(int(line[\"Survived\"]))"
   ]
  },
  {
   "cell_type": "code",
   "execution_count": 74,
   "metadata": {
    "collapsed": true
   },
   "outputs": [],
   "source": [
    "def cast_survived_in_boolean(arg):\n",
    "    result = bool(int(arg))\n",
    "    return result"
   ]
  },
  {
   "cell_type": "code",
   "execution_count": 79,
   "metadata": {
    "collapsed": false
   },
   "outputs": [
    {
     "data": {
      "text/plain": [
       "False"
      ]
     },
     "execution_count": 79,
     "metadata": {},
     "output_type": "execute_result"
    }
   ],
   "source": [
    "'it' in \"ring\""
   ]
  },
  {
   "cell_type": "markdown",
   "metadata": {},
   "source": [
    "**3.4 Can you test your function with the following values ?**\n",
    "\"1\",\n",
    "\"0\""
   ]
  },
  {
   "cell_type": "code",
   "execution_count": 60,
   "metadata": {
    "collapsed": false
   },
   "outputs": [
    {
     "name": "stdout",
     "output_type": "stream",
     "text": [
      "True\n"
     ]
    }
   ],
   "source": [
    "print(cast_survived_in_boolean(\"1\"))"
   ]
  },
  {
   "cell_type": "markdown",
   "metadata": {},
   "source": [
    "# 4. Import Titanic data in MongoDB"
   ]
  },
  {
   "cell_type": "markdown",
   "metadata": {},
   "source": [
    "Once imported in Python, data can be transformed and imported in a MongoDB database. "
   ]
  },
  {
   "cell_type": "markdown",
   "metadata": {
    "collapsed": true
   },
   "source": [
    "**4.1 Can you import passengers data in Python,<br> **\n",
    "**compute 'gender' and 'survival boolean' for each document,<br> **\n",
    "**and import it in a MongoDB collection called 'titanic_passengers'**"
   ]
  },
  {
   "cell_type": "code",
   "execution_count": 102,
   "metadata": {
    "collapsed": false,
    "scrolled": true
   },
   "outputs": [],
   "source": [
    "reader = unicodecsv.DictReader(open(\"./titanic_data/titanic_passengers_train.csv\"), quotechar='\"', delimiter=',')\n",
    "for line in reader:\n",
    "    line['Survived'] = cast_survived_in_boolean(line['Survived'])   \n",
    "    line['gender'] = get_gender_from_name(line['Name'])\n",
    "    db['titanic_passengers'].save(line)"
   ]
  },
  {
   "cell_type": "markdown",
   "metadata": {},
   "source": [
    "**4.2 Try to get one of the passengers from the new collection ?**"
   ]
  },
  {
   "cell_type": "code",
   "execution_count": 2,
   "metadata": {
    "collapsed": false
   },
   "outputs": [
    {
     "name": "stdout",
     "output_type": "stream",
     "text": [
      "{u'BirthDate': u'1890-01-09',\n",
      " u'Cabin': u'',\n",
      " u'Embarked': u'S',\n",
      " u'Fare': u'7.25',\n",
      " u'Gender': u'm',\n",
      " u'Name': u'Braund, Mr. Owen Harris',\n",
      " u'Parch': u'0',\n",
      " u'PassengerId': u'1',\n",
      " u'Pclass': u'3',\n",
      " u'SibSp': u'1',\n",
      " u'Survived': u'0',\n",
      " u'Survived_Boolean': False,\n",
      " u'Ticket': u'A/5 21171',\n",
      " u'_id': ObjectId('5890aea901651c192c959004')}\n"
     ]
    }
   ],
   "source": [
    "record = db['titanic_passengers'].find_one()\n",
    "pp.pprint(record)"
   ]
  },
  {
   "cell_type": "markdown",
   "metadata": {},
   "source": [
    "# 5. Import Hillary emails in MongoDB"
   ]
  },
  {
   "cell_type": "markdown",
   "metadata": {},
   "source": [
    "Register to Kaggle website: \"https://www.kaggle.com/\" <br>\n",
    "Download data on Hillary Clinton's Emails: https://www.kaggle.com/kaggle/hillary-clinton-emails <br>\n",
    "Import first 10.000 emails in your MongoDB Solvay database under the name \"hillary_emails\" <br>\n",
    "Investigate how often and why Hillary is refering to Vladimir Putin on her emails <br>"
   ]
  },
  {
   "cell_type": "code",
   "execution_count": 16,
   "metadata": {
    "collapsed": false
   },
   "outputs": [],
   "source": [
    "reader = unicodecsv.DictReader(open(\"Emails.csv\"), quotechar='\"', delimiter=',')\n",
    "count = 0\n",
    "for line in reader:\n",
    "    if count <=10000:\n",
    "        db['hillary_emails'].save(line)\n",
    "        count = db['hillary_emails'].find().count()\n",
    "    else:\n",
    "        break"
   ]
  },
  {
   "cell_type": "code",
   "execution_count": 14,
   "metadata": {
    "collapsed": false
   },
   "outputs": [
    {
     "name": "stdout",
     "output_type": "stream",
     "text": [
      "7945\n"
     ]
    }
   ],
   "source": [
    "reader = unicodecsv.DictReader(open(\"Emails.csv\"), quotechar='\"', delimiter=',')\n",
    "count = 0\n",
    "for line in reader:\n",
    "    count += 1\n",
    "print count"
   ]
  },
  {
   "cell_type": "code",
   "execution_count": 17,
   "metadata": {
    "collapsed": true
   },
   "outputs": [],
   "source": [
    "db.drop_collection('hillary_emails')"
   ]
  },
  {
   "cell_type": "code",
   "execution_count": 8,
   "metadata": {
    "collapsed": false
   },
   "outputs": [
    {
     "name": "stdout",
     "output_type": "stream",
     "text": [
      "{u'DocNumber': u'C05739545',\n",
      " u'ExtractedBodyText': u'',\n",
      " u'ExtractedCaseNumber': u'F-2015-04841',\n",
      " u'ExtractedCc': u'',\n",
      " u'ExtractedDateReleased': u'05/13/2015',\n",
      " u'ExtractedDateSent': u'Wednesday, September 12, 2012 10:16 AM',\n",
      " u'ExtractedDocNumber': u'C05739545',\n",
      " u'ExtractedFrom': u'Sullivan, Jacob J <Sullivan11@state.gov>',\n",
      " u'ExtractedReleaseInPartOrFull': u'RELEASE IN FULL',\n",
      " u'ExtractedSubject': u'FW: Wow',\n",
      " u'ExtractedTo': u'',\n",
      " u'Id': u'1',\n",
      " u'MetadataCaseNumber': u'F-2015-04841',\n",
      " u'MetadataDateReleased': u'2015-05-22T04:00:00+00:00',\n",
      " u'MetadataDateSent': u'2012-09-12T04:00:00+00:00',\n",
      " u'MetadataDocumentClass': u'HRC_Email_296',\n",
      " u'MetadataFrom': u'Sullivan, Jacob J',\n",
      " u'MetadataPdfLink': u'DOCUMENTS/HRC_Email_1_296/HRCH2/DOC_0C05739545/C05739545.pdf',\n",
      " u'MetadataSubject': u'WOW',\n",
      " u'MetadataTo': u'H',\n",
      " u'RawText': u'UNCLASSIFIED\\nU.S. Department of State\\nCase No. F-2015-04841\\nDoc No. C05739545\\nDate: 05/13/2015\\nSTATE DEPT. - PRODUCED TO HOUSE SELECT BENGHAZI COMM.\\nSUBJECT TO AGREEMENT ON SENSITIVE INFORMATION & REDACTIONS. NO FOIA WAIVER.\\nRELEASE IN FULL\\nFrom: Sullivan, Jacob J <Sullivan11@state.gov>\\nSent: Wednesday, September 12, 2012 10:16 AM\\nTo:\\nSubject: FW: Wow\\nFrom: Brose, Christian (Armed Services) (mailto:Christian_Brose@armed-servic,essenate.govi\\nSent: Wednesday, September 12, 2012 10:09 AM\\nTo: Sullivan, Jacob J\\nSubject: Wow\\nWhat a wonderful, strong and moving statement by your boss. please tell her how much Sen. McCain appreciated it. Me\\ntoo\\nUNCLASSIFIED\\nU.S. Department of State\\nCase No. F-2015-04841\\nDoc No. C05739545\\nDate: 05/13/2015\\nSTATE DEPT. - PRODUCED TO HOUSE SELECT BENGHAZI COMM.\\nSUBJECT TO AGREEMENT ON SENSITIVE INFORMATION & REDACTIONS. NO FOIA WAIVER. STATE-5CB0045247\\n\\x0c',\n",
      " u'SenderPersonId': u'87',\n",
      " u'_id': ObjectId('6042525201651c08cfd3fbb6')}\n"
     ]
    }
   ],
   "source": [
    "record = db['hillary_emails'].find_one()\n",
    "pp.pprint(record)"
   ]
  },
  {
   "cell_type": "code",
   "execution_count": 12,
   "metadata": {
    "collapsed": false
   },
   "outputs": [
    {
     "data": {
      "text/plain": [
       "7945"
      ]
     },
     "execution_count": 12,
     "metadata": {},
     "output_type": "execute_result"
    }
   ],
   "source": [
    "db['hillary_emails'].find().count()"
   ]
  },
  {
   "cell_type": "code",
   "execution_count": null,
   "metadata": {
    "collapsed": true
   },
   "outputs": [],
   "source": []
  }
 ],
 "metadata": {
  "anaconda-cloud": {},
  "kernelspec": {
   "display_name": "Python 2",
   "language": "python",
   "name": "python2"
  },
  "language_info": {
   "codemirror_mode": {
    "name": "ipython",
    "version": 2
   },
   "file_extension": ".py",
   "mimetype": "text/x-python",
   "name": "python",
   "nbconvert_exporter": "python",
   "pygments_lexer": "ipython2",
   "version": "2.7.12"
  }
 },
 "nbformat": 4,
 "nbformat_minor": 2
}
